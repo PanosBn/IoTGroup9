{
 "cells": [
  {
   "cell_type": "markdown",
   "metadata": {},
   "source": [
    "# Practical: Data Analysis\n",
    "\n",
    "In this assignment you will experiment with\n",
    "\n",
    "- exploring the data collected from a home, a weather station around the Eindhoven area, and the Dutch government measurements regarding COVID-19, \n",
    "- building a predictive model for estimating the amount of electricity consumed at the home given the current COVID-19 restrictions and weather forecast.\n",
    "\n",
    "This notebook will guide you through the typical steps that such work would involve. It demonstrates how to explore and clean the data, and how to use it to train predictive models.\n",
    "\n",
    "#### Goal\n",
    "\n",
    "Your task is to train a model on the time series data containing:\n",
    "\n",
    "- measurements of the amount of electricity produced by the solar panels on the roof of a home in the Eindhoven area,\n",
    "- measurements of the amount of electricity consumed by the same house,\n",
    "- weather measurements around the Eindhoven airport,\n",
    "- Dutch government restrictions due to COVID-19\n",
    "\n",
    "in order to predict the hourly energy consumption and production given the COVID-19 restrictions and the weather forecast for a particular hour of a particular day.\n",
    "\n",
    "#### Jupyter notebooks\n",
    "\n",
    "For those who are new to Jupyter notebooks, a typical notebook contains text cells (like this one) interleaved with code cells (the gray boxes). You can execute a cell by selecting it and pressing Shift+Enter. The expression in the last line in a cell is the output of that cell. Try executing the following cell."
   ]
  },
  {
   "cell_type": "code",
   "execution_count": 1,
   "metadata": {
    "scrolled": true
   },
   "outputs": [
    {
     "data": {
      "text/plain": [
       "3"
      ]
     },
     "execution_count": 1,
     "metadata": {},
     "output_type": "execute_result"
    }
   ],
   "source": [
    "def add(a, b):\n",
    "    return a + b\n",
    "\n",
    "add(1,2)"
   ]
  },
  {
   "cell_type": "markdown",
   "metadata": {},
   "source": [
    "You can find out more about jupyter notbooks at:\n",
    "\n",
    "- https://jupyter-notebook-beginner-guide.readthedocs.io/en/latest/\n",
    "- http://nbviewer.jupyter.org/github/jupyter/notebook/blob/master/docs/source/examples/Notebook/Notebook%20Basics.ipynb\n",
    "- http://nbviewer.jupyter.org/github/jupyter/notebook/tree/master/docs/source/examples/Notebook/\n",
    "\n",
    "#### References\n",
    "\n",
    "The \"Python Data Scinence Handbook\" provides a good overview of using python for data data analysis and you are encouraged to consult it during this assignment:\n",
    "\n",
    "- https://jakevdp.github.io/PythonDataScienceHandbook/\n",
    "\n",
    "The \"Introduction to Statistical Learning\" [ISLR] (7th edition) book provides a good introduction to machine learning from the statistical perspective:\n",
    "\n",
    "- http://faculty.marshall.usc.edu/gareth-james/ISL/\n",
    "\n",
    "The \"Dataset Shift in Machine Learning\" book by Joaquin Quiñonero-Candela, Masashi Sugiyama, Anton Schwaighofer and Neil D. Lawrence provides a good overview of the problems that may arise when the test and training inputs and outputs have different distributions. You can find more information about the book at:\n",
    "\n",
    "- https://mitpress.mit.edu/books/dataset-shift-machine-learning\n",
    "\n",
    "#### Deliverable\n",
    "\n",
    "Throughout this notebook you will find cells starting with `#TODO` and `#BEGIN_TODO`. Fill in all these TODO cells. The `#TODO` cells are meant to guide you (you are strongly encouraged to fill these in!), while the `#BEGIN_TODO` _answer cells_ will be graded.\n",
    "\n",
    "- Answer cells start and end with tags, `# // BEGIN_TODO [Q0]` and `# // END_TODO [Q0]`, for example. Do not edit these tags in any way, else your answers may not be parsed by our grading system. \n",
    "- Your answers should be provided in Python code format between the tag lines, for example:\n",
    "```\n",
    "# // BEGIN_TODO [Q0]\n",
    "q0 = 1\n",
    "# // END_TODO [Q0]\n",
    "```\n",
    "- Do not place any other code between the tags, unless explicitly requested.\n",
    "- Be careful when importing additional libraries. The code for of your answers will be evaluated automatically and we cannot guarantee that any additional libraries will be available in that environment. Please check the Momotor output on Canvas after submitting the assignment, you should be able to see if all your code executed without errors.\n",
    "\n",
    "You are encouraged to play with the data and extend this notebook in order to obtain your answers. You may insert cells at any point in the notebook, as long as the answer cells remain unaltered. At the end, deliver the filled in `.ipynb` file.\n",
    "\n",
    "> **IMPORTANT:** Before delivering your notebook, make sure that the cells in your notebook can be executed in sequence without errors, by executing \"Restart & Run All\" from the \"Kernel\" menu. This is also how your notebook will be evaluated.\n",
    "\n",
    "Some exercises contain hints. Execute the following code cell to hide them by default and reveal the hints while pressing with the mouse on the \"Hint\" label. This will give you a chance to think for yourself before seeing a hint.\n",
    "\n",
    "Let's get started by filling in your details in the following answer cell. Assign your names and student ids to variables `name_student1`, `id_student1`, `name_student2`, `id_student2`, e.g.:\n",
    "\n",
    "```\n",
    "# // BEGIN_TODO [Q0]\n",
    "name_student1 = \"John Smith\"\n",
    "id_student1 = \"1234567\"\n",
    "name_student2 = \"Jane Miller\"\n",
    "id_student2 = \"7654321\"\n",
    "# // END_TODO [Q0]\n",
    "```"
   ]
  },
  {
   "cell_type": "code",
   "execution_count": 2,
   "metadata": {},
   "outputs": [],
   "source": [
    "#// BEGIN_TODO [Q0]\n",
    "name_student1 = \"Panagiotis Banos\"\n",
    "id_student1 = \"1622773\"\n",
    "name_student2 = \"Alina Vorobiova\"\n",
    "id_student2 = \"1232883\"\n",
    "#// END_TODO [Q0]"
   ]
  },
  {
   "cell_type": "markdown",
   "metadata": {},
   "source": [
    "### Import the relevant libraries\n",
    "\n",
    "In this assignment we will be using mainly the following libraries:\n",
    "\n",
    "- `pandas` for organizing the data\n",
    "- `numpy` for operating on the data\n",
    "- `matplotlib` for visualizing the data\n",
    "- `sklearn` for training and evaluating a model on the data\n",
    "- other utility libraries"
   ]
  },
  {
   "cell_type": "code",
   "execution_count": 3,
   "metadata": {},
   "outputs": [
    {
     "data": {
      "text/html": [
       "<style>.h,.c{display:none}.t{color:#296eaa}.t:active+.h{display:block;}</style>"
      ],
      "text/plain": [
       "<IPython.core.display.HTML object>"
      ]
     },
     "execution_count": 3,
     "metadata": {},
     "output_type": "execute_result"
    }
   ],
   "source": [
    "%matplotlib inline\n",
    "import matplotlib.pyplot as plt\n",
    "import pandas as pd\n",
    "import numpy as np\n",
    "from sklearn.linear_model import *\n",
    "from sklearn.metrics import *\n",
    "from sklearn.model_selection import *\n",
    "import glob\n",
    "import itertools\n",
    "\n",
    "from IPython.display import HTML\n",
    "HTML(\"<style>.h,.c{display:none}.t{color:#296eaa}.t:active+.h{display:block;}</style>\")"
   ]
  },
  {
   "cell_type": "markdown",
   "metadata": {},
   "source": [
    "### Read the data\n",
    "\n",
    "The data resides in three files:"
   ]
  },
  {
   "cell_type": "code",
   "execution_count": 4,
   "metadata": {},
   "outputs": [
    {
     "data": {
      "text/html": [
       "<div>\n",
       "<style scoped>\n",
       "    .dataframe tbody tr th:only-of-type {\n",
       "        vertical-align: middle;\n",
       "    }\n",
       "\n",
       "    .dataframe tbody tr th {\n",
       "        vertical-align: top;\n",
       "    }\n",
       "\n",
       "    .dataframe thead th {\n",
       "        text-align: right;\n",
       "    }\n",
       "</style>\n",
       "<table border=\"1\" class=\"dataframe\">\n",
       "  <thead>\n",
       "    <tr style=\"text-align: right;\">\n",
       "      <th></th>\n",
       "      <th>time</th>\n",
       "      <th>total_consumption</th>\n",
       "      <th>total_production</th>\n",
       "      <th>total_solar_production</th>\n",
       "      <th>solar_production</th>\n",
       "    </tr>\n",
       "  </thead>\n",
       "  <tbody>\n",
       "    <tr>\n",
       "      <th>0</th>\n",
       "      <td>1483225202</td>\n",
       "      <td>13187.602</td>\n",
       "      <td>4499.785</td>\n",
       "      <td>4147.1</td>\n",
       "      <td>0</td>\n",
       "    </tr>\n",
       "    <tr>\n",
       "      <th>1</th>\n",
       "      <td>1483225212</td>\n",
       "      <td>13187.604</td>\n",
       "      <td>4499.785</td>\n",
       "      <td>4147.1</td>\n",
       "      <td>0</td>\n",
       "    </tr>\n",
       "    <tr>\n",
       "      <th>2</th>\n",
       "      <td>1483225222</td>\n",
       "      <td>13187.605</td>\n",
       "      <td>4499.785</td>\n",
       "      <td>4147.1</td>\n",
       "      <td>0</td>\n",
       "    </tr>\n",
       "    <tr>\n",
       "      <th>3</th>\n",
       "      <td>1483225232</td>\n",
       "      <td>13187.606</td>\n",
       "      <td>4499.785</td>\n",
       "      <td>4147.1</td>\n",
       "      <td>0</td>\n",
       "    </tr>\n",
       "    <tr>\n",
       "      <th>4</th>\n",
       "      <td>1483225242</td>\n",
       "      <td>13187.607</td>\n",
       "      <td>4499.785</td>\n",
       "      <td>4147.1</td>\n",
       "      <td>0</td>\n",
       "    </tr>\n",
       "  </tbody>\n",
       "</table>\n",
       "</div>"
      ],
      "text/plain": [
       "         time  total_consumption  total_production  total_solar_production  \\\n",
       "0  1483225202          13187.602          4499.785                  4147.1   \n",
       "1  1483225212          13187.604          4499.785                  4147.1   \n",
       "2  1483225222          13187.605          4499.785                  4147.1   \n",
       "3  1483225232          13187.606          4499.785                  4147.1   \n",
       "4  1483225242          13187.607          4499.785                  4147.1   \n",
       "\n",
       "  solar_production  \n",
       "0                0  \n",
       "1                0  \n",
       "2                0  \n",
       "3                0  \n",
       "4                0  "
      ]
     },
     "execution_count": 4,
     "metadata": {},
     "output_type": "execute_result"
    }
   ],
   "source": [
    "raw_energy = pd.read_csv(\"data/energy.csv\", low_memory=False)\n",
    "raw_energy.head()"
   ]
  },
  {
   "cell_type": "code",
   "execution_count": 5,
   "metadata": {},
   "outputs": [
    {
     "data": {
      "text/html": [
       "<div>\n",
       "<style scoped>\n",
       "    .dataframe tbody tr th:only-of-type {\n",
       "        vertical-align: middle;\n",
       "    }\n",
       "\n",
       "    .dataframe tbody tr th {\n",
       "        vertical-align: top;\n",
       "    }\n",
       "\n",
       "    .dataframe thead th {\n",
       "        text-align: right;\n",
       "    }\n",
       "</style>\n",
       "<table border=\"1\" class=\"dataframe\">\n",
       "  <thead>\n",
       "    <tr style=\"text-align: right;\">\n",
       "      <th></th>\n",
       "      <th>time</th>\n",
       "      <th>clouds</th>\n",
       "      <th>temperature</th>\n",
       "      <th>humidity</th>\n",
       "      <th>wind direction</th>\n",
       "      <th>wind speed</th>\n",
       "      <th>visibility</th>\n",
       "      <th>air pressure</th>\n",
       "    </tr>\n",
       "  </thead>\n",
       "  <tbody>\n",
       "    <tr>\n",
       "      <th>0</th>\n",
       "      <td>1483228800</td>\n",
       "      <td>3</td>\n",
       "      <td>-1.7</td>\n",
       "      <td>99.0</td>\n",
       "      <td>ZZW</td>\n",
       "      <td>3.0</td>\n",
       "      <td>197.0</td>\n",
       "      <td>1026.0</td>\n",
       "    </tr>\n",
       "    <tr>\n",
       "      <th>1</th>\n",
       "      <td>1483229400</td>\n",
       "      <td>3</td>\n",
       "      <td>-1.7</td>\n",
       "      <td>99.0</td>\n",
       "      <td>ZZW</td>\n",
       "      <td>3.0</td>\n",
       "      <td>195.0</td>\n",
       "      <td>1025.8</td>\n",
       "    </tr>\n",
       "    <tr>\n",
       "      <th>2</th>\n",
       "      <td>1483230000</td>\n",
       "      <td>3</td>\n",
       "      <td>-1.7</td>\n",
       "      <td>99.0</td>\n",
       "      <td>ZZW</td>\n",
       "      <td>3.0</td>\n",
       "      <td>271.0</td>\n",
       "      <td>1025.6</td>\n",
       "    </tr>\n",
       "    <tr>\n",
       "      <th>3</th>\n",
       "      <td>1483230600</td>\n",
       "      <td>3</td>\n",
       "      <td>-1.6</td>\n",
       "      <td>99.0</td>\n",
       "      <td>Z</td>\n",
       "      <td>3.0</td>\n",
       "      <td>316.0</td>\n",
       "      <td>1025.4</td>\n",
       "    </tr>\n",
       "    <tr>\n",
       "      <th>4</th>\n",
       "      <td>1483231200</td>\n",
       "      <td>3</td>\n",
       "      <td>-1.6</td>\n",
       "      <td>99.0</td>\n",
       "      <td>Z</td>\n",
       "      <td>3.0</td>\n",
       "      <td>334.0</td>\n",
       "      <td>1025.3</td>\n",
       "    </tr>\n",
       "  </tbody>\n",
       "</table>\n",
       "</div>"
      ],
      "text/plain": [
       "         time  clouds  temperature  humidity wind direction  wind speed  \\\n",
       "0  1483228800       3         -1.7      99.0            ZZW         3.0   \n",
       "1  1483229400       3         -1.7      99.0            ZZW         3.0   \n",
       "2  1483230000       3         -1.7      99.0            ZZW         3.0   \n",
       "3  1483230600       3         -1.6      99.0              Z         3.0   \n",
       "4  1483231200       3         -1.6      99.0              Z         3.0   \n",
       "\n",
       "   visibility  air pressure  \n",
       "0       197.0        1026.0  \n",
       "1       195.0        1025.8  \n",
       "2       271.0        1025.6  \n",
       "3       316.0        1025.4  \n",
       "4       334.0        1025.3  "
      ]
     },
     "execution_count": 5,
     "metadata": {},
     "output_type": "execute_result"
    }
   ],
   "source": [
    "raw_weather = pd.read_csv(\"data/weather.csv\")\n",
    "raw_weather.head()"
   ]
  },
  {
   "cell_type": "code",
   "execution_count": 6,
   "metadata": {},
   "outputs": [
    {
     "name": "stdout",
     "output_type": "stream",
     "text": [
      "              time  clouds  temperature  humidity wind direction  wind speed  \\\n",
      "0       1483228800       3         -1.7      99.0            ZZW         3.0   \n",
      "1       1483229400       3         -1.7      99.0            ZZW         3.0   \n",
      "2       1483230000       3         -1.7      99.0            ZZW         3.0   \n",
      "3       1483230600       3         -1.6      99.0              Z         3.0   \n",
      "4       1483231200       3         -1.6      99.0              Z         3.0   \n",
      "...            ...     ...          ...       ...            ...         ...   \n",
      "244152  1632389400       0         17.5      74.0             ZW         7.0   \n",
      "244153  1632390000       1         18.0      71.0            WZW         7.0   \n",
      "244154  1632390600       1         18.3      70.0            WZW         7.0   \n",
      "244155  1632391200       1         18.7      70.0            WZW         7.0   \n",
      "244156  1632391800       1         18.4      69.0            WZW         6.0   \n",
      "\n",
      "        visibility  air pressure  \n",
      "0            197.0        1026.0  \n",
      "1            195.0        1025.8  \n",
      "2            271.0        1025.6  \n",
      "3            316.0        1025.4  \n",
      "4            334.0        1025.3  \n",
      "...            ...           ...  \n",
      "244152     13000.0        1019.2  \n",
      "244153     15000.0        1019.2  \n",
      "244154     16000.0        1019.1  \n",
      "244155     18000.0        1019.1  \n",
      "244156     16000.0        1019.1  \n",
      "\n",
      "[244157 rows x 8 columns]\n"
     ]
    }
   ],
   "source": [
    "print(raw_weather)"
   ]
  },
  {
   "cell_type": "code",
   "execution_count": 7,
   "metadata": {},
   "outputs": [
    {
     "data": {
      "text/html": [
       "<div>\n",
       "<style scoped>\n",
       "    .dataframe tbody tr th:only-of-type {\n",
       "        vertical-align: middle;\n",
       "    }\n",
       "\n",
       "    .dataframe tbody tr th {\n",
       "        vertical-align: top;\n",
       "    }\n",
       "\n",
       "    .dataframe thead th {\n",
       "        text-align: right;\n",
       "    }\n",
       "</style>\n",
       "<table border=\"1\" class=\"dataframe\">\n",
       "  <thead>\n",
       "    <tr style=\"text-align: right;\">\n",
       "      <th></th>\n",
       "      <th>time</th>\n",
       "      <th>stringency</th>\n",
       "      <th>C1_School closing</th>\n",
       "      <th>C2_Workplace closing</th>\n",
       "      <th>C3_Cancel public events</th>\n",
       "      <th>C4_Restrictions on gatherings</th>\n",
       "      <th>C5_Close public transport</th>\n",
       "      <th>C6_Stay at home requirements</th>\n",
       "      <th>C7_Restrictions on internal movement</th>\n",
       "      <th>C8_International travel controls</th>\n",
       "      <th>H1_Public information campaigns</th>\n",
       "    </tr>\n",
       "  </thead>\n",
       "  <tbody>\n",
       "    <tr>\n",
       "      <th>0</th>\n",
       "      <td>1577836801</td>\n",
       "      <td>0.0</td>\n",
       "      <td>0.0</td>\n",
       "      <td>0.0</td>\n",
       "      <td>0.0</td>\n",
       "      <td>0.0</td>\n",
       "      <td>0.0</td>\n",
       "      <td>0.0</td>\n",
       "      <td>0.0</td>\n",
       "      <td>0.0</td>\n",
       "      <td>0.0</td>\n",
       "    </tr>\n",
       "    <tr>\n",
       "      <th>1</th>\n",
       "      <td>1577923201</td>\n",
       "      <td>0.0</td>\n",
       "      <td>0.0</td>\n",
       "      <td>0.0</td>\n",
       "      <td>0.0</td>\n",
       "      <td>0.0</td>\n",
       "      <td>0.0</td>\n",
       "      <td>0.0</td>\n",
       "      <td>0.0</td>\n",
       "      <td>0.0</td>\n",
       "      <td>0.0</td>\n",
       "    </tr>\n",
       "    <tr>\n",
       "      <th>2</th>\n",
       "      <td>1578009601</td>\n",
       "      <td>0.0</td>\n",
       "      <td>0.0</td>\n",
       "      <td>0.0</td>\n",
       "      <td>0.0</td>\n",
       "      <td>0.0</td>\n",
       "      <td>0.0</td>\n",
       "      <td>0.0</td>\n",
       "      <td>0.0</td>\n",
       "      <td>0.0</td>\n",
       "      <td>0.0</td>\n",
       "    </tr>\n",
       "    <tr>\n",
       "      <th>3</th>\n",
       "      <td>1578096001</td>\n",
       "      <td>0.0</td>\n",
       "      <td>0.0</td>\n",
       "      <td>0.0</td>\n",
       "      <td>0.0</td>\n",
       "      <td>0.0</td>\n",
       "      <td>0.0</td>\n",
       "      <td>0.0</td>\n",
       "      <td>0.0</td>\n",
       "      <td>0.0</td>\n",
       "      <td>0.0</td>\n",
       "    </tr>\n",
       "    <tr>\n",
       "      <th>4</th>\n",
       "      <td>1578182401</td>\n",
       "      <td>0.0</td>\n",
       "      <td>0.0</td>\n",
       "      <td>0.0</td>\n",
       "      <td>0.0</td>\n",
       "      <td>0.0</td>\n",
       "      <td>0.0</td>\n",
       "      <td>0.0</td>\n",
       "      <td>0.0</td>\n",
       "      <td>0.0</td>\n",
       "      <td>0.0</td>\n",
       "    </tr>\n",
       "  </tbody>\n",
       "</table>\n",
       "</div>"
      ],
      "text/plain": [
       "         time  stringency  C1_School closing  C2_Workplace closing  \\\n",
       "0  1577836801         0.0                0.0                   0.0   \n",
       "1  1577923201         0.0                0.0                   0.0   \n",
       "2  1578009601         0.0                0.0                   0.0   \n",
       "3  1578096001         0.0                0.0                   0.0   \n",
       "4  1578182401         0.0                0.0                   0.0   \n",
       "\n",
       "   C3_Cancel public events  C4_Restrictions on gatherings  \\\n",
       "0                      0.0                            0.0   \n",
       "1                      0.0                            0.0   \n",
       "2                      0.0                            0.0   \n",
       "3                      0.0                            0.0   \n",
       "4                      0.0                            0.0   \n",
       "\n",
       "   C5_Close public transport  C6_Stay at home requirements  \\\n",
       "0                        0.0                           0.0   \n",
       "1                        0.0                           0.0   \n",
       "2                        0.0                           0.0   \n",
       "3                        0.0                           0.0   \n",
       "4                        0.0                           0.0   \n",
       "\n",
       "   C7_Restrictions on internal movement  C8_International travel controls  \\\n",
       "0                                   0.0                               0.0   \n",
       "1                                   0.0                               0.0   \n",
       "2                                   0.0                               0.0   \n",
       "3                                   0.0                               0.0   \n",
       "4                                   0.0                               0.0   \n",
       "\n",
       "   H1_Public information campaigns  \n",
       "0                              0.0  \n",
       "1                              0.0  \n",
       "2                              0.0  \n",
       "3                              0.0  \n",
       "4                              0.0  "
      ]
     },
     "execution_count": 7,
     "metadata": {},
     "output_type": "execute_result"
    }
   ],
   "source": [
    "raw_restrictions = pd.read_csv(\"data/restrictions.csv\")\n",
    "raw_restrictions.head()"
   ]
  },
  {
   "cell_type": "markdown",
   "metadata": {},
   "source": [
    "When analysing data it is important to understand its semantics. In IoT one needs to be extra careful, especially when integrating data from various sources. The very basic information are the units of the measurements, but also the specifications of the sensors gathering the data and the processes that are being monitored. For example, in this case the specification of the solar panel installation states that it can generate max 153k Jouls per minute.  \n",
    "\n",
    "Assume the following for the energy data:\n",
    "- `time` is the UTC time, i.e. number of seconds since January 1, 1970 (midnight UTC/GMT)\n",
    "- `total_consumption` is the total amount of electricity that was pulled from the grid (kWh)\n",
    "- `total_production` is the total amount of electricity that was pushed into the grid (kWh)\n",
    "- `solar_production` is the amount of eletricity that was produced since the last sample (Wh).\n",
    "- `total_solar_production` is the total amount of electricity produced by the solar panels (kWh)\n",
    "\n",
    "Assume the following for the weather data:\n",
    "- `time` is the UTC time, i.e. number of seconds since January 1, 1970 (midnight UTC/GMT)\n",
    "- `clouds` measures whether it was cloudy at the time when the sample was taken, ranging from 0-3, 0 meaning no clouds and 3 meaning very cloudy.\n",
    "- `temperature` is the still temperature (C).\n",
    "- `humidity` is the relative humidity in \\%.\n",
    "- `wind direction` given in South (Z), West (W), North (N), and (East), or a combination thereof.\n",
    "- `wind speed` in m/s. \n",
    "- `visibility` in meters.\n",
    "- `air pressure` in hPa.\n",
    "\n",
    "Assume the following for the restriction data (retrieved from: https://github.com/OxCGRT/covid-policy-tracker/blob/master/data/OxCGRT_latest.csv):\n",
    "- `time` is the UTC time, i.e. number of seconds since January 1, 1970 (midnight UTC/GMT)\n",
    "- `C_[measurement]` policy indicators C1 to C8 record information on containment and closure policies, such as school closures and restrictions in movement.\n",
    "- `H_[measurement]` policy indicator H1 records health system public information campaign policies such as the Covid-19 testing regime or emergency investments into healthcare.\n",
    "- `stringency` is an aggregation of C1-C8 and H1 policy indicators in one number between 0-100."
   ]
  },
  {
   "cell_type": "markdown",
   "metadata": {},
   "source": [
    "### Explore the data\n",
    "\n",
    "Exploration is usually the first step in any data analysis task. Visualization is an important tool for exploring the data. It gives insights into the structure and semantics of the data and indications for how to clean it.\n",
    "\n",
    "The `matplotlib` library provides a collection of useful plots, such as a line plot, scatter plot, histogram, scatter mattrix, etc. You can find out more about this library at \n",
    "\n",
    "- https://matplotlib.org/users/pyplot_tutorial.html\n",
    "- https://matplotlib.org/devdocs/gallery/\n",
    "\n",
    "The `pandas` library also contains convenient wrappers around the `matplotlib` library for visualizing data frames and series:\n",
    "\n",
    "- https://pandas.pydata.org/pandas-docs/stable/visualization.html\n",
    "\n",
    "Let's draw a simple plot of the energy data (note that we're only plotting a small part of the data here):"
   ]
  },
  {
   "cell_type": "code",
   "execution_count": 8,
   "metadata": {},
   "outputs": [
    {
     "data": {
      "text/plain": [
       "(1483225202.0, 1486897102.0, 13187.602, 13713.097)"
      ]
     },
     "execution_count": 8,
     "metadata": {},
     "output_type": "execute_result"
    },
    {
     "data": {
      "image/png": "[encoded data removed]",
      "text/plain": [
       "<Figure size 1008x648 with 1 Axes>"
      ]
     },
     "metadata": {
      "needs_background": "light"
     },
     "output_type": "display_data"
    }
   ],
   "source": [
    "plt.rcParams[\"figure.figsize\"] = (14, 9) # (w, h)\n",
    "X = raw_energy[:300000][\"time\"]\n",
    "Y = raw_energy[:300000][\"total_consumption\"]\n",
    "plt.plot(X, Y)\n",
    "plt.xlabel('Epoch time (s)')\n",
    "plt.ylabel('Total energy consumption (kWh)')\n",
    "plt.axis([X.min(), X.max(), Y.min(), Y.max()])"
   ]
  },
  {
   "cell_type": "code",
   "execution_count": 9,
   "metadata": {},
   "outputs": [],
   "source": [
    "# TODO: explore the values in different columns (experiment with different visualizations, e.g. line, histogram, ..."
   ]
  },
  {
   "cell_type": "markdown",
   "metadata": {},
   "source": [
    "### Question 1\n",
    "\n",
    "Simple visual inspection of the data can already tell you a lot about what you are working with. The data covers 2017, 2018, 2019, 2020 and part of 2021, but because the data was split sometime beforehand, some time ranges will be missing.\n",
    "\n",
    "Assign to `question_missing_months` in the form of a list the months that are missing from the data (for example, if June and July of 2017 are missing, the list would be `[\"2017-06\", \"2017-07\"]`). \n",
    "\n",
    "Not only are there months missing, each month that is in the data has some missing days as well. Assign to `question_num_missing_days` the number of days that are missing **from each month of 2019** in the form of a list of integers, starting from January, e.g. `[0, 1, 2, 3, 4, 5, 6, 7, 8, 9, 10, 11]` \n",
    "\n",
    "<span class=\"t\">Hint<span class=\"c\">:</span></span>\n",
    "<span class=\"h\">\n",
    "You will have to convert the timestamps in the data to retrieve the months and days. Note that the Netherlands is in timezone UTC+1.\n",
    "</span>"
   ]
  },
  {
   "cell_type": "code",
   "execution_count": 10,
   "metadata": {
    "scrolled": true
   },
   "outputs": [],
   "source": [
    "raw_energy['time'] = pd.to_datetime(raw_energy['time'], unit='s') #Convert from unix time to utc\n",
    "raw_energy['time'] = raw_energy.time.dt.tz_localize('utc').dt.tz_convert('Europe/Amsterdam') #Convert to local time\n",
    "\n",
    "raw_energy['time'].tail()\n",
    "\n",
    "q1_raw_weather = raw_weather.copy()\n",
    "q1_raw_weather['time'] = pd.to_datetime(q1_raw_weather['time'], unit='s') #Convert from unix time to utc\n",
    "q1_raw_weather['time'] = q1_raw_weather.time.dt.tz_localize('utc').dt.tz_convert('Europe/Amsterdam') #Convert to local time\n"
   ]
  },
  {
   "cell_type": "code",
   "execution_count": 11,
   "metadata": {},
   "outputs": [],
   "source": [
    "#// BEGIN_TODO [Q1]\n",
    "# months = set(raw_energy['time'].dt.month.to_list())\n",
    "# years = raw_energy['time'].dt.year\n",
    "# raw_energy['year'] = raw_energy['time'].dt.year\n",
    "# raw_energy['month'] = raw_energy['time'].dt.month\n",
    "# raw_energy['day'] = raw_energy['time'].dt.day\n",
    "\n",
    "# q1 = raw_energy.copy()\n",
    "\n",
    "# q1['month'] = raw_energy['time'].dt.strftime('%m') #testing if the string conversion messes the columns and as a result also messes the merging step\n",
    "\n",
    "# print(raw_energy['month'].unique())\n",
    "\n",
    "# possible_combinations = []\n",
    "# for year in raw_energy['year'].unique():\n",
    "#     for month in q1['month'].unique():\n",
    "#         if (int(month)>9) & (int(year) == 2021): #Data stops after September 2021 so we need to break the loop\n",
    "#             break\n",
    "#         possible_combinations.append(str(year) + '-' + month)\n",
    "        \n",
    "# print(possible_combinations)\n",
    "# q1['Y&M'] = raw_energy['time'].apply(lambda x: x.strftime('%Y-%m'))\n",
    "# unique_months = [q1['Y&M'].unique()]\n",
    "# unique_months\n",
    "# def splitter_func(unique_months: list) -> list: \n",
    "#     list_of_tuples = []\n",
    "#     for date in unique_months:\n",
    "#         list_of_tuples.append(tuple(int(x) for x in date.split('-')))\n",
    "        \n",
    "#     return list_of_tuples\n",
    "\n",
    "\n",
    "# splitter_func(unique_months[0])\n",
    "#finding the missing days for 2019\n",
    "\n",
    "#FINDING MISSING DAYS FOR THE ENERGY DATASET \n",
    "# year2019 = raw_energy[(raw_energy['time'] >= '2019-01-01') & (raw_energy['time'] <= '2019-12-31')] #Filter the data for year 2019\n",
    "# year2019['time'] = raw_energy['time'].apply(lambda x: x.strftime('%Y-%m-%d')) # Keep only Y/m/d. This might be stupid because we also convert to string which will be \n",
    "#                                                                               # re-converted again later to datetime, but I didnt find another way \n",
    "#                                                                               # to remove hours and mins and secs.\n",
    "# year2019 = year2019.set_index('time') #Re-index\n",
    "# year2019.index = pd.to_datetime(year2019.index) #Convert string back to datetime. \n",
    "\n",
    "#FINDING MISSING DAYS FOR THE WEATHER DATASET\n",
    "# q1_raw_weather = q1_raw_weather[(q1_raw_weather['time'] >= '2019-01-01') & (q1_raw_weather['time'] <= '2019-12-31')]\n",
    "# q1_raw_weather['time'] = q1_raw_weather['time'].apply(lambda x: x.strftime('%Y-%m-%d'))\n",
    "# q1_raw_weather = q1_raw_weather.set_index('time') #Re-index\n",
    "# q1_raw_weather.index = pd.to_datetime(q1_raw_weather.index) #Convert string back to datetime.\n",
    "\n",
    "# weather_missing_days = pd.date_range(start='2019-01-01', end='2019-12-31').difference(q1_raw_weather.index.unique());\n",
    "# print(weather_missing_days)\n",
    "\n",
    "# diff = pd.date_range(start='2019-01-01', end='2019-12-31').difference(year2019.index.unique()); #Create a date range and compare with year2019 to find missing days \n",
    "# question_missing_months = [x for x in possible_combinations if x not in unique_months[0]] #compare the months in the dataset w/ the list of all possible combinations\n",
    "question_missing_months = ['2017-08', '2018-06', '2018-08', '2020-04']\n",
    "# question_num_missing_days = [diff.day.groupby(diff.month)]\n",
    "#question_num_missing_days = [{1: [26, 27, 28, 29, 30, 31], 2: [24, 25, 26, 27, 28], 3: [27, 28, 29, 30, 31], 4: [26, 27, 28, 29, 30], 5: [27, 28, 29, 30, 31], 6: [1, 2, 3, 16, 28, 29, 30], 7: [10, 11, 12, 13, 14, 15, 16, 17, 27, 28, 29, 30, 31], 8: [26, 27, 28, 29, 30], 9: [26, 27, 28, 29, 30], 10: [28, 29, 30, 31], 11: [26, 27, 28, 29, 30], 12: [26, 27, 28, 29, 30, 31]}]\n",
    "question_num_missing_days = [7, 5, 5, 5, 5, 7, 13, 5, 5, 6, 5, 6] #the days missing from the energy dataset plus the days missing from the weather dataset\n",
    "#// END_TODO [Q1]"
   ]
  },
  {
   "cell_type": "markdown",
   "metadata": {},
   "source": [
    "### Clean the data\n",
    "\n",
    "Data cleaning is an important part of any data analysis task. According to the general wisdom, most effort actually is spent on data cleaning. It involves preparing the data for the following steps, e.g. converting values to the right type, filling in missing values, removing outliers, normalizing the data, etc.\n",
    "\n",
    "In the plot above you may have noticed vertical lines (you may have to plot a shorter time range to spot them). These lines correspond to 0 values and are likely to be measurement errors (e.g. the solar panel meter has crashed). Such outliers will often negatively impact the accuracy of the predictive model. However, care must be taken to properly define what constitutes an outlier and what constitutes a valid measurement. Some odd looking measurements may actually contain important evidence for proving or disproving a hypothesis. In this case the 0 values can be considered measurement errors and should be removed.\n",
    "\n",
    "Pandas provides convenient methods for selecting subsets of the data that can be used for removing outliers:\n",
    "\n",
    "- https://jakevdp.github.io/PythonDataScienceHandbook/03.02-data-indexing-and-selection.html"
   ]
  },
  {
   "cell_type": "markdown",
   "metadata": {},
   "source": [
    "Data that is collected in the wild will sometimes contain formatting inconsistencies. It is a good habit to check the data types:"
   ]
  },
  {
   "cell_type": "code",
   "execution_count": 12,
   "metadata": {},
   "outputs": [
    {
     "data": {
      "text/plain": [
       "time                      datetime64[ns, Europe/Amsterdam]\n",
       "total_consumption                                  float64\n",
       "total_production                                   float64\n",
       "total_solar_production                             float64\n",
       "solar_production                                    object\n",
       "dtype: object"
      ]
     },
     "execution_count": 12,
     "metadata": {},
     "output_type": "execute_result"
    }
   ],
   "source": [
    "raw_energy.dtypes"
   ]
  },
  {
   "cell_type": "code",
   "execution_count": 13,
   "metadata": {},
   "outputs": [
    {
     "data": {
      "text/plain": [
       "(10721034, 5)"
      ]
     },
     "execution_count": 13,
     "metadata": {},
     "output_type": "execute_result"
    }
   ],
   "source": [
    "raw_energy.shape"
   ]
  },
  {
   "cell_type": "markdown",
   "metadata": {},
   "source": [
    "As expected, the `'total_consumption'`, `'total_production'`, `'total_solar_production'` columns are of numerical type, however, the `solar_production` is of an `object` type (which is also used for strings), while looking at the specification of the column above we would expect a numerical type. Modeling this column later will require a numerical column, so it will need to be converted to the right type first."
   ]
  },
  {
   "cell_type": "code",
   "execution_count": 14,
   "metadata": {},
   "outputs": [
    {
     "data": {
      "text/html": [
       "<div>\n",
       "<style scoped>\n",
       "    .dataframe tbody tr th:only-of-type {\n",
       "        vertical-align: middle;\n",
       "    }\n",
       "\n",
       "    .dataframe tbody tr th {\n",
       "        vertical-align: top;\n",
       "    }\n",
       "\n",
       "    .dataframe thead th {\n",
       "        text-align: right;\n",
       "    }\n",
       "</style>\n",
       "<table border=\"1\" class=\"dataframe\">\n",
       "  <thead>\n",
       "    <tr style=\"text-align: right;\">\n",
       "      <th></th>\n",
       "      <th>time</th>\n",
       "      <th>total_consumption</th>\n",
       "      <th>total_production</th>\n",
       "      <th>total_solar_production</th>\n",
       "      <th>solar_production</th>\n",
       "    </tr>\n",
       "  </thead>\n",
       "  <tbody>\n",
       "    <tr>\n",
       "      <th>506447</th>\n",
       "      <td>2017-03-14 09:49:58+01:00</td>\n",
       "      <td>14020.109</td>\n",
       "      <td>4652.388</td>\n",
       "      <td>0.0</td>\n",
       "      <td></td>\n",
       "    </tr>\n",
       "    <tr>\n",
       "      <th>506448</th>\n",
       "      <td>2017-03-14 09:49:58+01:00</td>\n",
       "      <td>14020.109</td>\n",
       "      <td>4652.385</td>\n",
       "      <td>0.0</td>\n",
       "      <td></td>\n",
       "    </tr>\n",
       "    <tr>\n",
       "      <th>506449</th>\n",
       "      <td>2017-03-14 09:49:58+01:00</td>\n",
       "      <td>14020.109</td>\n",
       "      <td>4652.382</td>\n",
       "      <td>0.0</td>\n",
       "      <td></td>\n",
       "    </tr>\n",
       "    <tr>\n",
       "      <th>506450</th>\n",
       "      <td>2017-03-14 09:49:58+01:00</td>\n",
       "      <td>14020.109</td>\n",
       "      <td>4652.378</td>\n",
       "      <td>0.0</td>\n",
       "      <td></td>\n",
       "    </tr>\n",
       "    <tr>\n",
       "      <th>506451</th>\n",
       "      <td>2017-03-14 09:49:58+01:00</td>\n",
       "      <td>14020.109</td>\n",
       "      <td>4652.375</td>\n",
       "      <td>0.0</td>\n",
       "      <td></td>\n",
       "    </tr>\n",
       "    <tr>\n",
       "      <th>...</th>\n",
       "      <td>...</td>\n",
       "      <td>...</td>\n",
       "      <td>...</td>\n",
       "      <td>...</td>\n",
       "      <td>...</td>\n",
       "    </tr>\n",
       "    <tr>\n",
       "      <th>10467447</th>\n",
       "      <td>2021-07-17 23:45:42+02:00</td>\n",
       "      <td>30134.326</td>\n",
       "      <td>11980.818</td>\n",
       "      <td>NaN</td>\n",
       "      <td></td>\n",
       "    </tr>\n",
       "    <tr>\n",
       "      <th>10467448</th>\n",
       "      <td>2021-07-17 23:45:52+02:00</td>\n",
       "      <td>30134.327</td>\n",
       "      <td>11980.818</td>\n",
       "      <td>NaN</td>\n",
       "      <td></td>\n",
       "    </tr>\n",
       "    <tr>\n",
       "      <th>10467449</th>\n",
       "      <td>2021-07-17 23:46:02+02:00</td>\n",
       "      <td>30134.328</td>\n",
       "      <td>11980.818</td>\n",
       "      <td>NaN</td>\n",
       "      <td></td>\n",
       "    </tr>\n",
       "    <tr>\n",
       "      <th>10467450</th>\n",
       "      <td>2021-07-17 23:46:12+02:00</td>\n",
       "      <td>30134.328</td>\n",
       "      <td>11980.818</td>\n",
       "      <td>NaN</td>\n",
       "      <td></td>\n",
       "    </tr>\n",
       "    <tr>\n",
       "      <th>10467451</th>\n",
       "      <td>2021-07-17 23:46:22+02:00</td>\n",
       "      <td>30134.329</td>\n",
       "      <td>11980.818</td>\n",
       "      <td>NaN</td>\n",
       "      <td></td>\n",
       "    </tr>\n",
       "  </tbody>\n",
       "</table>\n",
       "<p>67887 rows × 5 columns</p>\n",
       "</div>"
      ],
      "text/plain": [
       "                              time  total_consumption  total_production  \\\n",
       "506447   2017-03-14 09:49:58+01:00          14020.109          4652.388   \n",
       "506448   2017-03-14 09:49:58+01:00          14020.109          4652.385   \n",
       "506449   2017-03-14 09:49:58+01:00          14020.109          4652.382   \n",
       "506450   2017-03-14 09:49:58+01:00          14020.109          4652.378   \n",
       "506451   2017-03-14 09:49:58+01:00          14020.109          4652.375   \n",
       "...                            ...                ...               ...   \n",
       "10467447 2021-07-17 23:45:42+02:00          30134.326         11980.818   \n",
       "10467448 2021-07-17 23:45:52+02:00          30134.327         11980.818   \n",
       "10467449 2021-07-17 23:46:02+02:00          30134.328         11980.818   \n",
       "10467450 2021-07-17 23:46:12+02:00          30134.328         11980.818   \n",
       "10467451 2021-07-17 23:46:22+02:00          30134.329         11980.818   \n",
       "\n",
       "          total_solar_production solar_production  \n",
       "506447                       0.0                   \n",
       "506448                       0.0                   \n",
       "506449                       0.0                   \n",
       "506450                       0.0                   \n",
       "506451                       0.0                   \n",
       "...                          ...              ...  \n",
       "10467447                     NaN                   \n",
       "10467448                     NaN                   \n",
       "10467449                     NaN                   \n",
       "10467450                     NaN                   \n",
       "10467451                     NaN                   \n",
       "\n",
       "[67887 rows x 5 columns]"
      ]
     },
     "execution_count": 14,
     "metadata": {},
     "output_type": "execute_result"
    }
   ],
   "source": [
    "# TODO: explore the offending values in the solar_production column\n",
    "raw_energy[pd.to_numeric(raw_energy.solar_production, errors='coerce').isnull()]"
   ]
  },
  {
   "cell_type": "markdown",
   "metadata": {},
   "source": [
    "### Question 2\n",
    "\n",
    "Convert empty strings in the `'solar_production'` column to `np.nan`. Convert the remaining values in the `'solar_production'` column to `float` type, and copy the resulting column to a variable named `solar_production_column`."
   ]
  },
  {
   "cell_type": "code",
   "execution_count": 15,
   "metadata": {},
   "outputs": [],
   "source": [
    "#// BEGIN_TODO [Q2]\n",
    "raw_energy['solar_production'].replace(r'^\\s*$', np.nan, regex=True)\n",
    "raw_energy['solar_production'] = pd.to_numeric(raw_energy['solar_production'], errors='coerce')\n",
    "solar_production_column = raw_energy['solar_production']\n",
    "\n",
    "#// END_TODO [Q2]"
   ]
  },
  {
   "cell_type": "code",
   "execution_count": 16,
   "metadata": {},
   "outputs": [
    {
     "data": {
      "text/plain": [
       "0             0.0\n",
       "1             0.0\n",
       "2             0.0\n",
       "3             0.0\n",
       "4             0.0\n",
       "            ...  \n",
       "10721029    171.0\n",
       "10721030    171.0\n",
       "10721031    171.0\n",
       "10721032    171.0\n",
       "10721033    171.0\n",
       "Name: solar_production, Length: 10721034, dtype: float64"
      ]
     },
     "execution_count": 16,
     "metadata": {},
     "output_type": "execute_result"
    }
   ],
   "source": [
    "solar_production_column"
   ]
  },
  {
   "cell_type": "markdown",
   "metadata": {},
   "source": [
    "In addition, there are often errors in our data due to sensor measurements errors. In this case, in the `'total_solar_production'` column those errors are shown as `0.0` values. We have to remove the error values from the `'total_solar_production'` column."
   ]
  },
  {
   "cell_type": "code",
   "execution_count": 17,
   "metadata": {},
   "outputs": [],
   "source": [
    "raw_energy = raw_energy[raw_energy['total_solar_production'] != 0.0]"
   ]
  },
  {
   "cell_type": "markdown",
   "metadata": {},
   "source": [
    "After removing those vaules, the index of a data frame might need to be recomputed, to reflect the new ordering of rows."
   ]
  },
  {
   "cell_type": "code",
   "execution_count": 18,
   "metadata": {},
   "outputs": [
    {
     "data": {
      "text/plain": [
       "(10716518, 6)"
      ]
     },
     "execution_count": 18,
     "metadata": {},
     "output_type": "execute_result"
    }
   ],
   "source": [
    "raw_energy = raw_energy.reset_index()\n",
    "raw_energy.shape"
   ]
  },
  {
   "cell_type": "markdown",
   "metadata": {},
   "source": [
    "### Engineer features\n",
    "\n",
    "The goal of this assignment is to predict the home hourly energy consumption and energy output of the solar panels given the restriction and weather data. This requires to relate the energy samples with the restriction and weather samples, basically attaching the total energy consumption and production labels to the restriction and weather measurements. However, for the *total* energy production, restriction and weather samples are taken approximately every 1 seconds, 1 day and 10 minutes, respectively.\n",
    "\n",
    "####  Aggregate per hour\n",
    "\n",
    "We can use pandas grouping functions to aggregate the energy samples per hour, taking the largest  measurement in that hour."
   ]
  },
  {
   "cell_type": "code",
   "execution_count": 19,
   "metadata": {},
   "outputs": [
    {
     "name": "stdout",
     "output_type": "stream",
     "text": [
      "(29757, 1)\n"
     ]
    }
   ],
   "source": [
    "col = \"total_consumption\"\n",
    "energy = raw_energy.copy()\n",
    "times = pd.to_datetime(energy[\"time\"], unit='s')\n",
    "\n",
    "energy = energy.groupby([times.dt.year, times.dt.month, times.dt.dayofyear, times.dt.hour])[[col]].agg(np.max)\n",
    "energy.index.names = [\"year\", \"month\", \"day\", \"hour\"]\n",
    "print(energy.shape)"
   ]
  },
  {
   "cell_type": "markdown",
   "metadata": {},
   "source": [
    "### Question 3 ###\n",
    "\n",
    "Note that the hourly aggregation using the maximum works well for columns containing the totals. Is this method also applicable for the `'solar_production'` column? If yes, does it require any modifications? If no, why? Assign the explanation to the variable `question_aggregation`, with no more than 80 words."
   ]
  },
  {
   "cell_type": "code",
   "execution_count": 20,
   "metadata": {},
   "outputs": [],
   "source": [
    "#// BEGIN_TODO [Q3]\n",
    "question_aggregation = 'It will be partially applicable. The aggregation method needs to be changed to fit the solar_production data type, e.g. use np.mean.'\n",
    "#// END_TODO [Q3]"
   ]
  },
  {
   "cell_type": "markdown",
   "metadata": {},
   "source": [
    "After aggregation, some cells can contain `Nan` values (e.g. when trying to compute a maximum for an hour during which no samples were recorded). Therefore, after performing such operations one should decide what to do with any NaN values. In this case we chose to remove such samples."
   ]
  },
  {
   "cell_type": "code",
   "execution_count": 21,
   "metadata": {},
   "outputs": [],
   "source": [
    "energy = energy.dropna()"
   ]
  },
  {
   "cell_type": "markdown",
   "metadata": {},
   "source": [
    "After grouping, merging and slicing operations, the index of a data frame might need to be recomputed, to reflect the new ordering of rows."
   ]
  },
  {
   "cell_type": "code",
   "execution_count": 22,
   "metadata": {},
   "outputs": [],
   "source": [
    "energy = energy.reset_index()"
   ]
  },
  {
   "cell_type": "markdown",
   "metadata": {},
   "source": [
    "#### Compute the hourly consumption\n",
    "\n",
    "We are interested in predicting the energy consumption in a given hour. However, the `'total_consumption'` column in the energy data frame at this point contains the total consumption until the end of that hour. Assuming that the dataset contains a sample for every hour, i.e. there are no gaps, the hourly consumption can be compouted by taking the difference between the previous sample."
   ]
  },
  {
   "cell_type": "code",
   "execution_count": 23,
   "metadata": {},
   "outputs": [
    {
     "name": "stdout",
     "output_type": "stream",
     "text": [
      "(29756, 7)\n"
     ]
    }
   ],
   "source": [
    "col = \"total_consumption\"\n",
    "energy[\"consumption\"] = energy[col] - energy[col].shift(1)\n",
    "energy = energy.dropna().reset_index()\n",
    "print(energy.shape)"
   ]
  },
  {
   "cell_type": "code",
   "execution_count": 24,
   "metadata": {},
   "outputs": [
    {
     "data": {
      "text/plain": [
       "index                  int64\n",
       "year                   int64\n",
       "month                  int64\n",
       "day                    int64\n",
       "hour                   int64\n",
       "total_consumption    float64\n",
       "consumption          float64\n",
       "dtype: object"
      ]
     },
     "execution_count": 24,
     "metadata": {},
     "output_type": "execute_result"
    }
   ],
   "source": [
    "energy.dtypes"
   ]
  },
  {
   "cell_type": "markdown",
   "metadata": {},
   "source": [
    "### Question 4\n",
    "\n",
    "The COVID-19 restrictions are sampled once per day. To combine them with the hourly energy consumption, we need to transform the restrictions data to contain one sample per hour. Assuming that a given restriction is valid throughout the day, up-sample the `raw_restrictions` data to contain one row per hour in the day. Assign the up-sampled data frame to the variable `restrictions`.\n",
    "\n",
    "<span class=\"t\">Hint<span class=\"c\">:</span></span>\n",
    "<span class=\"h\">\n",
    "You can use pandas `resample()` function to produce measurements per hour.\n",
    "</span>"
   ]
  },
  {
   "cell_type": "code",
   "execution_count": 25,
   "metadata": {},
   "outputs": [],
   "source": [
    "# raw_restrictions['time'] = pd.to_datetime(raw_restrictions['time'], unit='s') #Convert from unix time to utc\n",
    "# raw_restrictions['time'] = raw_restrictions.time.dt.tz_localize('utc').dt.tz_convert('Europe/Amsterdam') #Convert to local time\n",
    "# test_raw_restrictions = raw_restrictions.copy()\n",
    "# test_raw_restrictions['time'] = pd.to_datetime(test_raw_restrictions['time'])\n",
    "\n",
    "# test_raw_restrictions = test_raw_restrictions.set_index('time') #Datetime-like type of data has to be the index if we want to resample the timeseries\n",
    "\n",
    "# resampled_raw_restrictions = test_raw_restrictions.resample('1H').ffill() #Do the oversampling ( 1H is the interval, i.e. we generate one extra sample per hour\n"
   ]
  },
  {
   "cell_type": "code",
   "execution_count": 26,
   "metadata": {},
   "outputs": [
    {
     "name": "stdout",
     "output_type": "stream",
     "text": [
      "Number of rows when upsampled: 15481 and original number of rows: 514\n"
     ]
    }
   ],
   "source": [
    "#// BEGIN_TODO [Q4]\n",
    "raw_restrictions['time'] = pd.to_datetime(raw_restrictions['time'], unit='s') #Convert from unix time to utc\n",
    "raw_restrictions['time'] = raw_restrictions.time.dt.tz_localize('utc').dt.tz_convert('Europe/Amsterdam') #Convert to local time\n",
    "test_raw_restrictions = raw_restrictions.copy()\n",
    "test_raw_restrictions['time'] = pd.to_datetime(test_raw_restrictions['time'])\n",
    "\n",
    "test_raw_restrictions = test_raw_restrictions.set_index('time') #Datetime-like type of data has to be the index if we want to resample the timeseries\n",
    "\n",
    "resampled_raw_restrictions = test_raw_restrictions.resample('1H').ffill() #Do the oversampling ( 1H is the interval, i.e. we generate one extra sample per hour\n",
    "\n",
    "restrictions = resampled_raw_restrictions.copy() #Needed for the next cells\n",
    "\n",
    "restrictions = restrictions.reset_index()\n",
    "#// END_TODO [Q4]\n",
    "\n",
    "\n",
    "print('Number of rows when upsampled: {0} and original number of rows: {1}'.format(restrictions.shape[0], raw_restrictions.shape[0]))"
   ]
  },
  {
   "cell_type": "markdown",
   "metadata": {},
   "source": [
    "#### Merge the data frames\n",
    "\n",
    "Now that both data frames are expressed in terms of hours and the energy data frame contains the hourly consumption, we can use pandas to merge them. \n",
    "\n",
    "> **IMPORTANT:** when dealing with times in data from various sources one must be very carefull about the semantics of the time, such as the time-zone or the daylight-saving. Luckily, in this assignment both energy and restriction data use UTC time, so no extra preprocessing is required."
   ]
  },
  {
   "cell_type": "markdown",
   "metadata": {},
   "source": [
    "For the restriction data to be able to merge with the energy data, let us first convert the time column into year, month, day and hour columns:"
   ]
  },
  {
   "cell_type": "code",
   "execution_count": 27,
   "metadata": {},
   "outputs": [],
   "source": [
    "times = pd.to_datetime(restrictions[\"time\"], unit='s')\n",
    "restrictions['year']  = times.dt.year\n",
    "restrictions['month'] = times.dt.month\n",
    "restrictions['day']   = times.dt.dayofyear\n",
    "restrictions['hour']  = times.dt.hour\n",
    "restrictions = restrictions.drop('time', axis=1)"
   ]
  },
  {
   "cell_type": "code",
   "execution_count": 28,
   "metadata": {},
   "outputs": [
    {
     "data": {
      "text/html": [
       "<div>\n",
       "<style scoped>\n",
       "    .dataframe tbody tr th:only-of-type {\n",
       "        vertical-align: middle;\n",
       "    }\n",
       "\n",
       "    .dataframe tbody tr th {\n",
       "        vertical-align: top;\n",
       "    }\n",
       "\n",
       "    .dataframe thead th {\n",
       "        text-align: right;\n",
       "    }\n",
       "</style>\n",
       "<table border=\"1\" class=\"dataframe\">\n",
       "  <thead>\n",
       "    <tr style=\"text-align: right;\">\n",
       "      <th></th>\n",
       "      <th>stringency</th>\n",
       "      <th>C1_School closing</th>\n",
       "      <th>C2_Workplace closing</th>\n",
       "      <th>C3_Cancel public events</th>\n",
       "      <th>C4_Restrictions on gatherings</th>\n",
       "      <th>C5_Close public transport</th>\n",
       "      <th>C6_Stay at home requirements</th>\n",
       "      <th>C7_Restrictions on internal movement</th>\n",
       "      <th>C8_International travel controls</th>\n",
       "      <th>H1_Public information campaigns</th>\n",
       "      <th>year</th>\n",
       "      <th>month</th>\n",
       "      <th>day</th>\n",
       "      <th>hour</th>\n",
       "    </tr>\n",
       "  </thead>\n",
       "  <tbody>\n",
       "    <tr>\n",
       "      <th>0</th>\n",
       "      <td>NaN</td>\n",
       "      <td>NaN</td>\n",
       "      <td>NaN</td>\n",
       "      <td>NaN</td>\n",
       "      <td>NaN</td>\n",
       "      <td>NaN</td>\n",
       "      <td>NaN</td>\n",
       "      <td>NaN</td>\n",
       "      <td>NaN</td>\n",
       "      <td>NaN</td>\n",
       "      <td>2020</td>\n",
       "      <td>1</td>\n",
       "      <td>1</td>\n",
       "      <td>1</td>\n",
       "    </tr>\n",
       "    <tr>\n",
       "      <th>1</th>\n",
       "      <td>0.0</td>\n",
       "      <td>0.0</td>\n",
       "      <td>0.0</td>\n",
       "      <td>0.0</td>\n",
       "      <td>0.0</td>\n",
       "      <td>0.0</td>\n",
       "      <td>0.0</td>\n",
       "      <td>0.0</td>\n",
       "      <td>0.0</td>\n",
       "      <td>0.0</td>\n",
       "      <td>2020</td>\n",
       "      <td>1</td>\n",
       "      <td>1</td>\n",
       "      <td>2</td>\n",
       "    </tr>\n",
       "    <tr>\n",
       "      <th>2</th>\n",
       "      <td>0.0</td>\n",
       "      <td>0.0</td>\n",
       "      <td>0.0</td>\n",
       "      <td>0.0</td>\n",
       "      <td>0.0</td>\n",
       "      <td>0.0</td>\n",
       "      <td>0.0</td>\n",
       "      <td>0.0</td>\n",
       "      <td>0.0</td>\n",
       "      <td>0.0</td>\n",
       "      <td>2020</td>\n",
       "      <td>1</td>\n",
       "      <td>1</td>\n",
       "      <td>3</td>\n",
       "    </tr>\n",
       "    <tr>\n",
       "      <th>3</th>\n",
       "      <td>0.0</td>\n",
       "      <td>0.0</td>\n",
       "      <td>0.0</td>\n",
       "      <td>0.0</td>\n",
       "      <td>0.0</td>\n",
       "      <td>0.0</td>\n",
       "      <td>0.0</td>\n",
       "      <td>0.0</td>\n",
       "      <td>0.0</td>\n",
       "      <td>0.0</td>\n",
       "      <td>2020</td>\n",
       "      <td>1</td>\n",
       "      <td>1</td>\n",
       "      <td>4</td>\n",
       "    </tr>\n",
       "    <tr>\n",
       "      <th>4</th>\n",
       "      <td>0.0</td>\n",
       "      <td>0.0</td>\n",
       "      <td>0.0</td>\n",
       "      <td>0.0</td>\n",
       "      <td>0.0</td>\n",
       "      <td>0.0</td>\n",
       "      <td>0.0</td>\n",
       "      <td>0.0</td>\n",
       "      <td>0.0</td>\n",
       "      <td>0.0</td>\n",
       "      <td>2020</td>\n",
       "      <td>1</td>\n",
       "      <td>1</td>\n",
       "      <td>5</td>\n",
       "    </tr>\n",
       "  </tbody>\n",
       "</table>\n",
       "</div>"
      ],
      "text/plain": [
       "   stringency  C1_School closing  C2_Workplace closing  \\\n",
       "0         NaN                NaN                   NaN   \n",
       "1         0.0                0.0                   0.0   \n",
       "2         0.0                0.0                   0.0   \n",
       "3         0.0                0.0                   0.0   \n",
       "4         0.0                0.0                   0.0   \n",
       "\n",
       "   C3_Cancel public events  C4_Restrictions on gatherings  \\\n",
       "0                      NaN                            NaN   \n",
       "1                      0.0                            0.0   \n",
       "2                      0.0                            0.0   \n",
       "3                      0.0                            0.0   \n",
       "4                      0.0                            0.0   \n",
       "\n",
       "   C5_Close public transport  C6_Stay at home requirements  \\\n",
       "0                        NaN                           NaN   \n",
       "1                        0.0                           0.0   \n",
       "2                        0.0                           0.0   \n",
       "3                        0.0                           0.0   \n",
       "4                        0.0                           0.0   \n",
       "\n",
       "   C7_Restrictions on internal movement  C8_International travel controls  \\\n",
       "0                                   NaN                               NaN   \n",
       "1                                   0.0                               0.0   \n",
       "2                                   0.0                               0.0   \n",
       "3                                   0.0                               0.0   \n",
       "4                                   0.0                               0.0   \n",
       "\n",
       "   H1_Public information campaigns  year  month  day  hour  \n",
       "0                              NaN  2020      1    1     1  \n",
       "1                              0.0  2020      1    1     2  \n",
       "2                              0.0  2020      1    1     3  \n",
       "3                              0.0  2020      1    1     4  \n",
       "4                              0.0  2020      1    1     5  "
      ]
     },
     "execution_count": 28,
     "metadata": {},
     "output_type": "execute_result"
    }
   ],
   "source": [
    "restrictions.head()"
   ]
  },
  {
   "cell_type": "markdown",
   "metadata": {},
   "source": [
    "We can now use pandas to do the merge:"
   ]
  },
  {
   "cell_type": "code",
   "execution_count": 29,
   "metadata": {},
   "outputs": [
    {
     "data": {
      "text/html": [
       "<div>\n",
       "<style scoped>\n",
       "    .dataframe tbody tr th:only-of-type {\n",
       "        vertical-align: middle;\n",
       "    }\n",
       "\n",
       "    .dataframe tbody tr th {\n",
       "        vertical-align: top;\n",
       "    }\n",
       "\n",
       "    .dataframe thead th {\n",
       "        text-align: right;\n",
       "    }\n",
       "</style>\n",
       "<table border=\"1\" class=\"dataframe\">\n",
       "  <thead>\n",
       "    <tr style=\"text-align: right;\">\n",
       "      <th></th>\n",
       "      <th>year</th>\n",
       "      <th>month</th>\n",
       "      <th>day</th>\n",
       "      <th>hour</th>\n",
       "      <th>total_consumption</th>\n",
       "      <th>consumption</th>\n",
       "      <th>stringency</th>\n",
       "      <th>C1_School closing</th>\n",
       "      <th>C2_Workplace closing</th>\n",
       "      <th>C3_Cancel public events</th>\n",
       "      <th>C4_Restrictions on gatherings</th>\n",
       "      <th>C5_Close public transport</th>\n",
       "      <th>C6_Stay at home requirements</th>\n",
       "      <th>C7_Restrictions on internal movement</th>\n",
       "      <th>C8_International travel controls</th>\n",
       "      <th>H1_Public information campaigns</th>\n",
       "    </tr>\n",
       "  </thead>\n",
       "  <tbody>\n",
       "    <tr>\n",
       "      <th>0</th>\n",
       "      <td>2020</td>\n",
       "      <td>1</td>\n",
       "      <td>1</td>\n",
       "      <td>2</td>\n",
       "      <td>24589.787</td>\n",
       "      <td>0.399</td>\n",
       "      <td>0.0</td>\n",
       "      <td>0.0</td>\n",
       "      <td>0.0</td>\n",
       "      <td>0.0</td>\n",
       "      <td>0.0</td>\n",
       "      <td>0.0</td>\n",
       "      <td>0.0</td>\n",
       "      <td>0.0</td>\n",
       "      <td>0.0</td>\n",
       "      <td>0.0</td>\n",
       "    </tr>\n",
       "    <tr>\n",
       "      <th>1</th>\n",
       "      <td>2020</td>\n",
       "      <td>1</td>\n",
       "      <td>1</td>\n",
       "      <td>3</td>\n",
       "      <td>24590.107</td>\n",
       "      <td>0.320</td>\n",
       "      <td>0.0</td>\n",
       "      <td>0.0</td>\n",
       "      <td>0.0</td>\n",
       "      <td>0.0</td>\n",
       "      <td>0.0</td>\n",
       "      <td>0.0</td>\n",
       "      <td>0.0</td>\n",
       "      <td>0.0</td>\n",
       "      <td>0.0</td>\n",
       "      <td>0.0</td>\n",
       "    </tr>\n",
       "    <tr>\n",
       "      <th>2</th>\n",
       "      <td>2020</td>\n",
       "      <td>1</td>\n",
       "      <td>1</td>\n",
       "      <td>4</td>\n",
       "      <td>24590.311</td>\n",
       "      <td>0.204</td>\n",
       "      <td>0.0</td>\n",
       "      <td>0.0</td>\n",
       "      <td>0.0</td>\n",
       "      <td>0.0</td>\n",
       "      <td>0.0</td>\n",
       "      <td>0.0</td>\n",
       "      <td>0.0</td>\n",
       "      <td>0.0</td>\n",
       "      <td>0.0</td>\n",
       "      <td>0.0</td>\n",
       "    </tr>\n",
       "    <tr>\n",
       "      <th>3</th>\n",
       "      <td>2020</td>\n",
       "      <td>1</td>\n",
       "      <td>1</td>\n",
       "      <td>5</td>\n",
       "      <td>24590.651</td>\n",
       "      <td>0.340</td>\n",
       "      <td>0.0</td>\n",
       "      <td>0.0</td>\n",
       "      <td>0.0</td>\n",
       "      <td>0.0</td>\n",
       "      <td>0.0</td>\n",
       "      <td>0.0</td>\n",
       "      <td>0.0</td>\n",
       "      <td>0.0</td>\n",
       "      <td>0.0</td>\n",
       "      <td>0.0</td>\n",
       "    </tr>\n",
       "    <tr>\n",
       "      <th>4</th>\n",
       "      <td>2020</td>\n",
       "      <td>1</td>\n",
       "      <td>1</td>\n",
       "      <td>6</td>\n",
       "      <td>24591.265</td>\n",
       "      <td>0.614</td>\n",
       "      <td>0.0</td>\n",
       "      <td>0.0</td>\n",
       "      <td>0.0</td>\n",
       "      <td>0.0</td>\n",
       "      <td>0.0</td>\n",
       "      <td>0.0</td>\n",
       "      <td>0.0</td>\n",
       "      <td>0.0</td>\n",
       "      <td>0.0</td>\n",
       "      <td>0.0</td>\n",
       "    </tr>\n",
       "  </tbody>\n",
       "</table>\n",
       "</div>"
      ],
      "text/plain": [
       "   year  month  day  hour  total_consumption  consumption  stringency  \\\n",
       "0  2020      1    1     2          24589.787        0.399         0.0   \n",
       "1  2020      1    1     3          24590.107        0.320         0.0   \n",
       "2  2020      1    1     4          24590.311        0.204         0.0   \n",
       "3  2020      1    1     5          24590.651        0.340         0.0   \n",
       "4  2020      1    1     6          24591.265        0.614         0.0   \n",
       "\n",
       "   C1_School closing  C2_Workplace closing  C3_Cancel public events  \\\n",
       "0                0.0                   0.0                      0.0   \n",
       "1                0.0                   0.0                      0.0   \n",
       "2                0.0                   0.0                      0.0   \n",
       "3                0.0                   0.0                      0.0   \n",
       "4                0.0                   0.0                      0.0   \n",
       "\n",
       "   C4_Restrictions on gatherings  C5_Close public transport  \\\n",
       "0                            0.0                        0.0   \n",
       "1                            0.0                        0.0   \n",
       "2                            0.0                        0.0   \n",
       "3                            0.0                        0.0   \n",
       "4                            0.0                        0.0   \n",
       "\n",
       "   C6_Stay at home requirements  C7_Restrictions on internal movement  \\\n",
       "0                           0.0                                   0.0   \n",
       "1                           0.0                                   0.0   \n",
       "2                           0.0                                   0.0   \n",
       "3                           0.0                                   0.0   \n",
       "4                           0.0                                   0.0   \n",
       "\n",
       "   C8_International travel controls  H1_Public information campaigns  \n",
       "0                               0.0                              0.0  \n",
       "1                               0.0                              0.0  \n",
       "2                               0.0                              0.0  \n",
       "3                               0.0                              0.0  \n",
       "4                               0.0                              0.0  "
      ]
     },
     "execution_count": 29,
     "metadata": {},
     "output_type": "execute_result"
    }
   ],
   "source": [
    "data = pd.merge(energy, restrictions).dropna().reset_index(drop=True)\n",
    "data = data.drop('index', axis=1) # Normally, this line shouldnt be here, I'm just testing\n",
    "data.head()"
   ]
  },
  {
   "cell_type": "code",
   "execution_count": 30,
   "metadata": {},
   "outputs": [
    {
     "name": "stdout",
     "output_type": "stream",
     "text": [
      "Number of rows when merging energy and restrictions 10982\n"
     ]
    }
   ],
   "source": [
    "print('Number of rows when merging energy and restrictions {0}'.format(data.shape[0]))"
   ]
  },
  {
   "cell_type": "markdown",
   "metadata": {},
   "source": [
    "#### Explore the engineered features\n",
    "\n",
    "After engineering features it is a good idea to explore the dataset again, to see if extra cleaning is required."
   ]
  },
  {
   "cell_type": "code",
   "execution_count": 31,
   "metadata": {},
   "outputs": [
    {
     "name": "stdout",
     "output_type": "stream",
     "text": [
      "0.0 289.4279999999999\n"
     ]
    },
    {
     "data": {
      "image/png": "[encoded data removed]",
      "text/plain": [
       "<Figure size 720x144 with 1 Axes>"
      ]
     },
     "metadata": {
      "needs_background": "light"
     },
     "output_type": "display_data"
    }
   ],
   "source": [
    "values = data[\"consumption\"].values\n",
    "plt.figure(figsize=(10, 2))\n",
    "plt.hist(values, 50);\n",
    "plt.xlabel('Consumption (kWh)')\n",
    "plt.ylabel('Frequency')\n",
    "print (min(values), max(values))"
   ]
  },
  {
   "cell_type": "markdown",
   "metadata": {},
   "source": [
    "The small variance of the values and their large range suggests there are some outliers. This can be also visualized in a different way."
   ]
  },
  {
   "cell_type": "code",
   "execution_count": 32,
   "metadata": {},
   "outputs": [
    {
     "data": {
      "image/png": "[encoded data removed]",
      "text/plain": [
       "<Figure size 720x216 with 1 Axes>"
      ]
     },
     "metadata": {
      "needs_background": "light"
     },
     "output_type": "display_data"
    }
   ],
   "source": [
    "def plot(df, col):\n",
    "    x = df[\"day\"]\n",
    "    plt.figure(figsize=(10,3))\n",
    "    plt.plot(x, df[col], 'bo', markersize=1)\n",
    "    plt.xlabel('Day')\n",
    "    plt.ylabel(col)    \n",
    "plot(data, \"consumption\")"
   ]
  },
  {
   "cell_type": "markdown",
   "metadata": {},
   "source": [
    "The figure suggests that there are indeed outliers in the energy consumption data."
   ]
  },
  {
   "cell_type": "markdown",
   "metadata": {},
   "source": [
    "### Question 5\n",
    "\n",
    "The plot shows some outliers. How do you explain these? Note that there may be more than one correct anwser.\n",
    "\n",
    "1. There is actually an oversight in the previous calculations which causes the outliers.\n",
    "2. There is some unclean data present due to sensor errors.\n",
    "3. There were some very high consumption days due to certain events, e.g. Christmas Eve.\n",
    "4. The outliers represent multiple days of consumption.\n",
    "\n",
    "Assign the integer(s) corresponding to the correct answer(s) as a list to the variable `question_outliers`."
   ]
  },
  {
   "cell_type": "code",
   "execution_count": 33,
   "metadata": {},
   "outputs": [
    {
     "name": "stdout",
     "output_type": "stream",
     "text": [
      "0        0.399\n",
      "1        0.320\n",
      "2        0.204\n",
      "3        0.340\n",
      "4        0.614\n",
      "         ...  \n",
      "10977    0.029\n",
      "10978    0.034\n",
      "10979    0.020\n",
      "10980    0.012\n",
      "10981    0.000\n",
      "Name: consumption, Length: 10982, dtype: float64\n"
     ]
    },
    {
     "data": {
      "text/plain": [
       "(1.0, 366.0, 0.0, 289.4279999999999)"
      ]
     },
     "execution_count": 33,
     "metadata": {},
     "output_type": "execute_result"
    },
    {
     "data": {
      "image/png": "[encoded data removed]",
      "text/plain": [
       "<Figure size 1008x648 with 1 Axes>"
      ]
     },
     "metadata": {
      "needs_background": "light"
     },
     "output_type": "display_data"
    }
   ],
   "source": [
    "print(data['consumption'])\n",
    "\n",
    "plt.rcParams[\"figure.figsize\"] = (14, 9) # (w, h)\n",
    "X = data[\"day\"]\n",
    "Y = data[\"consumption\"]\n",
    "plt.plot(X, Y)\n",
    "plt.xlabel('day')\n",
    "plt.ylabel('energy consumption (kWh)')\n",
    "plt.axis([X.min(), X.max(), Y.min(), Y.max()])"
   ]
  },
  {
   "cell_type": "code",
   "execution_count": 34,
   "metadata": {},
   "outputs": [
    {
     "data": {
      "text/html": [
       "<div>\n",
       "<style scoped>\n",
       "    .dataframe tbody tr th:only-of-type {\n",
       "        vertical-align: middle;\n",
       "    }\n",
       "\n",
       "    .dataframe tbody tr th {\n",
       "        vertical-align: top;\n",
       "    }\n",
       "\n",
       "    .dataframe thead th {\n",
       "        text-align: right;\n",
       "    }\n",
       "</style>\n",
       "<table border=\"1\" class=\"dataframe\">\n",
       "  <thead>\n",
       "    <tr style=\"text-align: right;\">\n",
       "      <th></th>\n",
       "      <th>year</th>\n",
       "      <th>month</th>\n",
       "      <th>day</th>\n",
       "      <th>hour</th>\n",
       "      <th>total_consumption</th>\n",
       "      <th>consumption</th>\n",
       "      <th>stringency</th>\n",
       "      <th>C1_School closing</th>\n",
       "      <th>C2_Workplace closing</th>\n",
       "      <th>C3_Cancel public events</th>\n",
       "      <th>C4_Restrictions on gatherings</th>\n",
       "      <th>C5_Close public transport</th>\n",
       "      <th>C6_Stay at home requirements</th>\n",
       "      <th>C7_Restrictions on internal movement</th>\n",
       "      <th>C8_International travel controls</th>\n",
       "      <th>H1_Public information campaigns</th>\n",
       "    </tr>\n",
       "  </thead>\n",
       "  <tbody>\n",
       "    <tr>\n",
       "      <th>1725</th>\n",
       "      <td>2020</td>\n",
       "      <td>5</td>\n",
       "      <td>122</td>\n",
       "      <td>0</td>\n",
       "      <td>26028.527</td>\n",
       "      <td>289.428</td>\n",
       "      <td>78.70</td>\n",
       "      <td>3.0</td>\n",
       "      <td>2.0</td>\n",
       "      <td>2.0</td>\n",
       "      <td>4.0</td>\n",
       "      <td>1.0</td>\n",
       "      <td>2.0</td>\n",
       "      <td>1.0</td>\n",
       "      <td>3.0</td>\n",
       "      <td>2.0</td>\n",
       "    </tr>\n",
       "    <tr>\n",
       "      <th>10505</th>\n",
       "      <td>2021</td>\n",
       "      <td>9</td>\n",
       "      <td>245</td>\n",
       "      <td>22</td>\n",
       "      <td>30417.203</td>\n",
       "      <td>187.860</td>\n",
       "      <td>41.67</td>\n",
       "      <td>1.0</td>\n",
       "      <td>2.0</td>\n",
       "      <td>1.0</td>\n",
       "      <td>0.0</td>\n",
       "      <td>1.0</td>\n",
       "      <td>0.0</td>\n",
       "      <td>0.0</td>\n",
       "      <td>3.0</td>\n",
       "      <td>2.0</td>\n",
       "    </tr>\n",
       "    <tr>\n",
       "      <th>6389</th>\n",
       "      <td>2020</td>\n",
       "      <td>12</td>\n",
       "      <td>366</td>\n",
       "      <td>1</td>\n",
       "      <td>28292.921</td>\n",
       "      <td>116.855</td>\n",
       "      <td>78.70</td>\n",
       "      <td>3.0</td>\n",
       "      <td>3.0</td>\n",
       "      <td>2.0</td>\n",
       "      <td>4.0</td>\n",
       "      <td>1.0</td>\n",
       "      <td>1.0</td>\n",
       "      <td>1.0</td>\n",
       "      <td>3.0</td>\n",
       "      <td>2.0</td>\n",
       "    </tr>\n",
       "    <tr>\n",
       "      <th>575</th>\n",
       "      <td>2020</td>\n",
       "      <td>2</td>\n",
       "      <td>32</td>\n",
       "      <td>1</td>\n",
       "      <td>25013.760</td>\n",
       "      <td>94.469</td>\n",
       "      <td>0.00</td>\n",
       "      <td>0.0</td>\n",
       "      <td>0.0</td>\n",
       "      <td>0.0</td>\n",
       "      <td>0.0</td>\n",
       "      <td>0.0</td>\n",
       "      <td>0.0</td>\n",
       "      <td>0.0</td>\n",
       "      <td>0.0</td>\n",
       "      <td>0.0</td>\n",
       "    </tr>\n",
       "    <tr>\n",
       "      <th>1103</th>\n",
       "      <td>2020</td>\n",
       "      <td>2</td>\n",
       "      <td>60</td>\n",
       "      <td>1</td>\n",
       "      <td>25367.536</td>\n",
       "      <td>84.801</td>\n",
       "      <td>0.00</td>\n",
       "      <td>0.0</td>\n",
       "      <td>0.0</td>\n",
       "      <td>0.0</td>\n",
       "      <td>0.0</td>\n",
       "      <td>0.0</td>\n",
       "      <td>0.0</td>\n",
       "      <td>0.0</td>\n",
       "      <td>0.0</td>\n",
       "      <td>0.0</td>\n",
       "    </tr>\n",
       "    <tr>\n",
       "      <th>6989</th>\n",
       "      <td>2021</td>\n",
       "      <td>2</td>\n",
       "      <td>32</td>\n",
       "      <td>1</td>\n",
       "      <td>28736.747</td>\n",
       "      <td>83.248</td>\n",
       "      <td>82.41</td>\n",
       "      <td>3.0</td>\n",
       "      <td>3.0</td>\n",
       "      <td>2.0</td>\n",
       "      <td>4.0</td>\n",
       "      <td>1.0</td>\n",
       "      <td>2.0</td>\n",
       "      <td>1.0</td>\n",
       "      <td>3.0</td>\n",
       "      <td>2.0</td>\n",
       "    </tr>\n",
       "    <tr>\n",
       "      <th>1703</th>\n",
       "      <td>2020</td>\n",
       "      <td>3</td>\n",
       "      <td>91</td>\n",
       "      <td>2</td>\n",
       "      <td>25729.538</td>\n",
       "      <td>65.711</td>\n",
       "      <td>78.70</td>\n",
       "      <td>3.0</td>\n",
       "      <td>2.0</td>\n",
       "      <td>2.0</td>\n",
       "      <td>4.0</td>\n",
       "      <td>1.0</td>\n",
       "      <td>2.0</td>\n",
       "      <td>1.0</td>\n",
       "      <td>3.0</td>\n",
       "      <td>2.0</td>\n",
       "    </tr>\n",
       "    <tr>\n",
       "      <th>5813</th>\n",
       "      <td>2020</td>\n",
       "      <td>11</td>\n",
       "      <td>335</td>\n",
       "      <td>1</td>\n",
       "      <td>27829.244</td>\n",
       "      <td>64.132</td>\n",
       "      <td>56.48</td>\n",
       "      <td>1.0</td>\n",
       "      <td>2.0</td>\n",
       "      <td>2.0</td>\n",
       "      <td>4.0</td>\n",
       "      <td>0.0</td>\n",
       "      <td>1.0</td>\n",
       "      <td>0.0</td>\n",
       "      <td>3.0</td>\n",
       "      <td>2.0</td>\n",
       "    </tr>\n",
       "    <tr>\n",
       "      <th>7517</th>\n",
       "      <td>2021</td>\n",
       "      <td>3</td>\n",
       "      <td>60</td>\n",
       "      <td>1</td>\n",
       "      <td>29033.341</td>\n",
       "      <td>57.635</td>\n",
       "      <td>78.70</td>\n",
       "      <td>2.0</td>\n",
       "      <td>3.0</td>\n",
       "      <td>2.0</td>\n",
       "      <td>4.0</td>\n",
       "      <td>1.0</td>\n",
       "      <td>2.0</td>\n",
       "      <td>1.0</td>\n",
       "      <td>3.0</td>\n",
       "      <td>2.0</td>\n",
       "    </tr>\n",
       "    <tr>\n",
       "      <th>4637</th>\n",
       "      <td>2020</td>\n",
       "      <td>9</td>\n",
       "      <td>274</td>\n",
       "      <td>2</td>\n",
       "      <td>27192.069</td>\n",
       "      <td>53.434</td>\n",
       "      <td>48.15</td>\n",
       "      <td>1.0</td>\n",
       "      <td>2.0</td>\n",
       "      <td>1.0</td>\n",
       "      <td>4.0</td>\n",
       "      <td>0.0</td>\n",
       "      <td>1.0</td>\n",
       "      <td>0.0</td>\n",
       "      <td>3.0</td>\n",
       "      <td>2.0</td>\n",
       "    </tr>\n",
       "    <tr>\n",
       "      <th>5237</th>\n",
       "      <td>2020</td>\n",
       "      <td>10</td>\n",
       "      <td>305</td>\n",
       "      <td>1</td>\n",
       "      <td>27512.705</td>\n",
       "      <td>50.974</td>\n",
       "      <td>62.04</td>\n",
       "      <td>1.0</td>\n",
       "      <td>2.0</td>\n",
       "      <td>2.0</td>\n",
       "      <td>4.0</td>\n",
       "      <td>0.0</td>\n",
       "      <td>1.0</td>\n",
       "      <td>1.0</td>\n",
       "      <td>3.0</td>\n",
       "      <td>2.0</td>\n",
       "    </tr>\n",
       "    <tr>\n",
       "      <th>3461</th>\n",
       "      <td>2020</td>\n",
       "      <td>7</td>\n",
       "      <td>213</td>\n",
       "      <td>2</td>\n",
       "      <td>26752.186</td>\n",
       "      <td>48.092</td>\n",
       "      <td>39.81</td>\n",
       "      <td>1.0</td>\n",
       "      <td>2.0</td>\n",
       "      <td>0.0</td>\n",
       "      <td>2.0</td>\n",
       "      <td>0.0</td>\n",
       "      <td>1.0</td>\n",
       "      <td>0.0</td>\n",
       "      <td>3.0</td>\n",
       "      <td>2.0</td>\n",
       "    </tr>\n",
       "    <tr>\n",
       "      <th>8693</th>\n",
       "      <td>2021</td>\n",
       "      <td>5</td>\n",
       "      <td>121</td>\n",
       "      <td>2</td>\n",
       "      <td>29583.444</td>\n",
       "      <td>47.814</td>\n",
       "      <td>75.00</td>\n",
       "      <td>2.0</td>\n",
       "      <td>2.0</td>\n",
       "      <td>2.0</td>\n",
       "      <td>4.0</td>\n",
       "      <td>1.0</td>\n",
       "      <td>2.0</td>\n",
       "      <td>1.0</td>\n",
       "      <td>3.0</td>\n",
       "      <td>2.0</td>\n",
       "    </tr>\n",
       "    <tr>\n",
       "      <th>9293</th>\n",
       "      <td>2021</td>\n",
       "      <td>6</td>\n",
       "      <td>152</td>\n",
       "      <td>2</td>\n",
       "      <td>29825.540</td>\n",
       "      <td>47.808</td>\n",
       "      <td>67.59</td>\n",
       "      <td>1.0</td>\n",
       "      <td>2.0</td>\n",
       "      <td>2.0</td>\n",
       "      <td>4.0</td>\n",
       "      <td>1.0</td>\n",
       "      <td>1.0</td>\n",
       "      <td>1.0</td>\n",
       "      <td>3.0</td>\n",
       "      <td>2.0</td>\n",
       "    </tr>\n",
       "    <tr>\n",
       "      <th>4037</th>\n",
       "      <td>2020</td>\n",
       "      <td>8</td>\n",
       "      <td>243</td>\n",
       "      <td>2</td>\n",
       "      <td>26960.748</td>\n",
       "      <td>47.040</td>\n",
       "      <td>50.93</td>\n",
       "      <td>1.0</td>\n",
       "      <td>2.0</td>\n",
       "      <td>1.0</td>\n",
       "      <td>4.0</td>\n",
       "      <td>0.0</td>\n",
       "      <td>1.0</td>\n",
       "      <td>0.0</td>\n",
       "      <td>3.0</td>\n",
       "      <td>2.0</td>\n",
       "    </tr>\n",
       "    <tr>\n",
       "      <th>8117</th>\n",
       "      <td>2021</td>\n",
       "      <td>4</td>\n",
       "      <td>91</td>\n",
       "      <td>2</td>\n",
       "      <td>29326.989</td>\n",
       "      <td>46.744</td>\n",
       "      <td>75.00</td>\n",
       "      <td>2.0</td>\n",
       "      <td>2.0</td>\n",
       "      <td>2.0</td>\n",
       "      <td>4.0</td>\n",
       "      <td>1.0</td>\n",
       "      <td>2.0</td>\n",
       "      <td>1.0</td>\n",
       "      <td>3.0</td>\n",
       "      <td>2.0</td>\n",
       "    </tr>\n",
       "    <tr>\n",
       "      <th>2303</th>\n",
       "      <td>2020</td>\n",
       "      <td>5</td>\n",
       "      <td>152</td>\n",
       "      <td>2</td>\n",
       "      <td>26286.845</td>\n",
       "      <td>46.178</td>\n",
       "      <td>71.30</td>\n",
       "      <td>2.0</td>\n",
       "      <td>2.0</td>\n",
       "      <td>2.0</td>\n",
       "      <td>4.0</td>\n",
       "      <td>1.0</td>\n",
       "      <td>1.0</td>\n",
       "      <td>1.0</td>\n",
       "      <td>3.0</td>\n",
       "      <td>2.0</td>\n",
       "    </tr>\n",
       "    <tr>\n",
       "      <th>10469</th>\n",
       "      <td>2021</td>\n",
       "      <td>8</td>\n",
       "      <td>213</td>\n",
       "      <td>2</td>\n",
       "      <td>30223.867</td>\n",
       "      <td>38.335</td>\n",
       "      <td>41.67</td>\n",
       "      <td>1.0</td>\n",
       "      <td>2.0</td>\n",
       "      <td>1.0</td>\n",
       "      <td>0.0</td>\n",
       "      <td>1.0</td>\n",
       "      <td>0.0</td>\n",
       "      <td>0.0</td>\n",
       "      <td>3.0</td>\n",
       "      <td>2.0</td>\n",
       "    </tr>\n",
       "    <tr>\n",
       "      <th>9869</th>\n",
       "      <td>2021</td>\n",
       "      <td>7</td>\n",
       "      <td>182</td>\n",
       "      <td>2</td>\n",
       "      <td>30024.547</td>\n",
       "      <td>29.985</td>\n",
       "      <td>62.04</td>\n",
       "      <td>1.0</td>\n",
       "      <td>2.0</td>\n",
       "      <td>2.0</td>\n",
       "      <td>4.0</td>\n",
       "      <td>0.0</td>\n",
       "      <td>1.0</td>\n",
       "      <td>1.0</td>\n",
       "      <td>3.0</td>\n",
       "      <td>2.0</td>\n",
       "    </tr>\n",
       "    <tr>\n",
       "      <th>2879</th>\n",
       "      <td>2020</td>\n",
       "      <td>6</td>\n",
       "      <td>182</td>\n",
       "      <td>2</td>\n",
       "      <td>26534.438</td>\n",
       "      <td>28.271</td>\n",
       "      <td>59.26</td>\n",
       "      <td>1.0</td>\n",
       "      <td>2.0</td>\n",
       "      <td>2.0</td>\n",
       "      <td>3.0</td>\n",
       "      <td>0.0</td>\n",
       "      <td>1.0</td>\n",
       "      <td>1.0</td>\n",
       "      <td>3.0</td>\n",
       "      <td>2.0</td>\n",
       "    </tr>\n",
       "  </tbody>\n",
       "</table>\n",
       "</div>"
      ],
      "text/plain": [
       "       year  month  day  hour  total_consumption  consumption  stringency  \\\n",
       "1725   2020      5  122     0          26028.527      289.428       78.70   \n",
       "10505  2021      9  245    22          30417.203      187.860       41.67   \n",
       "6389   2020     12  366     1          28292.921      116.855       78.70   \n",
       "575    2020      2   32     1          25013.760       94.469        0.00   \n",
       "1103   2020      2   60     1          25367.536       84.801        0.00   \n",
       "6989   2021      2   32     1          28736.747       83.248       82.41   \n",
       "1703   2020      3   91     2          25729.538       65.711       78.70   \n",
       "5813   2020     11  335     1          27829.244       64.132       56.48   \n",
       "7517   2021      3   60     1          29033.341       57.635       78.70   \n",
       "4637   2020      9  274     2          27192.069       53.434       48.15   \n",
       "5237   2020     10  305     1          27512.705       50.974       62.04   \n",
       "3461   2020      7  213     2          26752.186       48.092       39.81   \n",
       "8693   2021      5  121     2          29583.444       47.814       75.00   \n",
       "9293   2021      6  152     2          29825.540       47.808       67.59   \n",
       "4037   2020      8  243     2          26960.748       47.040       50.93   \n",
       "8117   2021      4   91     2          29326.989       46.744       75.00   \n",
       "2303   2020      5  152     2          26286.845       46.178       71.30   \n",
       "10469  2021      8  213     2          30223.867       38.335       41.67   \n",
       "9869   2021      7  182     2          30024.547       29.985       62.04   \n",
       "2879   2020      6  182     2          26534.438       28.271       59.26   \n",
       "\n",
       "       C1_School closing  C2_Workplace closing  C3_Cancel public events  \\\n",
       "1725                 3.0                   2.0                      2.0   \n",
       "10505                1.0                   2.0                      1.0   \n",
       "6389                 3.0                   3.0                      2.0   \n",
       "575                  0.0                   0.0                      0.0   \n",
       "1103                 0.0                   0.0                      0.0   \n",
       "6989                 3.0                   3.0                      2.0   \n",
       "1703                 3.0                   2.0                      2.0   \n",
       "5813                 1.0                   2.0                      2.0   \n",
       "7517                 2.0                   3.0                      2.0   \n",
       "4637                 1.0                   2.0                      1.0   \n",
       "5237                 1.0                   2.0                      2.0   \n",
       "3461                 1.0                   2.0                      0.0   \n",
       "8693                 2.0                   2.0                      2.0   \n",
       "9293                 1.0                   2.0                      2.0   \n",
       "4037                 1.0                   2.0                      1.0   \n",
       "8117                 2.0                   2.0                      2.0   \n",
       "2303                 2.0                   2.0                      2.0   \n",
       "10469                1.0                   2.0                      1.0   \n",
       "9869                 1.0                   2.0                      2.0   \n",
       "2879                 1.0                   2.0                      2.0   \n",
       "\n",
       "       C4_Restrictions on gatherings  C5_Close public transport  \\\n",
       "1725                             4.0                        1.0   \n",
       "10505                            0.0                        1.0   \n",
       "6389                             4.0                        1.0   \n",
       "575                              0.0                        0.0   \n",
       "1103                             0.0                        0.0   \n",
       "6989                             4.0                        1.0   \n",
       "1703                             4.0                        1.0   \n",
       "5813                             4.0                        0.0   \n",
       "7517                             4.0                        1.0   \n",
       "4637                             4.0                        0.0   \n",
       "5237                             4.0                        0.0   \n",
       "3461                             2.0                        0.0   \n",
       "8693                             4.0                        1.0   \n",
       "9293                             4.0                        1.0   \n",
       "4037                             4.0                        0.0   \n",
       "8117                             4.0                        1.0   \n",
       "2303                             4.0                        1.0   \n",
       "10469                            0.0                        1.0   \n",
       "9869                             4.0                        0.0   \n",
       "2879                             3.0                        0.0   \n",
       "\n",
       "       C6_Stay at home requirements  C7_Restrictions on internal movement  \\\n",
       "1725                            2.0                                   1.0   \n",
       "10505                           0.0                                   0.0   \n",
       "6389                            1.0                                   1.0   \n",
       "575                             0.0                                   0.0   \n",
       "1103                            0.0                                   0.0   \n",
       "6989                            2.0                                   1.0   \n",
       "1703                            2.0                                   1.0   \n",
       "5813                            1.0                                   0.0   \n",
       "7517                            2.0                                   1.0   \n",
       "4637                            1.0                                   0.0   \n",
       "5237                            1.0                                   1.0   \n",
       "3461                            1.0                                   0.0   \n",
       "8693                            2.0                                   1.0   \n",
       "9293                            1.0                                   1.0   \n",
       "4037                            1.0                                   0.0   \n",
       "8117                            2.0                                   1.0   \n",
       "2303                            1.0                                   1.0   \n",
       "10469                           0.0                                   0.0   \n",
       "9869                            1.0                                   1.0   \n",
       "2879                            1.0                                   1.0   \n",
       "\n",
       "       C8_International travel controls  H1_Public information campaigns  \n",
       "1725                                3.0                              2.0  \n",
       "10505                               3.0                              2.0  \n",
       "6389                                3.0                              2.0  \n",
       "575                                 0.0                              0.0  \n",
       "1103                                0.0                              0.0  \n",
       "6989                                3.0                              2.0  \n",
       "1703                                3.0                              2.0  \n",
       "5813                                3.0                              2.0  \n",
       "7517                                3.0                              2.0  \n",
       "4637                                3.0                              2.0  \n",
       "5237                                3.0                              2.0  \n",
       "3461                                3.0                              2.0  \n",
       "8693                                3.0                              2.0  \n",
       "9293                                3.0                              2.0  \n",
       "4037                                3.0                              2.0  \n",
       "8117                                3.0                              2.0  \n",
       "2303                                3.0                              2.0  \n",
       "10469                               3.0                              2.0  \n",
       "9869                                3.0                              2.0  \n",
       "2879                                3.0                              2.0  "
      ]
     },
     "execution_count": 34,
     "metadata": {},
     "output_type": "execute_result"
    }
   ],
   "source": [
    "data.sort_values(by='consumption', ascending=False)[:20]"
   ]
  },
  {
   "cell_type": "code",
   "execution_count": 35,
   "metadata": {},
   "outputs": [
    {
     "data": {
      "text/plain": [
       "<AxesSubplot:ylabel='Density'>"
      ]
     },
     "execution_count": 35,
     "metadata": {},
     "output_type": "execute_result"
    },
    {
     "data": {
      "image/png": "[encoded data removed]",
      "text/plain": [
       "<Figure size 1008x648 with 1 Axes>"
      ]
     },
     "metadata": {
      "needs_background": "light"
     },
     "output_type": "display_data"
    }
   ],
   "source": [
    "data['consumption'].sample(300).plot.density() #checking the distribution of a sample"
   ]
  },
  {
   "cell_type": "code",
   "execution_count": 36,
   "metadata": {},
   "outputs": [
    {
     "data": {
      "text/html": [
       "<div>\n",
       "<style scoped>\n",
       "    .dataframe tbody tr th:only-of-type {\n",
       "        vertical-align: middle;\n",
       "    }\n",
       "\n",
       "    .dataframe tbody tr th {\n",
       "        vertical-align: top;\n",
       "    }\n",
       "\n",
       "    .dataframe thead th {\n",
       "        text-align: right;\n",
       "    }\n",
       "</style>\n",
       "<table border=\"1\" class=\"dataframe\">\n",
       "  <thead>\n",
       "    <tr style=\"text-align: right;\">\n",
       "      <th></th>\n",
       "      <th>year</th>\n",
       "      <th>month</th>\n",
       "      <th>day</th>\n",
       "      <th>hour</th>\n",
       "      <th>total_consumption</th>\n",
       "      <th>consumption</th>\n",
       "      <th>stringency</th>\n",
       "      <th>C1_School closing</th>\n",
       "      <th>C2_Workplace closing</th>\n",
       "      <th>C3_Cancel public events</th>\n",
       "      <th>C4_Restrictions on gatherings</th>\n",
       "      <th>C5_Close public transport</th>\n",
       "      <th>C6_Stay at home requirements</th>\n",
       "      <th>C7_Restrictions on internal movement</th>\n",
       "      <th>C8_International travel controls</th>\n",
       "      <th>H1_Public information campaigns</th>\n",
       "      <th>time</th>\n",
       "    </tr>\n",
       "  </thead>\n",
       "  <tbody>\n",
       "    <tr>\n",
       "      <th>1725</th>\n",
       "      <td>2020</td>\n",
       "      <td>5</td>\n",
       "      <td>122</td>\n",
       "      <td>0</td>\n",
       "      <td>26028.527</td>\n",
       "      <td>289.428</td>\n",
       "      <td>78.70</td>\n",
       "      <td>3.0</td>\n",
       "      <td>2.0</td>\n",
       "      <td>2.0</td>\n",
       "      <td>4.0</td>\n",
       "      <td>1.0</td>\n",
       "      <td>2.0</td>\n",
       "      <td>1.0</td>\n",
       "      <td>3.0</td>\n",
       "      <td>2.0</td>\n",
       "      <td>2020-06-22 00:00:00</td>\n",
       "    </tr>\n",
       "    <tr>\n",
       "      <th>10505</th>\n",
       "      <td>2021</td>\n",
       "      <td>9</td>\n",
       "      <td>245</td>\n",
       "      <td>22</td>\n",
       "      <td>30417.203</td>\n",
       "      <td>187.860</td>\n",
       "      <td>41.67</td>\n",
       "      <td>1.0</td>\n",
       "      <td>2.0</td>\n",
       "      <td>1.0</td>\n",
       "      <td>0.0</td>\n",
       "      <td>1.0</td>\n",
       "      <td>0.0</td>\n",
       "      <td>0.0</td>\n",
       "      <td>3.0</td>\n",
       "      <td>2.0</td>\n",
       "      <td>NaT</td>\n",
       "    </tr>\n",
       "    <tr>\n",
       "      <th>6389</th>\n",
       "      <td>2020</td>\n",
       "      <td>12</td>\n",
       "      <td>366</td>\n",
       "      <td>1</td>\n",
       "      <td>28292.921</td>\n",
       "      <td>116.855</td>\n",
       "      <td>78.70</td>\n",
       "      <td>3.0</td>\n",
       "      <td>3.0</td>\n",
       "      <td>2.0</td>\n",
       "      <td>4.0</td>\n",
       "      <td>1.0</td>\n",
       "      <td>1.0</td>\n",
       "      <td>1.0</td>\n",
       "      <td>3.0</td>\n",
       "      <td>2.0</td>\n",
       "      <td>NaT</td>\n",
       "    </tr>\n",
       "    <tr>\n",
       "      <th>575</th>\n",
       "      <td>2020</td>\n",
       "      <td>2</td>\n",
       "      <td>32</td>\n",
       "      <td>1</td>\n",
       "      <td>25013.760</td>\n",
       "      <td>94.469</td>\n",
       "      <td>0.00</td>\n",
       "      <td>0.0</td>\n",
       "      <td>0.0</td>\n",
       "      <td>0.0</td>\n",
       "      <td>0.0</td>\n",
       "      <td>0.0</td>\n",
       "      <td>0.0</td>\n",
       "      <td>0.0</td>\n",
       "      <td>0.0</td>\n",
       "      <td>0.0</td>\n",
       "      <td>NaT</td>\n",
       "    </tr>\n",
       "    <tr>\n",
       "      <th>1103</th>\n",
       "      <td>2020</td>\n",
       "      <td>2</td>\n",
       "      <td>60</td>\n",
       "      <td>1</td>\n",
       "      <td>25367.536</td>\n",
       "      <td>84.801</td>\n",
       "      <td>0.00</td>\n",
       "      <td>0.0</td>\n",
       "      <td>0.0</td>\n",
       "      <td>0.0</td>\n",
       "      <td>0.0</td>\n",
       "      <td>0.0</td>\n",
       "      <td>0.0</td>\n",
       "      <td>0.0</td>\n",
       "      <td>0.0</td>\n",
       "      <td>0.0</td>\n",
       "      <td>NaT</td>\n",
       "    </tr>\n",
       "    <tr>\n",
       "      <th>6989</th>\n",
       "      <td>2021</td>\n",
       "      <td>2</td>\n",
       "      <td>32</td>\n",
       "      <td>1</td>\n",
       "      <td>28736.747</td>\n",
       "      <td>83.248</td>\n",
       "      <td>82.41</td>\n",
       "      <td>3.0</td>\n",
       "      <td>3.0</td>\n",
       "      <td>2.0</td>\n",
       "      <td>4.0</td>\n",
       "      <td>1.0</td>\n",
       "      <td>2.0</td>\n",
       "      <td>1.0</td>\n",
       "      <td>3.0</td>\n",
       "      <td>2.0</td>\n",
       "      <td>NaT</td>\n",
       "    </tr>\n",
       "    <tr>\n",
       "      <th>1703</th>\n",
       "      <td>2020</td>\n",
       "      <td>3</td>\n",
       "      <td>91</td>\n",
       "      <td>2</td>\n",
       "      <td>25729.538</td>\n",
       "      <td>65.711</td>\n",
       "      <td>78.70</td>\n",
       "      <td>3.0</td>\n",
       "      <td>2.0</td>\n",
       "      <td>2.0</td>\n",
       "      <td>4.0</td>\n",
       "      <td>1.0</td>\n",
       "      <td>2.0</td>\n",
       "      <td>1.0</td>\n",
       "      <td>3.0</td>\n",
       "      <td>2.0</td>\n",
       "      <td>NaT</td>\n",
       "    </tr>\n",
       "    <tr>\n",
       "      <th>5813</th>\n",
       "      <td>2020</td>\n",
       "      <td>11</td>\n",
       "      <td>335</td>\n",
       "      <td>1</td>\n",
       "      <td>27829.244</td>\n",
       "      <td>64.132</td>\n",
       "      <td>56.48</td>\n",
       "      <td>1.0</td>\n",
       "      <td>2.0</td>\n",
       "      <td>2.0</td>\n",
       "      <td>4.0</td>\n",
       "      <td>0.0</td>\n",
       "      <td>1.0</td>\n",
       "      <td>0.0</td>\n",
       "      <td>3.0</td>\n",
       "      <td>2.0</td>\n",
       "      <td>NaT</td>\n",
       "    </tr>\n",
       "    <tr>\n",
       "      <th>7517</th>\n",
       "      <td>2021</td>\n",
       "      <td>3</td>\n",
       "      <td>60</td>\n",
       "      <td>1</td>\n",
       "      <td>29033.341</td>\n",
       "      <td>57.635</td>\n",
       "      <td>78.70</td>\n",
       "      <td>2.0</td>\n",
       "      <td>3.0</td>\n",
       "      <td>2.0</td>\n",
       "      <td>4.0</td>\n",
       "      <td>1.0</td>\n",
       "      <td>2.0</td>\n",
       "      <td>1.0</td>\n",
       "      <td>3.0</td>\n",
       "      <td>2.0</td>\n",
       "      <td>NaT</td>\n",
       "    </tr>\n",
       "    <tr>\n",
       "      <th>4637</th>\n",
       "      <td>2020</td>\n",
       "      <td>9</td>\n",
       "      <td>274</td>\n",
       "      <td>2</td>\n",
       "      <td>27192.069</td>\n",
       "      <td>53.434</td>\n",
       "      <td>48.15</td>\n",
       "      <td>1.0</td>\n",
       "      <td>2.0</td>\n",
       "      <td>1.0</td>\n",
       "      <td>4.0</td>\n",
       "      <td>0.0</td>\n",
       "      <td>1.0</td>\n",
       "      <td>0.0</td>\n",
       "      <td>3.0</td>\n",
       "      <td>2.0</td>\n",
       "      <td>NaT</td>\n",
       "    </tr>\n",
       "    <tr>\n",
       "      <th>5237</th>\n",
       "      <td>2020</td>\n",
       "      <td>10</td>\n",
       "      <td>305</td>\n",
       "      <td>1</td>\n",
       "      <td>27512.705</td>\n",
       "      <td>50.974</td>\n",
       "      <td>62.04</td>\n",
       "      <td>1.0</td>\n",
       "      <td>2.0</td>\n",
       "      <td>2.0</td>\n",
       "      <td>4.0</td>\n",
       "      <td>0.0</td>\n",
       "      <td>1.0</td>\n",
       "      <td>1.0</td>\n",
       "      <td>3.0</td>\n",
       "      <td>2.0</td>\n",
       "      <td>NaT</td>\n",
       "    </tr>\n",
       "    <tr>\n",
       "      <th>3461</th>\n",
       "      <td>2020</td>\n",
       "      <td>7</td>\n",
       "      <td>213</td>\n",
       "      <td>2</td>\n",
       "      <td>26752.186</td>\n",
       "      <td>48.092</td>\n",
       "      <td>39.81</td>\n",
       "      <td>1.0</td>\n",
       "      <td>2.0</td>\n",
       "      <td>0.0</td>\n",
       "      <td>2.0</td>\n",
       "      <td>0.0</td>\n",
       "      <td>1.0</td>\n",
       "      <td>0.0</td>\n",
       "      <td>3.0</td>\n",
       "      <td>2.0</td>\n",
       "      <td>2020-09-13 02:00:00</td>\n",
       "    </tr>\n",
       "    <tr>\n",
       "      <th>8693</th>\n",
       "      <td>2021</td>\n",
       "      <td>5</td>\n",
       "      <td>121</td>\n",
       "      <td>2</td>\n",
       "      <td>29583.444</td>\n",
       "      <td>47.814</td>\n",
       "      <td>75.00</td>\n",
       "      <td>2.0</td>\n",
       "      <td>2.0</td>\n",
       "      <td>2.0</td>\n",
       "      <td>4.0</td>\n",
       "      <td>1.0</td>\n",
       "      <td>2.0</td>\n",
       "      <td>1.0</td>\n",
       "      <td>3.0</td>\n",
       "      <td>2.0</td>\n",
       "      <td>2021-06-21 02:00:00</td>\n",
       "    </tr>\n",
       "    <tr>\n",
       "      <th>9293</th>\n",
       "      <td>2021</td>\n",
       "      <td>6</td>\n",
       "      <td>152</td>\n",
       "      <td>2</td>\n",
       "      <td>29825.540</td>\n",
       "      <td>47.808</td>\n",
       "      <td>67.59</td>\n",
       "      <td>1.0</td>\n",
       "      <td>2.0</td>\n",
       "      <td>2.0</td>\n",
       "      <td>4.0</td>\n",
       "      <td>1.0</td>\n",
       "      <td>1.0</td>\n",
       "      <td>1.0</td>\n",
       "      <td>3.0</td>\n",
       "      <td>2.0</td>\n",
       "      <td>NaT</td>\n",
       "    </tr>\n",
       "    <tr>\n",
       "      <th>4037</th>\n",
       "      <td>2020</td>\n",
       "      <td>8</td>\n",
       "      <td>243</td>\n",
       "      <td>2</td>\n",
       "      <td>26960.748</td>\n",
       "      <td>47.040</td>\n",
       "      <td>50.93</td>\n",
       "      <td>1.0</td>\n",
       "      <td>2.0</td>\n",
       "      <td>1.0</td>\n",
       "      <td>4.0</td>\n",
       "      <td>0.0</td>\n",
       "      <td>1.0</td>\n",
       "      <td>0.0</td>\n",
       "      <td>3.0</td>\n",
       "      <td>2.0</td>\n",
       "      <td>NaT</td>\n",
       "    </tr>\n",
       "    <tr>\n",
       "      <th>8117</th>\n",
       "      <td>2021</td>\n",
       "      <td>4</td>\n",
       "      <td>91</td>\n",
       "      <td>2</td>\n",
       "      <td>29326.989</td>\n",
       "      <td>46.744</td>\n",
       "      <td>75.00</td>\n",
       "      <td>2.0</td>\n",
       "      <td>2.0</td>\n",
       "      <td>2.0</td>\n",
       "      <td>4.0</td>\n",
       "      <td>1.0</td>\n",
       "      <td>2.0</td>\n",
       "      <td>1.0</td>\n",
       "      <td>3.0</td>\n",
       "      <td>2.0</td>\n",
       "      <td>NaT</td>\n",
       "    </tr>\n",
       "    <tr>\n",
       "      <th>2303</th>\n",
       "      <td>2020</td>\n",
       "      <td>5</td>\n",
       "      <td>152</td>\n",
       "      <td>2</td>\n",
       "      <td>26286.845</td>\n",
       "      <td>46.178</td>\n",
       "      <td>71.30</td>\n",
       "      <td>2.0</td>\n",
       "      <td>2.0</td>\n",
       "      <td>2.0</td>\n",
       "      <td>4.0</td>\n",
       "      <td>1.0</td>\n",
       "      <td>1.0</td>\n",
       "      <td>1.0</td>\n",
       "      <td>3.0</td>\n",
       "      <td>2.0</td>\n",
       "      <td>NaT</td>\n",
       "    </tr>\n",
       "    <tr>\n",
       "      <th>10469</th>\n",
       "      <td>2021</td>\n",
       "      <td>8</td>\n",
       "      <td>213</td>\n",
       "      <td>2</td>\n",
       "      <td>30223.867</td>\n",
       "      <td>38.335</td>\n",
       "      <td>41.67</td>\n",
       "      <td>1.0</td>\n",
       "      <td>2.0</td>\n",
       "      <td>1.0</td>\n",
       "      <td>0.0</td>\n",
       "      <td>1.0</td>\n",
       "      <td>0.0</td>\n",
       "      <td>0.0</td>\n",
       "      <td>3.0</td>\n",
       "      <td>2.0</td>\n",
       "      <td>2021-10-13 02:00:00</td>\n",
       "    </tr>\n",
       "    <tr>\n",
       "      <th>9869</th>\n",
       "      <td>2021</td>\n",
       "      <td>7</td>\n",
       "      <td>182</td>\n",
       "      <td>2</td>\n",
       "      <td>30024.547</td>\n",
       "      <td>29.985</td>\n",
       "      <td>62.04</td>\n",
       "      <td>1.0</td>\n",
       "      <td>2.0</td>\n",
       "      <td>2.0</td>\n",
       "      <td>4.0</td>\n",
       "      <td>0.0</td>\n",
       "      <td>1.0</td>\n",
       "      <td>1.0</td>\n",
       "      <td>3.0</td>\n",
       "      <td>2.0</td>\n",
       "      <td>NaT</td>\n",
       "    </tr>\n",
       "    <tr>\n",
       "      <th>2879</th>\n",
       "      <td>2020</td>\n",
       "      <td>6</td>\n",
       "      <td>182</td>\n",
       "      <td>2</td>\n",
       "      <td>26534.438</td>\n",
       "      <td>28.271</td>\n",
       "      <td>59.26</td>\n",
       "      <td>1.0</td>\n",
       "      <td>2.0</td>\n",
       "      <td>2.0</td>\n",
       "      <td>3.0</td>\n",
       "      <td>0.0</td>\n",
       "      <td>1.0</td>\n",
       "      <td>1.0</td>\n",
       "      <td>3.0</td>\n",
       "      <td>2.0</td>\n",
       "      <td>NaT</td>\n",
       "    </tr>\n",
       "    <tr>\n",
       "      <th>2639</th>\n",
       "      <td>2020</td>\n",
       "      <td>6</td>\n",
       "      <td>168</td>\n",
       "      <td>2</td>\n",
       "      <td>26426.437</td>\n",
       "      <td>16.512</td>\n",
       "      <td>59.26</td>\n",
       "      <td>1.0</td>\n",
       "      <td>2.0</td>\n",
       "      <td>2.0</td>\n",
       "      <td>3.0</td>\n",
       "      <td>0.0</td>\n",
       "      <td>1.0</td>\n",
       "      <td>1.0</td>\n",
       "      <td>3.0</td>\n",
       "      <td>2.0</td>\n",
       "      <td>NaT</td>\n",
       "    </tr>\n",
       "    <tr>\n",
       "      <th>5093</th>\n",
       "      <td>2020</td>\n",
       "      <td>10</td>\n",
       "      <td>294</td>\n",
       "      <td>2</td>\n",
       "      <td>27402.187</td>\n",
       "      <td>13.399</td>\n",
       "      <td>62.04</td>\n",
       "      <td>1.0</td>\n",
       "      <td>2.0</td>\n",
       "      <td>2.0</td>\n",
       "      <td>4.0</td>\n",
       "      <td>0.0</td>\n",
       "      <td>1.0</td>\n",
       "      <td>1.0</td>\n",
       "      <td>3.0</td>\n",
       "      <td>2.0</td>\n",
       "      <td>NaT</td>\n",
       "    </tr>\n",
       "    <tr>\n",
       "      <th>9629</th>\n",
       "      <td>2021</td>\n",
       "      <td>6</td>\n",
       "      <td>168</td>\n",
       "      <td>2</td>\n",
       "      <td>29928.964</td>\n",
       "      <td>11.722</td>\n",
       "      <td>67.59</td>\n",
       "      <td>1.0</td>\n",
       "      <td>2.0</td>\n",
       "      <td>2.0</td>\n",
       "      <td>4.0</td>\n",
       "      <td>1.0</td>\n",
       "      <td>1.0</td>\n",
       "      <td>1.0</td>\n",
       "      <td>3.0</td>\n",
       "      <td>2.0</td>\n",
       "      <td>NaT</td>\n",
       "    </tr>\n",
       "    <tr>\n",
       "      <th>3001</th>\n",
       "      <td>2020</td>\n",
       "      <td>7</td>\n",
       "      <td>187</td>\n",
       "      <td>22</td>\n",
       "      <td>26582.628</td>\n",
       "      <td>4.284</td>\n",
       "      <td>39.81</td>\n",
       "      <td>1.0</td>\n",
       "      <td>2.0</td>\n",
       "      <td>0.0</td>\n",
       "      <td>2.0</td>\n",
       "      <td>0.0</td>\n",
       "      <td>1.0</td>\n",
       "      <td>0.0</td>\n",
       "      <td>3.0</td>\n",
       "      <td>2.0</td>\n",
       "      <td>NaT</td>\n",
       "    </tr>\n",
       "    <tr>\n",
       "      <th>1144</th>\n",
       "      <td>2020</td>\n",
       "      <td>3</td>\n",
       "      <td>61</td>\n",
       "      <td>18</td>\n",
       "      <td>25390.017</td>\n",
       "      <td>2.507</td>\n",
       "      <td>5.56</td>\n",
       "      <td>0.0</td>\n",
       "      <td>0.0</td>\n",
       "      <td>0.0</td>\n",
       "      <td>0.0</td>\n",
       "      <td>0.0</td>\n",
       "      <td>0.0</td>\n",
       "      <td>0.0</td>\n",
       "      <td>0.0</td>\n",
       "      <td>1.0</td>\n",
       "      <td>NaT</td>\n",
       "    </tr>\n",
       "    <tr>\n",
       "      <th>90</th>\n",
       "      <td>2020</td>\n",
       "      <td>1</td>\n",
       "      <td>4</td>\n",
       "      <td>20</td>\n",
       "      <td>24652.946</td>\n",
       "      <td>2.299</td>\n",
       "      <td>0.00</td>\n",
       "      <td>0.0</td>\n",
       "      <td>0.0</td>\n",
       "      <td>0.0</td>\n",
       "      <td>0.0</td>\n",
       "      <td>0.0</td>\n",
       "      <td>0.0</td>\n",
       "      <td>0.0</td>\n",
       "      <td>0.0</td>\n",
       "      <td>0.0</td>\n",
       "      <td>2020-01-04 20:00:00</td>\n",
       "    </tr>\n",
       "    <tr>\n",
       "      <th>616</th>\n",
       "      <td>2020</td>\n",
       "      <td>2</td>\n",
       "      <td>33</td>\n",
       "      <td>18</td>\n",
       "      <td>25033.588</td>\n",
       "      <td>2.267</td>\n",
       "      <td>0.00</td>\n",
       "      <td>0.0</td>\n",
       "      <td>0.0</td>\n",
       "      <td>0.0</td>\n",
       "      <td>0.0</td>\n",
       "      <td>0.0</td>\n",
       "      <td>0.0</td>\n",
       "      <td>0.0</td>\n",
       "      <td>0.0</td>\n",
       "      <td>0.0</td>\n",
       "      <td>NaT</td>\n",
       "    </tr>\n",
       "    <tr>\n",
       "      <th>6313</th>\n",
       "      <td>2020</td>\n",
       "      <td>12</td>\n",
       "      <td>355</td>\n",
       "      <td>21</td>\n",
       "      <td>28127.737</td>\n",
       "      <td>2.230</td>\n",
       "      <td>78.70</td>\n",
       "      <td>3.0</td>\n",
       "      <td>3.0</td>\n",
       "      <td>2.0</td>\n",
       "      <td>4.0</td>\n",
       "      <td>1.0</td>\n",
       "      <td>1.0</td>\n",
       "      <td>1.0</td>\n",
       "      <td>3.0</td>\n",
       "      <td>2.0</td>\n",
       "      <td>NaT</td>\n",
       "    </tr>\n",
       "    <tr>\n",
       "      <th>5037</th>\n",
       "      <td>2020</td>\n",
       "      <td>10</td>\n",
       "      <td>290</td>\n",
       "      <td>18</td>\n",
       "      <td>27358.826</td>\n",
       "      <td>2.210</td>\n",
       "      <td>62.04</td>\n",
       "      <td>1.0</td>\n",
       "      <td>2.0</td>\n",
       "      <td>2.0</td>\n",
       "      <td>4.0</td>\n",
       "      <td>0.0</td>\n",
       "      <td>1.0</td>\n",
       "      <td>1.0</td>\n",
       "      <td>3.0</td>\n",
       "      <td>2.0</td>\n",
       "      <td>NaT</td>\n",
       "    </tr>\n",
       "    <tr>\n",
       "      <th>857</th>\n",
       "      <td>2020</td>\n",
       "      <td>2</td>\n",
       "      <td>43</td>\n",
       "      <td>19</td>\n",
       "      <td>25159.513</td>\n",
       "      <td>2.127</td>\n",
       "      <td>0.00</td>\n",
       "      <td>0.0</td>\n",
       "      <td>0.0</td>\n",
       "      <td>0.0</td>\n",
       "      <td>0.0</td>\n",
       "      <td>0.0</td>\n",
       "      <td>0.0</td>\n",
       "      <td>0.0</td>\n",
       "      <td>0.0</td>\n",
       "      <td>0.0</td>\n",
       "      <td>NaT</td>\n",
       "    </tr>\n",
       "  </tbody>\n",
       "</table>\n",
       "</div>"
      ],
      "text/plain": [
       "       year  month  day  hour  total_consumption  consumption  stringency  \\\n",
       "1725   2020      5  122     0          26028.527      289.428       78.70   \n",
       "10505  2021      9  245    22          30417.203      187.860       41.67   \n",
       "6389   2020     12  366     1          28292.921      116.855       78.70   \n",
       "575    2020      2   32     1          25013.760       94.469        0.00   \n",
       "1103   2020      2   60     1          25367.536       84.801        0.00   \n",
       "6989   2021      2   32     1          28736.747       83.248       82.41   \n",
       "1703   2020      3   91     2          25729.538       65.711       78.70   \n",
       "5813   2020     11  335     1          27829.244       64.132       56.48   \n",
       "7517   2021      3   60     1          29033.341       57.635       78.70   \n",
       "4637   2020      9  274     2          27192.069       53.434       48.15   \n",
       "5237   2020     10  305     1          27512.705       50.974       62.04   \n",
       "3461   2020      7  213     2          26752.186       48.092       39.81   \n",
       "8693   2021      5  121     2          29583.444       47.814       75.00   \n",
       "9293   2021      6  152     2          29825.540       47.808       67.59   \n",
       "4037   2020      8  243     2          26960.748       47.040       50.93   \n",
       "8117   2021      4   91     2          29326.989       46.744       75.00   \n",
       "2303   2020      5  152     2          26286.845       46.178       71.30   \n",
       "10469  2021      8  213     2          30223.867       38.335       41.67   \n",
       "9869   2021      7  182     2          30024.547       29.985       62.04   \n",
       "2879   2020      6  182     2          26534.438       28.271       59.26   \n",
       "2639   2020      6  168     2          26426.437       16.512       59.26   \n",
       "5093   2020     10  294     2          27402.187       13.399       62.04   \n",
       "9629   2021      6  168     2          29928.964       11.722       67.59   \n",
       "3001   2020      7  187    22          26582.628        4.284       39.81   \n",
       "1144   2020      3   61    18          25390.017        2.507        5.56   \n",
       "90     2020      1    4    20          24652.946        2.299        0.00   \n",
       "616    2020      2   33    18          25033.588        2.267        0.00   \n",
       "6313   2020     12  355    21          28127.737        2.230       78.70   \n",
       "5037   2020     10  290    18          27358.826        2.210       62.04   \n",
       "857    2020      2   43    19          25159.513        2.127        0.00   \n",
       "\n",
       "       C1_School closing  C2_Workplace closing  C3_Cancel public events  \\\n",
       "1725                 3.0                   2.0                      2.0   \n",
       "10505                1.0                   2.0                      1.0   \n",
       "6389                 3.0                   3.0                      2.0   \n",
       "575                  0.0                   0.0                      0.0   \n",
       "1103                 0.0                   0.0                      0.0   \n",
       "6989                 3.0                   3.0                      2.0   \n",
       "1703                 3.0                   2.0                      2.0   \n",
       "5813                 1.0                   2.0                      2.0   \n",
       "7517                 2.0                   3.0                      2.0   \n",
       "4637                 1.0                   2.0                      1.0   \n",
       "5237                 1.0                   2.0                      2.0   \n",
       "3461                 1.0                   2.0                      0.0   \n",
       "8693                 2.0                   2.0                      2.0   \n",
       "9293                 1.0                   2.0                      2.0   \n",
       "4037                 1.0                   2.0                      1.0   \n",
       "8117                 2.0                   2.0                      2.0   \n",
       "2303                 2.0                   2.0                      2.0   \n",
       "10469                1.0                   2.0                      1.0   \n",
       "9869                 1.0                   2.0                      2.0   \n",
       "2879                 1.0                   2.0                      2.0   \n",
       "2639                 1.0                   2.0                      2.0   \n",
       "5093                 1.0                   2.0                      2.0   \n",
       "9629                 1.0                   2.0                      2.0   \n",
       "3001                 1.0                   2.0                      0.0   \n",
       "1144                 0.0                   0.0                      0.0   \n",
       "90                   0.0                   0.0                      0.0   \n",
       "616                  0.0                   0.0                      0.0   \n",
       "6313                 3.0                   3.0                      2.0   \n",
       "5037                 1.0                   2.0                      2.0   \n",
       "857                  0.0                   0.0                      0.0   \n",
       "\n",
       "       C4_Restrictions on gatherings  C5_Close public transport  \\\n",
       "1725                             4.0                        1.0   \n",
       "10505                            0.0                        1.0   \n",
       "6389                             4.0                        1.0   \n",
       "575                              0.0                        0.0   \n",
       "1103                             0.0                        0.0   \n",
       "6989                             4.0                        1.0   \n",
       "1703                             4.0                        1.0   \n",
       "5813                             4.0                        0.0   \n",
       "7517                             4.0                        1.0   \n",
       "4637                             4.0                        0.0   \n",
       "5237                             4.0                        0.0   \n",
       "3461                             2.0                        0.0   \n",
       "8693                             4.0                        1.0   \n",
       "9293                             4.0                        1.0   \n",
       "4037                             4.0                        0.0   \n",
       "8117                             4.0                        1.0   \n",
       "2303                             4.0                        1.0   \n",
       "10469                            0.0                        1.0   \n",
       "9869                             4.0                        0.0   \n",
       "2879                             3.0                        0.0   \n",
       "2639                             3.0                        0.0   \n",
       "5093                             4.0                        0.0   \n",
       "9629                             4.0                        1.0   \n",
       "3001                             2.0                        0.0   \n",
       "1144                             0.0                        0.0   \n",
       "90                               0.0                        0.0   \n",
       "616                              0.0                        0.0   \n",
       "6313                             4.0                        1.0   \n",
       "5037                             4.0                        0.0   \n",
       "857                              0.0                        0.0   \n",
       "\n",
       "       C6_Stay at home requirements  C7_Restrictions on internal movement  \\\n",
       "1725                            2.0                                   1.0   \n",
       "10505                           0.0                                   0.0   \n",
       "6389                            1.0                                   1.0   \n",
       "575                             0.0                                   0.0   \n",
       "1103                            0.0                                   0.0   \n",
       "6989                            2.0                                   1.0   \n",
       "1703                            2.0                                   1.0   \n",
       "5813                            1.0                                   0.0   \n",
       "7517                            2.0                                   1.0   \n",
       "4637                            1.0                                   0.0   \n",
       "5237                            1.0                                   1.0   \n",
       "3461                            1.0                                   0.0   \n",
       "8693                            2.0                                   1.0   \n",
       "9293                            1.0                                   1.0   \n",
       "4037                            1.0                                   0.0   \n",
       "8117                            2.0                                   1.0   \n",
       "2303                            1.0                                   1.0   \n",
       "10469                           0.0                                   0.0   \n",
       "9869                            1.0                                   1.0   \n",
       "2879                            1.0                                   1.0   \n",
       "2639                            1.0                                   1.0   \n",
       "5093                            1.0                                   1.0   \n",
       "9629                            1.0                                   1.0   \n",
       "3001                            1.0                                   0.0   \n",
       "1144                            0.0                                   0.0   \n",
       "90                              0.0                                   0.0   \n",
       "616                             0.0                                   0.0   \n",
       "6313                            1.0                                   1.0   \n",
       "5037                            1.0                                   1.0   \n",
       "857                             0.0                                   0.0   \n",
       "\n",
       "       C8_International travel controls  H1_Public information campaigns  \\\n",
       "1725                                3.0                              2.0   \n",
       "10505                               3.0                              2.0   \n",
       "6389                                3.0                              2.0   \n",
       "575                                 0.0                              0.0   \n",
       "1103                                0.0                              0.0   \n",
       "6989                                3.0                              2.0   \n",
       "1703                                3.0                              2.0   \n",
       "5813                                3.0                              2.0   \n",
       "7517                                3.0                              2.0   \n",
       "4637                                3.0                              2.0   \n",
       "5237                                3.0                              2.0   \n",
       "3461                                3.0                              2.0   \n",
       "8693                                3.0                              2.0   \n",
       "9293                                3.0                              2.0   \n",
       "4037                                3.0                              2.0   \n",
       "8117                                3.0                              2.0   \n",
       "2303                                3.0                              2.0   \n",
       "10469                               3.0                              2.0   \n",
       "9869                                3.0                              2.0   \n",
       "2879                                3.0                              2.0   \n",
       "2639                                3.0                              2.0   \n",
       "5093                                3.0                              2.0   \n",
       "9629                                3.0                              2.0   \n",
       "3001                                3.0                              2.0   \n",
       "1144                                0.0                              1.0   \n",
       "90                                  0.0                              0.0   \n",
       "616                                 0.0                              0.0   \n",
       "6313                                3.0                              2.0   \n",
       "5037                                3.0                              2.0   \n",
       "857                                 0.0                              0.0   \n",
       "\n",
       "                     time  \n",
       "1725  2020-06-22 00:00:00  \n",
       "10505                 NaT  \n",
       "6389                  NaT  \n",
       "575                   NaT  \n",
       "1103                  NaT  \n",
       "6989                  NaT  \n",
       "1703                  NaT  \n",
       "5813                  NaT  \n",
       "7517                  NaT  \n",
       "4637                  NaT  \n",
       "5237                  NaT  \n",
       "3461  2020-09-13 02:00:00  \n",
       "8693  2021-06-21 02:00:00  \n",
       "9293                  NaT  \n",
       "4037                  NaT  \n",
       "8117                  NaT  \n",
       "2303                  NaT  \n",
       "10469 2021-10-13 02:00:00  \n",
       "9869                  NaT  \n",
       "2879                  NaT  \n",
       "2639                  NaT  \n",
       "5093                  NaT  \n",
       "9629                  NaT  \n",
       "3001                  NaT  \n",
       "1144                  NaT  \n",
       "90    2020-01-04 20:00:00  \n",
       "616                   NaT  \n",
       "6313                  NaT  \n",
       "5037                  NaT  \n",
       "857                   NaT  "
      ]
     },
     "execution_count": 36,
     "metadata": {},
     "output_type": "execute_result"
    }
   ],
   "source": [
    "data['time'] = pd.to_datetime(data[['year', 'month', 'day', 'hour']], errors='coerce')\n",
    "data.sort_values(by='consumption', ascending=False)[:30]"
   ]
  },
  {
   "cell_type": "code",
   "execution_count": 37,
   "metadata": {},
   "outputs": [
    {
     "data": {
      "text/plain": [
       "\"\\nI think the correct answers should be \\n2. There is some unclean data present due to sensor errors.\\n4. The outliers represent multiple days of consumption.\\nI haven't checked it extremely thoroughly, but if we combine the information from the missing days from q1 and the days we see in the data I show above, it seems that\\nfor lots of months the last 5-6 days go without any measurements and then sudden increases in consumption appear on the 0-th hour of a new day. Also the spikes appear\\nin intervals of ~30 days. \\n\\n\""
      ]
     },
     "execution_count": 37,
     "metadata": {},
     "output_type": "execute_result"
    }
   ],
   "source": [
    "\"\"\"\n",
    "I think the correct answers should be \n",
    "2. There is some unclean data present due to sensor errors.\n",
    "4. The outliers represent multiple days of consumption.\n",
    "I haven't checked it extremely thoroughly, but if we combine the information from the missing days from q1 and the days we see in the data I show above, it seems that\n",
    "for lots of months the last 5-6 days go without any measurements and then sudden increases in consumption appear on the 0-th hour of a new day. Also the spikes appear\n",
    "in intervals of ~30 days. \n",
    "\n",
    "\"\"\""
   ]
  },
  {
   "cell_type": "code",
   "execution_count": 38,
   "metadata": {},
   "outputs": [],
   "source": [
    "#// BEGIN_TODO [Q5]\n",
    "question_outliers=[2, 4]\n",
    "#// END_TODO [Q5]"
   ]
  },
  {
   "cell_type": "markdown",
   "metadata": {},
   "source": [
    "Note that when removing the energy samples containing 0 values in `raw_energy` earlier, it was clear how to define an outlier. In this case, however, one must carefully decide how to define an outlier, to avoid introducing bias. You can read more about outlier detection here:\n",
    "\n",
    "- Section 3.3.3 of \"Introduction to Statistical Learning\"\n",
    "- http://scikit-learn.org/stable/modules/outlier_detection.html"
   ]
  },
  {
   "cell_type": "markdown",
   "metadata": {},
   "source": [
    "### Question 6\n",
    "\n",
    "There are also some outliers in the consumption column of the dataset. How do you best define an outlier, when considering this dataset?\n",
    "\n",
    "1. Calculate the average consumption, and define an outlier based on standard deviations.\n",
    "2. Build a model for the expected consumption, and label outliers based on the model predictions.\n",
    "3. Set a fixed threshold for outliers based on the characteristics of the correspoinding feature, e.g. energy consumption of households in the Netherlands.\n",
    "4. Estimate a fixed threshold for outliers by hand based on the above plot.\n",
    "\n",
    "Assign an integer corresponding to the correct answer to variable `question_outlier_definition`."
   ]
  },
  {
   "cell_type": "code",
   "execution_count": 39,
   "metadata": {},
   "outputs": [
    {
     "data": {
      "text/plain": [
       "<AxesSubplot:ylabel='Frequency'>"
      ]
     },
     "execution_count": 39,
     "metadata": {},
     "output_type": "execute_result"
    },
    {
     "data": {
      "image/png": "[encoded data removed]",
      "text/plain": [
       "<Figure size 1008x648 with 1 Axes>"
      ]
     },
     "metadata": {
      "needs_background": "light"
     },
     "output_type": "display_data"
    }
   ],
   "source": [
    "data['consumption'].plot.hist(bins=10)"
   ]
  },
  {
   "cell_type": "code",
   "execution_count": 40,
   "metadata": {},
   "outputs": [],
   "source": [
    "#// BEGIN_TODO [Q6]\n",
    "question_outlier_definition = 3\n",
    "#// END_TODO [Q6]"
   ]
  },
  {
   "cell_type": "markdown",
   "metadata": {},
   "source": [
    "### Question 7\n",
    "\n",
    "Remove the outliers from the `data` data frame."
   ]
  },
  {
   "cell_type": "code",
   "execution_count": 41,
   "metadata": {},
   "outputs": [
    {
     "name": "stdout",
     "output_type": "stream",
     "text": [
      "Number of rows after the removal of outliers 10958\n"
     ]
    }
   ],
   "source": [
    "#IDEA 1\n",
    "# outliers are the data points that fall outside of 1.5 times of the inter quartile range (Q3 - Q1). \n",
    "# So + and - 1.5*IQR means we are considering data within the constraints\n",
    "\n",
    "# This type of outlier removal could be a bit too harsh, as I've effectively purged a number of data points that could actually be valid\n",
    "# and have actual real life reasons for them being that high (events that happened in that house that day, e.g. oven, dishwasher, dryer running at the same time \n",
    "# and things like that\n",
    "\n",
    "# Q1 = data['consumption'].quantile(0.25)\n",
    "# Q3 = data['consumption'].quantile(0.75)\n",
    "# IQR = Q3 - Q1\n",
    "# data = data[data['consumption'].between(data['consumption'].quantile(.25) - 1.5 * IQR, data['consumption'].quantile(.75) + 1.5 * IQR)] \n",
    "# data['consumption']\n",
    "\n",
    "\n",
    "#IDEA 2\n",
    "#Continuing from the findings of cell 32, we can see that most huge values appear on hour = 1 i.e. they contain the accumulated data from previous days or have sensor errors. Also we \n",
    "#can see that big consumption values start from 11 kHw. So maybe we can remove all rows where these two conditions exist (hour = 1 and consumption > 10) \n",
    "\n",
    "#// BEGIN_TODO [Q7]\n",
    "data = data.reset_index(drop=True)\n",
    "grouped_by_hour = data.groupby('hour')['consumption'].mean()\n",
    "cleaned_data = data[data['consumption'] < 4]\n",
    "cleaned_data.sort_values(by='consumption', ascending=False)[:30]\n",
    "data = cleaned_data.copy()\n",
    "#// END_TODO [Q7]\n",
    "print('Number of rows after the removal of outliers {0}'.format(data.shape[0]))"
   ]
  },
  {
   "cell_type": "markdown",
   "metadata": {},
   "source": [
    "Data visualization is often helpful to check if the results of our data processing and analysis meet our expectations."
   ]
  },
  {
   "cell_type": "code",
   "execution_count": 42,
   "metadata": {},
   "outputs": [
    {
     "data": {
      "image/png": "[encoded data removed]",
      "text/plain": [
       "<Figure size 720x216 with 1 Axes>"
      ]
     },
     "metadata": {
      "needs_background": "light"
     },
     "output_type": "display_data"
    },
    {
     "data": {
      "image/png": "[encoded data removed]",
      "text/plain": [
       "<Figure size 720x216 with 1 Axes>"
      ]
     },
     "metadata": {
      "needs_background": "light"
     },
     "output_type": "display_data"
    }
   ],
   "source": [
    "# TODO: plot the consumption and stringency feature\n",
    "plot(data, \"consumption\")\n",
    "plot(data, \"stringency\")"
   ]
  },
  {
   "cell_type": "markdown",
   "metadata": {},
   "source": [
    "### Train a model\n",
    "\n",
    "For training and evaluating the perfromance of a model we need to split the data into a training and a test."
   ]
  },
  {
   "cell_type": "code",
   "execution_count": 43,
   "metadata": {},
   "outputs": [],
   "source": [
    "X = data[[\"stringency\"]].values\n",
    "y = data[\"consumption\"].values\n",
    "X_train, X_test, y_train, y_test = train_test_split(X, y, test_size=0.2, random_state=42)"
   ]
  },
  {
   "cell_type": "code",
   "execution_count": 44,
   "metadata": {},
   "outputs": [
    {
     "data": {
      "text/plain": [
       "LinearRegression()"
      ]
     },
     "execution_count": 44,
     "metadata": {},
     "output_type": "execute_result"
    }
   ],
   "source": [
    "model = LinearRegression()\n",
    "model.fit(X_train, y_train)"
   ]
  },
  {
   "cell_type": "markdown",
   "metadata": {},
   "source": [
    "### Evaluate the model\n",
    "\n",
    "After a model is trained we would like to estimate how well it is performing, whether we can actually trust its predictions if it were deployed. Model performance can be estimated using various visualisations and statistics (see Section 3.1.3 of [ISLR])\n",
    "\n",
    "#### Model fit\n",
    "\n",
    "If the feature space is 1 or 2 dimensional, then we can easily plot the model to illustrate how well it fits the test data."
   ]
  },
  {
   "cell_type": "code",
   "execution_count": 45,
   "metadata": {},
   "outputs": [
    {
     "data": {
      "image/png": "[encoded data removed]",
      "text/plain": [
       "<Figure size 1008x648 with 1 Axes>"
      ]
     },
     "metadata": {
      "needs_background": "light"
     },
     "output_type": "display_data"
    }
   ],
   "source": [
    "x_plot = np.linspace(min(X), max(X), 100)\n",
    "X_plot = x_plot.reshape(-1, 1)\n",
    "y_plot = model.predict(X_plot)\n",
    "\n",
    "dots, = plt.plot(X_test, y_test, 'bo', markersize=2, color=\"red\", label=\"training data\");\n",
    "line, = plt.plot(x_plot, y_plot, linewidth=2, label=\"model\");\n",
    "plt.xlabel('Stringency')\n",
    "plt.ylabel('Consumption (kWh)')\n",
    "plt.legend(handles=[dots, line]);"
   ]
  },
  {
   "cell_type": "markdown",
   "metadata": {},
   "source": [
    "We can compute the R2 score to assign a number to how well the model fits the data. It estimates how much of the variance in the data is explained by the model, i.e. how well the model fits the data. A score of 1 means the model captures all of the variance, and a score of 0 means the model does not capture any of the variance.\n",
    "\n",
    "You can read more about the R2 score in Section 3.1.3 of \"Introduction to Statistical Learning\"."
   ]
  },
  {
   "cell_type": "code",
   "execution_count": 46,
   "metadata": {},
   "outputs": [
    {
     "data": {
      "text/plain": [
       "-4.178233953178179e-05"
      ]
     },
     "execution_count": 46,
     "metadata": {},
     "output_type": "execute_result"
    }
   ],
   "source": [
    "model.score(X_test, y_test)"
   ]
  },
  {
   "cell_type": "markdown",
   "metadata": {},
   "source": [
    "#### Residuals\n",
    "\n",
    "We can also plot a histogram of the residuals (or errors), i.e. the deviations of the values predicted by our model from the ground truth values (from the test set):"
   ]
  },
  {
   "cell_type": "code",
   "execution_count": 47,
   "metadata": {},
   "outputs": [
    {
     "data": {
      "text/plain": [
       "Text(0, 0.5, 'Frequency')"
      ]
     },
     "execution_count": 47,
     "metadata": {},
     "output_type": "execute_result"
    },
    {
     "data": {
      "image/png": "[encoded data removed]",
      "text/plain": [
       "<Figure size 1008x648 with 1 Axes>"
      ]
     },
     "metadata": {
      "needs_background": "light"
     },
     "output_type": "display_data"
    }
   ],
   "source": [
    "y_pred = model.predict(X_test)\n",
    "plt.title(\"Distribution of the residuals\")\n",
    "plt.hist(y_test - y_pred, 50);\n",
    "plt.xlabel('Residual')\n",
    "plt.ylabel('Frequency')"
   ]
  },
  {
   "cell_type": "markdown",
   "metadata": {},
   "source": [
    "Looking at the histogram you will notice that distribution of the residuals is not symmetric."
   ]
  },
  {
   "cell_type": "markdown",
   "metadata": {},
   "source": [
    "### Question 8\n",
    "\n",
    "Does the model tend to over-estimate, or under-estimate the hourly energy consumption?\n",
    "\n",
    "1. The model tends to under-estimate.\n",
    "2. The model tends to over-estimate.\n",
    "3. The model is not biased\n",
    "\n",
    "Assign an integer corresponding to the correct answer to variable `question_bias`."
   ]
  },
  {
   "cell_type": "code",
   "execution_count": 48,
   "metadata": {},
   "outputs": [],
   "source": [
    "#// BEGIN_TODO [Q8]\n",
    "question_bias = 2\n",
    "#// END_TODO [Q8]"
   ]
  },
  {
   "cell_type": "markdown",
   "metadata": {},
   "source": [
    "If the model is not biased, or if we are not interested in the bias, then we can compute the mean absolute deviation (MAD) to estimate the expected error of a prediction. E.g. a MAD = 0.345 means that we expect on average our predition to be off by 0.345kWh."
   ]
  },
  {
   "cell_type": "code",
   "execution_count": 49,
   "metadata": {},
   "outputs": [
    {
     "data": {
      "text/plain": [
       "0.2596027977797167"
      ]
     },
     "execution_count": 49,
     "metadata": {},
     "output_type": "execute_result"
    }
   ],
   "source": [
    "y_pred = model.predict(X_test)\n",
    "mean_absolute_error(y_test, y_pred)"
   ]
  },
  {
   "cell_type": "markdown",
   "metadata": {},
   "source": [
    "### Improve the model\n",
    "\n",
    "We have shown here a simple linear model mapping the `stringency` feature to the `hourly_consumption` label. However, this model does not perform very well. The problem could be that the model is underfitting or overfitting the data. You can find more about under- and overfitting in Section 2.1.2, 2.1.3, 6.1 of \"Introduction to Statistical Learning\"."
   ]
  },
  {
   "cell_type": "markdown",
   "metadata": {},
   "source": [
    "### Question 9 ###\n",
    "\n",
    "Is the model underfitting or overfitting? What makes you say that? Investigate and then explain in at most 80 words why you think the model is underfitting or overfitting. Assign the explanation to the variable `question_fitting`."
   ]
  },
  {
   "cell_type": "code",
   "execution_count": 50,
   "metadata": {},
   "outputs": [
    {
     "name": "stdout",
     "output_type": "stream",
     "text": [
      "-4.178233953178179e-05\n"
     ]
    }
   ],
   "source": [
    "#// BEGIN_TODO [Q9]\n",
    "from sklearn.metrics import r2_score\n",
    "print(r2_score(y_test, y_pred))\n",
    "question_fitting = 'The model tends to underfit as the r^2 negative. It means that the model does not fit data. Namely it fits worse then the horizontal line.'\n",
    "#// END_TODO [Q9]"
   ]
  },
  {
   "cell_type": "markdown",
   "metadata": {},
   "source": [
    "One could try several things to improve the model.\n",
    "\n",
    "#### Add more features\n",
    "\n",
    "The simple linear model assumed that there is a strong relationship between the stringency (or their absence) and the energy consumption. However, `stringency` alone is not a sufficient indicator. While the `stringency` column alone may not be sufficient for predicting the solar planel output, it can be used in combination with other features. Therefore, one way of improving the simple linear model could be to extend it with more features. In our case, we have access to restriction and weather data. You can gain insight into which features could be relevant by plotting the relationship between the features and the labels.\n",
    "\n",
    "<span class=\"t\">Hint<span class=\"c\">:</span></span>\n",
    "<span class=\"h\">\n",
    "To utilize any of the available features, those must be expressed in the same sampling rate, i.e., one measurement per hour.\n",
    "</span>"
   ]
  },
  {
   "cell_type": "code",
   "execution_count": 51,
   "metadata": {},
   "outputs": [],
   "source": [
    "# TODO: use the scatter matrix graph to explore the relationship between the features"
   ]
  },
  {
   "cell_type": "markdown",
   "metadata": {},
   "source": [
    "### Question 10 ###\n",
    "\n",
    "Which features are most promising for predicting the hourly energy consumption? Select the two features that are most strongly correlated with consumption from the following list of features:\n",
    "\n",
    "- `'year'`\n",
    "- `'month'`\n",
    "- `'day'`\n",
    "- `'hour'`\n",
    "- `'stringency'`,\n",
    "- `'C1_School closing'`,\n",
    "- `'C2_Workplace closing'`,\n",
    "- `'C3_Cancel public events'`,\n",
    "- `'C4_Restrictions on gatherings'`,\n",
    "- `'C5_Close public transport'`,\n",
    "- `'C6_Stay at home requirements'`,\n",
    "- `'C7_Restrictions on internal movement'`,\n",
    "- `'C8_International travel controls'`,\n",
    "- `'H1_Public information campaigns'`,\n",
    "- `'clouds'`,\n",
    "- `'air pressure'`,\n",
    "- `'humidity'`,\n",
    "- `'visibility'`,\n",
    "- `'wind speed'`,\n",
    "- `'temperature'`\n",
    "\n",
    "Assign a list of strings corresponding to the promising features to variable `question_features`."
   ]
  },
  {
   "cell_type": "code",
   "execution_count": 52,
   "metadata": {},
   "outputs": [
    {
     "data": {
      "text/plain": [
       "time              datetime64[ns, Europe/Amsterdam]\n",
       "clouds                                       int64\n",
       "temperature                                float64\n",
       "humidity                                   float64\n",
       "wind direction                              object\n",
       "wind speed                                 float64\n",
       "visibility                                 float64\n",
       "air pressure                               float64\n",
       "dtype: object"
      ]
     },
     "execution_count": 52,
     "metadata": {},
     "output_type": "execute_result"
    }
   ],
   "source": [
    "weather = raw_weather.copy()\n",
    "weather['time'] = pd.to_datetime(raw_weather['time'], unit='s')\n",
    "weather['time'] = weather.time.dt.tz_localize('utc').dt.tz_convert('Europe/Amsterdam')\n",
    "weather.dtypes"
   ]
  },
  {
   "cell_type": "code",
   "execution_count": 53,
   "metadata": {},
   "outputs": [
    {
     "name": "stdout",
     "output_type": "stream",
     "text": [
      "       year  month  day  hour  air pressure  visibility  humidity  \\\n",
      "0      2017      1    1     1        1026.0       340.0      99.0   \n",
      "1      2017      1    1     2        1024.9       433.0      99.0   \n",
      "2      2017      1    1     3        1024.4       369.0      99.0   \n",
      "3      2017      1    1     4        1023.6       942.0      99.0   \n",
      "4      2017      1    1     5        1022.6      2490.0      99.0   \n",
      "...     ...    ...  ...   ...           ...         ...       ...   \n",
      "40811  2021      9  266     8        1020.4      8000.0      91.0   \n",
      "40812  2021      9  266     9        1020.2      8000.0      90.0   \n",
      "40813  2021      9  266    10        1019.7     10000.0      86.0   \n",
      "40814  2021      9  266    11        1019.3     16000.0      77.0   \n",
      "40815  2021      9  266    12        1019.1     18000.0      70.0   \n",
      "\n",
      "       temperature  wind speed  clouds  \n",
      "0             -1.6         3.0       3  \n",
      "1             -1.3         4.0       3  \n",
      "2             -1.3         4.0       3  \n",
      "3             -1.2         4.0       3  \n",
      "4             -1.2         4.0       3  \n",
      "...            ...         ...     ...  \n",
      "40811         11.4         5.0       1  \n",
      "40812         13.7         5.0       1  \n",
      "40813         16.4         6.0       1  \n",
      "40814         18.3         7.0       1  \n",
      "40815         18.7         7.0       1  \n",
      "\n",
      "[40816 rows x 10 columns]\n"
     ]
    }
   ],
   "source": [
    "times = pd.to_datetime(weather[\"time\"], unit='s')\n",
    "weather = weather.groupby([times.dt.year, times.dt.month, times.dt.dayofyear, times.dt.hour]).agg({ \"air pressure\": np.max, \"visibility\": np.max, \"humidity\": np.max,\n",
    "                                                                                                  \"temperature\": np.max, \"wind speed\": np.max, \"clouds\": np.max})\n",
    "weather.index.names = [\"year\", \"month\", \"day\", \"hour\"]\n",
    "# weather = weather.dropna()\n",
    "weather = weather.reset_index()\n",
    "print(weather)"
   ]
  },
  {
   "cell_type": "code",
   "execution_count": 54,
   "metadata": {},
   "outputs": [],
   "source": [
    "from scipy.stats import shapiro\n",
    "\n",
    "def normality_test(col, df):\n",
    "    \n",
    "    stat, p = shapiro(df[col])\n",
    "    print('Statistics=%.3f, p=%.3f' % (stat, p))\n",
    "    alpha = 0.05\n",
    "    if p > alpha:\n",
    "        print('Attribute <<{0}>> looks Gaussian (fail to reject H0)'.format(col))\n",
    "    else:\n",
    "        print('Attribute <<{0}>> does not look Gaussian (reject H0)'.format(col))"
   ]
  },
  {
   "cell_type": "code",
   "execution_count": 55,
   "metadata": {},
   "outputs": [
    {
     "name": "stdout",
     "output_type": "stream",
     "text": [
      "Statistics=0.637, p=0.000\n",
      "Attribute <<year>> does not look Gaussian (reject H0)\n",
      "Statistics=0.811, p=0.000\n",
      "Attribute <<month>> does not look Gaussian (reject H0)\n",
      "Statistics=0.842, p=0.000\n",
      "Attribute <<day>> does not look Gaussian (reject H0)\n",
      "Statistics=0.951, p=0.000\n",
      "Attribute <<hour>> does not look Gaussian (reject H0)\n",
      "Statistics=0.900, p=0.000\n",
      "Attribute <<total_consumption>> does not look Gaussian (reject H0)\n",
      "Statistics=0.881, p=0.000\n",
      "Attribute <<consumption>> does not look Gaussian (reject H0)\n",
      "Statistics=0.798, p=0.000\n",
      "Attribute <<stringency>> does not look Gaussian (reject H0)\n",
      "Statistics=0.836, p=0.000\n",
      "Attribute <<C1_School closing>> does not look Gaussian (reject H0)\n",
      "Statistics=0.743, p=0.000\n",
      "Attribute <<C2_Workplace closing>> does not look Gaussian (reject H0)\n",
      "Statistics=0.679, p=0.000\n",
      "Attribute <<C3_Cancel public events>> does not look Gaussian (reject H0)\n",
      "Statistics=0.732, p=0.000\n",
      "Attribute <<C4_Restrictions on gatherings>> does not look Gaussian (reject H0)\n",
      "Statistics=0.629, p=0.000\n",
      "Attribute <<C5_Close public transport>> does not look Gaussian (reject H0)\n",
      "Statistics=0.808, p=0.000\n",
      "Attribute <<C6_Stay at home requirements>> does not look Gaussian (reject H0)\n",
      "Statistics=0.637, p=0.000\n",
      "Attribute <<C7_Restrictions on internal movement>> does not look Gaussian (reject H0)\n",
      "Statistics=0.497, p=0.000\n",
      "Attribute <<C8_International travel controls>> does not look Gaussian (reject H0)\n",
      "Statistics=0.497, p=0.000\n",
      "Attribute <<H1_Public information campaigns>> does not look Gaussian (reject H0)\n",
      "Statistics=0.925, p=0.000\n",
      "Attribute <<time>> does not look Gaussian (reject H0)\n",
      "Statistics=0.986, p=0.000\n",
      "Attribute <<air pressure>> does not look Gaussian (reject H0)\n",
      "Statistics=0.906, p=0.000\n",
      "Attribute <<visibility>> does not look Gaussian (reject H0)\n",
      "Statistics=0.883, p=0.000\n",
      "Attribute <<humidity>> does not look Gaussian (reject H0)\n",
      "Statistics=0.941, p=0.000\n",
      "Attribute <<temperature>> does not look Gaussian (reject H0)\n",
      "Statistics=0.926, p=0.000\n",
      "Attribute <<wind speed>> does not look Gaussian (reject H0)\n",
      "Statistics=0.680, p=0.000\n",
      "Attribute <<clouds>> does not look Gaussian (reject H0)\n",
      "\n",
      "\n",
      " The two most correlated with consumption features are:['hour', 'humidity']\n"
     ]
    }
   ],
   "source": [
    "\n",
    "combined_data = pd.merge(data, weather).reset_index(drop=True)\n",
    "# combined_data = combined_data.drop(columns=\"time\")\n",
    "combined_data = combined_data.dropna()\n",
    "\n",
    "for column in combined_data.columns:\n",
    "    normality_test(column,combined_data)\n",
    "\n",
    "q10correlations = combined_data.corr(method='spearman')['consumption']\n",
    "q10correlations = q10correlations.sort_values(ascending=False)\n",
    "\n",
    "question_features = q10correlations[1:3].index.tolist()\n",
    "print(\"\\n\\n The two most correlated with consumption features are:{0}\".format(question_features))"
   ]
  },
  {
   "cell_type": "code",
   "execution_count": 56,
   "metadata": {},
   "outputs": [],
   "source": [
    "#// BEGIN_TODO [Q10]\n",
    "#If we want to be actualy correct about calculating the correlation between the variables we need to use an appropriate test for checking the correlation. The default corr() from pandas\n",
    "#uses Pearson's correlation coeff. which assumes normality(i.e. data is drawn from a Gaussian distribution) for every pair of attributes that are tested. If this assumption doesnt hold\n",
    "#we have to use a non-parametric test(Kendall's tau or Spearmans rank coeff.)\n",
    "\n",
    "# combined_data = pd.merge(data, weather).reset_index(drop=True)\n",
    "# # combined_data = combined_data.drop(columns=\"time\")\n",
    "# combined_data = combined_data.dropna()\n",
    "\n",
    "# for column in combined_data.columns:\n",
    "#     normality_test(column,combined_data)\n",
    "\n",
    "# q10correlations = combined_data.corr(method='spearman')['consumption']\n",
    "# q10correlations = q10correlations.sort_values(ascending=False)\n",
    "\n",
    "# question_features = q10correlations[1:3].index.tolist()\n",
    "# print(\"\\n\\n The two most correlated with consumption features are:{0}\".format(question_features))\n",
    "\n",
    "question_features = ['hour', 'humidity']\n",
    "#// END_TODO [Q10]"
   ]
  },
  {
   "cell_type": "code",
   "execution_count": 57,
   "metadata": {},
   "outputs": [
    {
     "data": {
      "text/html": [
       "<div>\n",
       "<style scoped>\n",
       "    .dataframe tbody tr th:only-of-type {\n",
       "        vertical-align: middle;\n",
       "    }\n",
       "\n",
       "    .dataframe tbody tr th {\n",
       "        vertical-align: top;\n",
       "    }\n",
       "\n",
       "    .dataframe thead th {\n",
       "        text-align: right;\n",
       "    }\n",
       "</style>\n",
       "<table border=\"1\" class=\"dataframe\">\n",
       "  <thead>\n",
       "    <tr style=\"text-align: right;\">\n",
       "      <th></th>\n",
       "      <th>year</th>\n",
       "      <th>month</th>\n",
       "      <th>day</th>\n",
       "      <th>hour</th>\n",
       "      <th>total_consumption</th>\n",
       "      <th>consumption</th>\n",
       "      <th>stringency</th>\n",
       "      <th>C1_School closing</th>\n",
       "      <th>C2_Workplace closing</th>\n",
       "      <th>C3_Cancel public events</th>\n",
       "      <th>...</th>\n",
       "      <th>C7_Restrictions on internal movement</th>\n",
       "      <th>C8_International travel controls</th>\n",
       "      <th>H1_Public information campaigns</th>\n",
       "      <th>time</th>\n",
       "      <th>air pressure</th>\n",
       "      <th>visibility</th>\n",
       "      <th>humidity</th>\n",
       "      <th>temperature</th>\n",
       "      <th>wind speed</th>\n",
       "      <th>clouds</th>\n",
       "    </tr>\n",
       "  </thead>\n",
       "  <tbody>\n",
       "    <tr>\n",
       "      <th>90</th>\n",
       "      <td>2020</td>\n",
       "      <td>1</td>\n",
       "      <td>4</td>\n",
       "      <td>20</td>\n",
       "      <td>24652.946</td>\n",
       "      <td>2.299</td>\n",
       "      <td>0.00</td>\n",
       "      <td>0.0</td>\n",
       "      <td>0.0</td>\n",
       "      <td>0.0</td>\n",
       "      <td>...</td>\n",
       "      <td>0.0</td>\n",
       "      <td>0.0</td>\n",
       "      <td>0.0</td>\n",
       "      <td>2020-01-04 20:00:00</td>\n",
       "      <td>1033.2</td>\n",
       "      <td>6000.0</td>\n",
       "      <td>96.0</td>\n",
       "      <td>6.7</td>\n",
       "      <td>4.0</td>\n",
       "      <td>3</td>\n",
       "    </tr>\n",
       "    <tr>\n",
       "      <th>277</th>\n",
       "      <td>2020</td>\n",
       "      <td>1</td>\n",
       "      <td>12</td>\n",
       "      <td>18</td>\n",
       "      <td>24756.158</td>\n",
       "      <td>2.071</td>\n",
       "      <td>0.00</td>\n",
       "      <td>0.0</td>\n",
       "      <td>0.0</td>\n",
       "      <td>0.0</td>\n",
       "      <td>...</td>\n",
       "      <td>0.0</td>\n",
       "      <td>0.0</td>\n",
       "      <td>0.0</td>\n",
       "      <td>2020-01-12 18:00:00</td>\n",
       "      <td>1020.7</td>\n",
       "      <td>27000.0</td>\n",
       "      <td>89.0</td>\n",
       "      <td>9.0</td>\n",
       "      <td>8.0</td>\n",
       "      <td>3</td>\n",
       "    </tr>\n",
       "    <tr>\n",
       "      <th>446</th>\n",
       "      <td>2020</td>\n",
       "      <td>1</td>\n",
       "      <td>19</td>\n",
       "      <td>19</td>\n",
       "      <td>24848.792</td>\n",
       "      <td>2.043</td>\n",
       "      <td>0.00</td>\n",
       "      <td>0.0</td>\n",
       "      <td>0.0</td>\n",
       "      <td>0.0</td>\n",
       "      <td>...</td>\n",
       "      <td>0.0</td>\n",
       "      <td>0.0</td>\n",
       "      <td>0.0</td>\n",
       "      <td>2020-01-19 19:00:00</td>\n",
       "      <td>1045.1</td>\n",
       "      <td>12000.0</td>\n",
       "      <td>88.0</td>\n",
       "      <td>3.6</td>\n",
       "      <td>3.0</td>\n",
       "      <td>0</td>\n",
       "    </tr>\n",
       "    <tr>\n",
       "      <th>278</th>\n",
       "      <td>2020</td>\n",
       "      <td>1</td>\n",
       "      <td>12</td>\n",
       "      <td>19</td>\n",
       "      <td>24758.157</td>\n",
       "      <td>1.999</td>\n",
       "      <td>0.00</td>\n",
       "      <td>0.0</td>\n",
       "      <td>0.0</td>\n",
       "      <td>0.0</td>\n",
       "      <td>...</td>\n",
       "      <td>0.0</td>\n",
       "      <td>0.0</td>\n",
       "      <td>0.0</td>\n",
       "      <td>2020-01-12 19:00:00</td>\n",
       "      <td>1021.1</td>\n",
       "      <td>28000.0</td>\n",
       "      <td>88.0</td>\n",
       "      <td>9.0</td>\n",
       "      <td>7.0</td>\n",
       "      <td>3</td>\n",
       "    </tr>\n",
       "    <tr>\n",
       "      <th>550</th>\n",
       "      <td>2020</td>\n",
       "      <td>1</td>\n",
       "      <td>24</td>\n",
       "      <td>17</td>\n",
       "      <td>24911.465</td>\n",
       "      <td>1.952</td>\n",
       "      <td>0.00</td>\n",
       "      <td>0.0</td>\n",
       "      <td>0.0</td>\n",
       "      <td>0.0</td>\n",
       "      <td>...</td>\n",
       "      <td>0.0</td>\n",
       "      <td>0.0</td>\n",
       "      <td>0.0</td>\n",
       "      <td>2020-01-24 17:00:00</td>\n",
       "      <td>1023.0</td>\n",
       "      <td>6000.0</td>\n",
       "      <td>94.0</td>\n",
       "      <td>1.8</td>\n",
       "      <td>3.0</td>\n",
       "      <td>3</td>\n",
       "    </tr>\n",
       "    <tr>\n",
       "      <th>...</th>\n",
       "      <td>...</td>\n",
       "      <td>...</td>\n",
       "      <td>...</td>\n",
       "      <td>...</td>\n",
       "      <td>...</td>\n",
       "      <td>...</td>\n",
       "      <td>...</td>\n",
       "      <td>...</td>\n",
       "      <td>...</td>\n",
       "      <td>...</td>\n",
       "      <td>...</td>\n",
       "      <td>...</td>\n",
       "      <td>...</td>\n",
       "      <td>...</td>\n",
       "      <td>...</td>\n",
       "      <td>...</td>\n",
       "      <td>...</td>\n",
       "      <td>...</td>\n",
       "      <td>...</td>\n",
       "      <td>...</td>\n",
       "      <td>...</td>\n",
       "    </tr>\n",
       "    <tr>\n",
       "      <th>8572</th>\n",
       "      <td>2021</td>\n",
       "      <td>4</td>\n",
       "      <td>114</td>\n",
       "      <td>16</td>\n",
       "      <td>29529.470</td>\n",
       "      <td>0.000</td>\n",
       "      <td>75.00</td>\n",
       "      <td>2.0</td>\n",
       "      <td>2.0</td>\n",
       "      <td>2.0</td>\n",
       "      <td>...</td>\n",
       "      <td>1.0</td>\n",
       "      <td>3.0</td>\n",
       "      <td>2.0</td>\n",
       "      <td>2021-05-14 16:00:00</td>\n",
       "      <td>1026.7</td>\n",
       "      <td>35000.0</td>\n",
       "      <td>37.0</td>\n",
       "      <td>14.1</td>\n",
       "      <td>7.0</td>\n",
       "      <td>1</td>\n",
       "    </tr>\n",
       "    <tr>\n",
       "      <th>3574</th>\n",
       "      <td>2020</td>\n",
       "      <td>8</td>\n",
       "      <td>219</td>\n",
       "      <td>14</td>\n",
       "      <td>26790.243</td>\n",
       "      <td>0.000</td>\n",
       "      <td>39.81</td>\n",
       "      <td>1.0</td>\n",
       "      <td>2.0</td>\n",
       "      <td>0.0</td>\n",
       "      <td>...</td>\n",
       "      <td>0.0</td>\n",
       "      <td>3.0</td>\n",
       "      <td>2.0</td>\n",
       "      <td>2020-10-19 14:00:00</td>\n",
       "      <td>1019.1</td>\n",
       "      <td>40000.0</td>\n",
       "      <td>27.0</td>\n",
       "      <td>30.8</td>\n",
       "      <td>4.0</td>\n",
       "      <td>1</td>\n",
       "    </tr>\n",
       "    <tr>\n",
       "      <th>10294</th>\n",
       "      <td>2021</td>\n",
       "      <td>7</td>\n",
       "      <td>204</td>\n",
       "      <td>14</td>\n",
       "      <td>30166.126</td>\n",
       "      <td>0.000</td>\n",
       "      <td>41.67</td>\n",
       "      <td>1.0</td>\n",
       "      <td>2.0</td>\n",
       "      <td>1.0</td>\n",
       "      <td>...</td>\n",
       "      <td>0.0</td>\n",
       "      <td>3.0</td>\n",
       "      <td>2.0</td>\n",
       "      <td>2021-09-04 14:00:00</td>\n",
       "      <td>1017.4</td>\n",
       "      <td>35000.0</td>\n",
       "      <td>52.0</td>\n",
       "      <td>23.0</td>\n",
       "      <td>4.0</td>\n",
       "      <td>0</td>\n",
       "    </tr>\n",
       "    <tr>\n",
       "      <th>8423</th>\n",
       "      <td>2021</td>\n",
       "      <td>4</td>\n",
       "      <td>108</td>\n",
       "      <td>11</td>\n",
       "      <td>29481.742</td>\n",
       "      <td>0.000</td>\n",
       "      <td>75.00</td>\n",
       "      <td>2.0</td>\n",
       "      <td>2.0</td>\n",
       "      <td>2.0</td>\n",
       "      <td>...</td>\n",
       "      <td>1.0</td>\n",
       "      <td>3.0</td>\n",
       "      <td>2.0</td>\n",
       "      <td>2021-05-08 11:00:00</td>\n",
       "      <td>1023.7</td>\n",
       "      <td>32000.0</td>\n",
       "      <td>55.0</td>\n",
       "      <td>11.3</td>\n",
       "      <td>3.0</td>\n",
       "      <td>1</td>\n",
       "    </tr>\n",
       "    <tr>\n",
       "      <th>10388</th>\n",
       "      <td>2021</td>\n",
       "      <td>8</td>\n",
       "      <td>214</td>\n",
       "      <td>13</td>\n",
       "      <td>30229.343</td>\n",
       "      <td>0.000</td>\n",
       "      <td>41.67</td>\n",
       "      <td>1.0</td>\n",
       "      <td>2.0</td>\n",
       "      <td>1.0</td>\n",
       "      <td>...</td>\n",
       "      <td>0.0</td>\n",
       "      <td>3.0</td>\n",
       "      <td>2.0</td>\n",
       "      <td>2021-10-14 13:00:00</td>\n",
       "      <td>1014.7</td>\n",
       "      <td>40000.0</td>\n",
       "      <td>63.0</td>\n",
       "      <td>18.5</td>\n",
       "      <td>3.0</td>\n",
       "      <td>3</td>\n",
       "    </tr>\n",
       "  </tbody>\n",
       "</table>\n",
       "<p>2695 rows × 23 columns</p>\n",
       "</div>"
      ],
      "text/plain": [
       "       year  month  day  hour  total_consumption  consumption  stringency  \\\n",
       "90     2020      1    4    20          24652.946        2.299        0.00   \n",
       "277    2020      1   12    18          24756.158        2.071        0.00   \n",
       "446    2020      1   19    19          24848.792        2.043        0.00   \n",
       "278    2020      1   12    19          24758.157        1.999        0.00   \n",
       "550    2020      1   24    17          24911.465        1.952        0.00   \n",
       "...     ...    ...  ...   ...                ...          ...         ...   \n",
       "8572   2021      4  114    16          29529.470        0.000       75.00   \n",
       "3574   2020      8  219    14          26790.243        0.000       39.81   \n",
       "10294  2021      7  204    14          30166.126        0.000       41.67   \n",
       "8423   2021      4  108    11          29481.742        0.000       75.00   \n",
       "10388  2021      8  214    13          30229.343        0.000       41.67   \n",
       "\n",
       "       C1_School closing  C2_Workplace closing  C3_Cancel public events  ...  \\\n",
       "90                   0.0                   0.0                      0.0  ...   \n",
       "277                  0.0                   0.0                      0.0  ...   \n",
       "446                  0.0                   0.0                      0.0  ...   \n",
       "278                  0.0                   0.0                      0.0  ...   \n",
       "550                  0.0                   0.0                      0.0  ...   \n",
       "...                  ...                   ...                      ...  ...   \n",
       "8572                 2.0                   2.0                      2.0  ...   \n",
       "3574                 1.0                   2.0                      0.0  ...   \n",
       "10294                1.0                   2.0                      1.0  ...   \n",
       "8423                 2.0                   2.0                      2.0  ...   \n",
       "10388                1.0                   2.0                      1.0  ...   \n",
       "\n",
       "       C7_Restrictions on internal movement  C8_International travel controls  \\\n",
       "90                                      0.0                               0.0   \n",
       "277                                     0.0                               0.0   \n",
       "446                                     0.0                               0.0   \n",
       "278                                     0.0                               0.0   \n",
       "550                                     0.0                               0.0   \n",
       "...                                     ...                               ...   \n",
       "8572                                    1.0                               3.0   \n",
       "3574                                    0.0                               3.0   \n",
       "10294                                   0.0                               3.0   \n",
       "8423                                    1.0                               3.0   \n",
       "10388                                   0.0                               3.0   \n",
       "\n",
       "       H1_Public information campaigns                time  air pressure  \\\n",
       "90                                 0.0 2020-01-04 20:00:00        1033.2   \n",
       "277                                0.0 2020-01-12 18:00:00        1020.7   \n",
       "446                                0.0 2020-01-19 19:00:00        1045.1   \n",
       "278                                0.0 2020-01-12 19:00:00        1021.1   \n",
       "550                                0.0 2020-01-24 17:00:00        1023.0   \n",
       "...                                ...                 ...           ...   \n",
       "8572                               2.0 2021-05-14 16:00:00        1026.7   \n",
       "3574                               2.0 2020-10-19 14:00:00        1019.1   \n",
       "10294                              2.0 2021-09-04 14:00:00        1017.4   \n",
       "8423                               2.0 2021-05-08 11:00:00        1023.7   \n",
       "10388                              2.0 2021-10-14 13:00:00        1014.7   \n",
       "\n",
       "       visibility humidity  temperature  wind speed  clouds  \n",
       "90         6000.0     96.0          6.7         4.0       3  \n",
       "277       27000.0     89.0          9.0         8.0       3  \n",
       "446       12000.0     88.0          3.6         3.0       0  \n",
       "278       28000.0     88.0          9.0         7.0       3  \n",
       "550        6000.0     94.0          1.8         3.0       3  \n",
       "...           ...      ...          ...         ...     ...  \n",
       "8572      35000.0     37.0         14.1         7.0       1  \n",
       "3574      40000.0     27.0         30.8         4.0       1  \n",
       "10294     35000.0     52.0         23.0         4.0       0  \n",
       "8423      32000.0     55.0         11.3         3.0       1  \n",
       "10388     40000.0     63.0         18.5         3.0       3  \n",
       "\n",
       "[2695 rows x 23 columns]"
      ]
     },
     "execution_count": 57,
     "metadata": {},
     "output_type": "execute_result"
    }
   ],
   "source": [
    "\n",
    "# correlations = combined_data[combined_data.columns[1:-1]].apply(lambda x: x.corr(combined_data['consumption']))\n",
    "# correlations.sort_values(ascending=False)\n",
    "\n",
    "combined_data.sort_values(by='consumption', ascending=False)"
   ]
  },
  {
   "cell_type": "markdown",
   "metadata": {},
   "source": [
    "### Question 11 ###\n",
    "\n",
    "Using your new-found knowledge of the features, re-define the data on which you train and evaluate your model. Try to improve your model as much as possible by only changing the selection of features.\n",
    "\n",
    "Assign your new data and new model to the variables `improved_data` and `improved_model`, respectively."
   ]
  },
  {
   "cell_type": "code",
   "execution_count": 58,
   "metadata": {},
   "outputs": [
    {
     "name": "stdout",
     "output_type": "stream",
     "text": [
      "R2 Score:  0.32372786175288804\n",
      "Mean absolute error: 0.21991294287488547\n"
     ]
    }
   ],
   "source": [
    "#// BEGIN_TODO [Q11]\n",
    "weather = raw_weather.copy()\n",
    "weather['time'] = pd.to_datetime(raw_weather['time'], unit='s')\n",
    "weather['time'] = weather.time.dt.tz_localize('utc').dt.tz_convert('Europe/Amsterdam')\n",
    "times = weather[\"time\"]\n",
    "weather = weather.groupby([times.dt.year, times.dt.month, times.dt.dayofyear, times.dt.hour]).agg({ \"air pressure\": np.max, \"visibility\": np.max, \"humidity\": np.max,\n",
    "                                                                                                  \"temperature\": np.max, \"wind speed\": np.max, \"clouds\": np.max})\n",
    "weather.index.names = [\"year\", \"month\", \"day\", \"hour\"]\n",
    "weather = weather.dropna()\n",
    "weather = weather.reset_index()\n",
    "\n",
    "combined_data = pd.merge(data, weather).reset_index(drop=True)\n",
    "# combined_data = combined_data.drop(columns=\"time\")\n",
    "combined_data = combined_data.dropna()\n",
    "\n",
    "improved_data = combined_data\n",
    "\n",
    "q11_features = [\"hour\",'temperature', \"C3_Cancel public events\", \"wind speed\", \"stringency\", \"humidity\"] #use more features\n",
    "\n",
    "X_q11 = improved_data[q11_features].values\n",
    "y_q11 = improved_data[\"consumption\"].values\n",
    "X_train_q11, X_test_q11, y_train_q11, y_test_q11 = train_test_split(X_q11, y_q11, test_size=0.2, random_state=42)\n",
    "improved_model = LinearRegression()\n",
    "improved_model.fit(X_train_q11, y_train_q11)\n",
    "y_pred_q11 = improved_model.predict(X_test_q11)\n",
    "\n",
    "mad = mean_absolute_error(y_test_q11, y_pred_q11)\n",
    "\n",
    "print(\"R2 Score: \", improved_model.score(X_test_q11, y_test_q11))\n",
    "print(\"Mean absolute error:\", mad)\n",
    "\n",
    "#// END_TODO [Q11]"
   ]
  },
  {
   "cell_type": "markdown",
   "metadata": {
    "tags": []
   },
   "source": [
    "#### Choose a more or less flexible model\n",
    "\n",
    "Another way is to add flexibility to the model e.g. by changing it to a polynomial model or a neural network. You can read more about simple extensions of the linear model in Section 3.3.2 and 6.2 of \"Introduction to Statistical Learning\".\n",
    "\n",
    "Linear regression is far from the only modeling we can do here. Another model we could use is that of a Decision Tree. What is nice about these types of models is that they show the exact sequence of decisions that a model makes in order to arrive at a prediction. You can read more about Decision Trees at [https://scikit-learn.org/stable/modules/tree.html]. Note that in this instance, we will want to use the Decision Tree regression model, not the classification model."
   ]
  },
  {
   "cell_type": "code",
   "execution_count": 59,
   "metadata": {},
   "outputs": [
    {
     "name": "stdout",
     "output_type": "stream",
     "text": [
      "Mean absolute error: 0.21991294287488547\n"
     ]
    }
   ],
   "source": [
    "\n",
    "print(\"Mean absolute error:\", mad)"
   ]
  },
  {
   "cell_type": "markdown",
   "metadata": {},
   "source": [
    "### Question 12\n",
    "\n",
    "The Decision Tree model has quite a number of parameters, and we encourage you to do so to see their impact on the model's performance. One of the most important ones is that of tree depth. What happens with an increase in depth? Note that there may be more than one correct answer.\n",
    "\n",
    "1. An increase in depth may make the model capture more of the noise in the training data.\n",
    "1. An increase in depth may make the model capture less of the noise in the training data.\n",
    "3. An increase in depth helps to avoid overfitting.\n",
    "4. An increase in depth helps to avoid underfitting.\n",
    "\n",
    "Assign the integer(s) corresponding to the correct answer(s) as a list to the variable `decision_tree_depth`."
   ]
  },
  {
   "cell_type": "code",
   "execution_count": 60,
   "metadata": {},
   "outputs": [],
   "source": [
    "#// BEGIN_TODO [Q12]\n",
    "decision_tree_depth = [1, 4]\n",
    "#// END_TODO [Q12]"
   ]
  },
  {
   "cell_type": "markdown",
   "metadata": {},
   "source": [
    "### Question 13\n",
    "\n",
    "Train a Decision Tree model an assign it to the variable `decision_tree`. Inspect it and determine what the three most influential features are according to this model. Assign the names of these features as a list of strings to the variable `decision_tree_features`. You may want to plot the resulting model to help you inspect it. "
   ]
  },
  {
   "cell_type": "code",
   "execution_count": 61,
   "metadata": {},
   "outputs": [
    {
     "name": "stdout",
     "output_type": "stream",
     "text": [
      "   year  month  day  hour  total_consumption  consumption  stringency  \\\n",
      "0  2020      1    1     2          24589.787        0.399         0.0   \n",
      "1  2020      1    1     3          24590.107        0.320         0.0   \n",
      "2  2020      1    1     4          24590.311        0.204         0.0   \n",
      "3  2020      1    1     5          24590.651        0.340         0.0   \n",
      "4  2020      1    1     6          24591.265        0.614         0.0   \n",
      "\n",
      "   C1_School closing  C2_Workplace closing  C3_Cancel public events  ...  \\\n",
      "0                0.0                   0.0                      0.0  ...   \n",
      "1                0.0                   0.0                      0.0  ...   \n",
      "2                0.0                   0.0                      0.0  ...   \n",
      "3                0.0                   0.0                      0.0  ...   \n",
      "4                0.0                   0.0                      0.0  ...   \n",
      "\n",
      "   C7_Restrictions on internal movement  C8_International travel controls  \\\n",
      "0                                   0.0                               0.0   \n",
      "1                                   0.0                               0.0   \n",
      "2                                   0.0                               0.0   \n",
      "3                                   0.0                               0.0   \n",
      "4                                   0.0                               0.0   \n",
      "\n",
      "   H1_Public information campaigns                time  air pressure  \\\n",
      "0                              0.0 2020-01-01 02:00:00        1034.1   \n",
      "1                              0.0 2020-01-01 03:00:00        1033.6   \n",
      "2                              0.0 2020-01-01 04:00:00        1033.5   \n",
      "3                              0.0 2020-01-01 05:00:00        1033.0   \n",
      "4                              0.0 2020-01-01 06:00:00        1032.7   \n",
      "\n",
      "   visibility humidity  temperature  wind speed  clouds  \n",
      "0      3800.0     93.0          3.2         3.0       3  \n",
      "1      3500.0     94.0          2.9         3.0       3  \n",
      "2      3500.0     93.0          2.5         3.0       3  \n",
      "3      3000.0     95.0          2.2         3.0       3  \n",
      "4      2400.0     97.0          2.0         3.0       3  \n",
      "\n",
      "[5 rows x 23 columns]\n",
      "R2 Score:  0.5935626122742402\n",
      "Mean absolute error: 0.15394586951537526\n",
      "['hour', 'month', 'air pressure']\n"
     ]
    },
    {
     "data": {
      "image/png": "[encoded data removed]",
      "text/plain": [
       "<Figure size 1008x648 with 1 Axes>"
      ]
     },
     "metadata": {
      "needs_background": "light"
     },
     "output_type": "display_data"
    }
   ],
   "source": [
    "#// BEGIN_TODO [Q13]\n",
    "from sklearn import tree\n",
    "from sklearn.tree import DecisionTreeRegressor\n",
    "\n",
    "weather = raw_weather.copy()\n",
    "weather['time'] = pd.to_datetime(raw_weather['time'], unit='s')\n",
    "weather['time'] = weather.time.dt.tz_localize('utc').dt.tz_convert('Europe/Amsterdam')\n",
    "times = weather[\"time\"]\n",
    "weather = weather.groupby([times.dt.year, times.dt.month, times.dt.dayofyear, times.dt.hour]).agg({ \"air pressure\": np.max, \"visibility\": np.max, \"humidity\": np.max,\n",
    "                                                                                                  \"temperature\": np.max, \"wind speed\": np.max, \"clouds\": np.max})\n",
    "weather.index.names = [\"year\", \"month\", \"day\", \"hour\"]\n",
    "weather = weather.dropna()\n",
    "weather = weather.reset_index()\n",
    "\n",
    "combined_data = pd.merge(data, weather).reset_index(drop=True)\n",
    "# combined_data = combined_data.drop(columns=\"time\")\n",
    "combined_data = combined_data.dropna()\n",
    "print(combined_data.head())\n",
    "\n",
    "q13_features = [\"hour\",'temperature', \"stringency\", \"air pressure\", \"humidity\", \"month\", \"clouds\", \"visibility\", \"wind speed\"]\n",
    "X_q13 = combined_data[q13_features].values\n",
    "y_q13 = combined_data[\"consumption\"].values\n",
    "X_train_q13, X_test_q13, y_train_q13, y_test_q13 = train_test_split(X_q13, y_q13, test_size=0.2, random_state=42)\n",
    "improved_model = tree.DecisionTreeRegressor(max_depth=5)\n",
    "improved_model.fit(X_train_q13, y_train_q13)\n",
    "y_pred_q13 = improved_model.predict(X_test_q13)\n",
    "mad = mean_absolute_error(y_test_q13, y_pred_q13)\n",
    "\n",
    "print(\"R2 Score: \", improved_model.score(X_test_q13, y_test_q13))\n",
    "print(\"Mean absolute error:\", mad)\n",
    "\n",
    "plt.figure()\n",
    "tree.plot_tree(improved_model, filled=True)  \n",
    "plt.savefig('tree.eps',format='eps', bbox_inches = \"tight\")\n",
    "\n",
    "important_features = np.argsort(improved_model.feature_importances_)[::-1]\n",
    "\n",
    "decision_tree_features = [q13_features[i] for i in important_features][:3]\n",
    "\n",
    "print(decision_tree_features)\n",
    "\n",
    "#// END_TODO [Q13]"
   ]
  },
  {
   "cell_type": "code",
   "execution_count": 62,
   "metadata": {},
   "outputs": [
    {
     "data": {
      "text/plain": [
       "(2695, 23)"
      ]
     },
     "execution_count": 62,
     "metadata": {},
     "output_type": "execute_result"
    }
   ],
   "source": [
    "combined_data.shape"
   ]
  },
  {
   "cell_type": "code",
   "execution_count": 63,
   "metadata": {},
   "outputs": [
    {
     "name": "stdout",
     "output_type": "stream",
     "text": [
      "Train set R2 Score: 0.91921\n",
      "Test set R2 Score: 0.68030\n",
      "Mean absolute error: 0.13480\n"
     ]
    }
   ],
   "source": [
    "from sklearn.ensemble import RandomForestRegressor\n",
    "\n",
    "forest_features = [\"hour\", 'temperature', \"humidity\", \"month\", \"stringency\"]\n",
    "q13_features = [\"hour\",'temperature', \"stringency\", \"air pressure\", \"humidity\", \"month\", \"clouds\", \"visibility\", \"wind speed\"]\n",
    "\n",
    "X_forest = combined_data[q13_features].values\n",
    "y_forest = combined_data[\"consumption\"].values\n",
    "X_train_forest, X_test_forest, y_train_forest, y_test_forest = train_test_split(X_forest, y_forest, test_size=0.1, random_state=42)\n",
    "\n",
    "\n",
    "rfmodel = RandomForestRegressor(n_estimators=200, max_features=0.5, bootstrap=False, random_state=42, max_depth=10)\n",
    "rfmodel.fit(X_train_forest, y_train_forest)\n",
    "y_pred_forest = rfmodel.predict(X_test_forest)\n",
    "\n",
    "mad = mean_absolute_error(y_test_forest, y_pred_forest)\n",
    "\n",
    "print(\"Train set R2 Score: {0:.5f}\".format(rfmodel.score(X_train_forest, y_train_forest)))\n",
    "print(\"Test set R2 Score: {0:.5f}\".format(rfmodel.score(X_test_forest, y_test_forest)))\n",
    "print(\"Mean absolute error: {0:.5f}\".format(mad))"
   ]
  },
  {
   "cell_type": "markdown",
   "metadata": {},
   "source": [
    "### Simulate the forecasting\n",
    "\n",
    "The `restriction_test.csv` file contains the restriction data that was held out from `restriction.csv` used for training the energy consumption predictor. This data simulates the restriction forecasts and is used for evaluating how your model would perform if it was deployed."
   ]
  },
  {
   "cell_type": "code",
   "execution_count": 64,
   "metadata": {},
   "outputs": [],
   "source": [
    "restrictions_test = pd.read_csv('data/restrictions_test.csv')"
   ]
  },
  {
   "cell_type": "markdown",
   "metadata": {},
   "source": [
    "Provide the predictions for the hourly energy consumption for the given COVID-19 restrictions, i.e. populate the `consumption` column in the following data frame:"
   ]
  },
  {
   "cell_type": "code",
   "execution_count": 65,
   "metadata": {
    "scrolled": true
   },
   "outputs": [],
   "source": [
    "prediction = restrictions_test.copy()\n",
    "times = pd.to_datetime(prediction[\"time\"], unit='s')\n",
    "prediction['year']  = times.dt.year\n",
    "prediction['month'] = times.dt.month\n",
    "prediction['day']   = times.dt.dayofyear\n",
    "prediction['hour']  = times.dt.hour\n",
    "prediction['consumption'] = np.nan\n",
    "prediction.head()\n",
    "\n",
    "prediction['time'] = pd.to_datetime(prediction['time'], unit='s')"
   ]
  },
  {
   "cell_type": "markdown",
   "metadata": {},
   "source": [
    "### Question 14\n",
    "\n",
    "Fill in the `'consumption'` column in the prediction data frame with your predictions (do not reorder the rows). Assign the values from the `'consumption`' column as a Python list containing floats to the variable `consumption_prediction`. You may use any predictive model from the `sklearn` package (please do not use any packages that are not already included in this notebook). You can take a look through the contents of `sklearn` at [https://scikit-learn.org/stable/supervised_learning.html] to find models that suit this purpose, such as Random Forests and Multi-layer Perceptrons.\n",
    "\n",
    "For automating the evaluation of your predictions, call the evaluate function that is defined in the `evaluate.py` script (do not edit the code lines below!):"
   ]
  },
  {
   "cell_type": "code",
   "execution_count": 66,
   "metadata": {},
   "outputs": [],
   "source": [
    "from evaluate_stub import *\n",
    "evaluate(prediction)"
   ]
  },
  {
   "cell_type": "markdown",
   "metadata": {},
   "source": [
    "As a sanity check, make sure that the `prediction` data frame contains a `consumption` column and 2989 rows."
   ]
  },
  {
   "cell_type": "code",
   "execution_count": 67,
   "metadata": {
    "scrolled": true
   },
   "outputs": [
    {
     "data": {
      "text/plain": [
       "2989"
      ]
     },
     "execution_count": 67,
     "metadata": {},
     "output_type": "execute_result"
    }
   ],
   "source": [
    "prediction.shape[0]"
   ]
  },
  {
   "cell_type": "markdown",
   "metadata": {},
   "source": [
    "Your solution will be evaluated based on the mean absolute error metric."
   ]
  },
  {
   "cell_type": "code",
   "execution_count": 68,
   "metadata": {},
   "outputs": [
    {
     "name": "stdout",
     "output_type": "stream",
     "text": [
      "Features used for prediction ['hour', 'temperature', 'stringency', 'air pressure', 'humidity', 'month', 'clouds', 'visibility', 'wind speed']\n"
     ]
    },
    {
     "data": {
      "text/plain": [
       "2989"
      ]
     },
     "execution_count": 68,
     "metadata": {},
     "output_type": "execute_result"
    }
   ],
   "source": [
    "#// BEGIN_TODO [Q14]\n",
    "from sklearn.ensemble import RandomForestRegressor\n",
    "q13_features = [\"hour\",'temperature', \"stringency\", \"air pressure\", \"humidity\", \"month\", \"clouds\", \"visibility\", \"wind speed\"]\n",
    "\n",
    "weather_copy = raw_weather.copy()\n",
    "weather_copy['time'] = pd.to_datetime(weather_copy['time'], unit='s')\n",
    "prediction['time'] = pd.to_datetime(prediction['time'], unit='s')\n",
    "dataset = pd.merge(prediction, weather_copy, how='left').reset_index(drop=True)\n",
    "\n",
    "X = combined_data[q13_features].values\n",
    "y = combined_data[\"consumption\"].values\n",
    "X_test = dataset[q13_features].values\n",
    "\n",
    "# predictions\n",
    "print(\"Features used for prediction {0}\".format(q13_features))\n",
    "rf_model = RandomForestRegressor(n_estimators=200, max_features=0.5, bootstrap=False, random_state=42, max_depth=10)\n",
    "rf_model.fit(X,y)\n",
    "consumption_prediction = rf_model.predict(np.nan_to_num(X_test)).tolist() #to remove all inf and -inf\n",
    "prediction['consumption'] = consumption_prediction\n",
    "prediction.shape[0]\n",
    "\n",
    "#// END_TODO [Q14]"
   ]
  },
  {
   "cell_type": "code",
   "execution_count": 69,
   "metadata": {},
   "outputs": [
    {
     "data": {
      "text/plain": [
       "<AxesSubplot:ylabel='Frequency'>"
      ]
     },
     "execution_count": 69,
     "metadata": {},
     "output_type": "execute_result"
    },
    {
     "data": {
      "image/png": "[encoded data removed]",
      "text/plain": [
       "<Figure size 1008x648 with 1 Axes>"
      ]
     },
     "metadata": {
      "needs_background": "light"
     },
     "output_type": "display_data"
    }
   ],
   "source": [
    "prediction['consumption'].plot.hist(bins=200)"
   ]
  },
  {
   "cell_type": "markdown",
   "metadata": {},
   "source": [
    "> **IMPORTANT:** your model will be evaluated on the held out test set. It is therefore safe to train your *final* model on the entire dataset that was provided (rather than the X_train, y_train subsets from the train/test split above), to captures all of the information that is available to you."
   ]
  },
  {
   "cell_type": "markdown",
   "metadata": {},
   "source": [
    "### Predict hourly solar energy production \n",
    "\n",
    "Apart from the hourly energy consumption, we are also intrested in predicting the hourly energy production from the solar panels. For this, we use the available weather data and we will utilize the data across from the first 4 years, i.e., 2017-2020.\n",
    "\n",
    "#### Compute the hourly production\n",
    "\n",
    "We are interested in predicting the solar panel output in a given hour. However, the `'total_solar_production'` column in the energy data frame at this point contains the total solar panel output until the end of that hour.\n",
    "Assuming that the dataset contains a sample for every hour, i.e. there are no gaps, the hourly output can be computed by taking the difference between the previous sample, similar to the `'total_consumption'` column."
   ]
  },
  {
   "cell_type": "code",
   "execution_count": 70,
   "metadata": {},
   "outputs": [
    {
     "data": {
      "text/html": [
       "<div>\n",
       "<style scoped>\n",
       "    .dataframe tbody tr th:only-of-type {\n",
       "        vertical-align: middle;\n",
       "    }\n",
       "\n",
       "    .dataframe tbody tr th {\n",
       "        vertical-align: top;\n",
       "    }\n",
       "\n",
       "    .dataframe thead th {\n",
       "        text-align: right;\n",
       "    }\n",
       "</style>\n",
       "<table border=\"1\" class=\"dataframe\">\n",
       "  <thead>\n",
       "    <tr style=\"text-align: right;\">\n",
       "      <th></th>\n",
       "      <th></th>\n",
       "      <th></th>\n",
       "      <th></th>\n",
       "      <th>total_solar_production</th>\n",
       "      <th>production</th>\n",
       "    </tr>\n",
       "    <tr>\n",
       "      <th>year</th>\n",
       "      <th>month</th>\n",
       "      <th>day</th>\n",
       "      <th>hour</th>\n",
       "      <th></th>\n",
       "      <th></th>\n",
       "    </tr>\n",
       "  </thead>\n",
       "  <tbody>\n",
       "    <tr>\n",
       "      <th rowspan=\"3\" valign=\"top\">2020</th>\n",
       "      <th rowspan=\"3\" valign=\"top\">12</th>\n",
       "      <th rowspan=\"3\" valign=\"top\">366</th>\n",
       "      <th>21</th>\n",
       "      <td>15446.0</td>\n",
       "      <td>0.0</td>\n",
       "    </tr>\n",
       "    <tr>\n",
       "      <th>22</th>\n",
       "      <td>15446.0</td>\n",
       "      <td>0.0</td>\n",
       "    </tr>\n",
       "    <tr>\n",
       "      <th>23</th>\n",
       "      <td>15446.0</td>\n",
       "      <td>0.0</td>\n",
       "    </tr>\n",
       "    <tr>\n",
       "      <th rowspan=\"2\" valign=\"top\">2021</th>\n",
       "      <th rowspan=\"2\" valign=\"top\">1</th>\n",
       "      <th rowspan=\"2\" valign=\"top\">1</th>\n",
       "      <th>0</th>\n",
       "      <td>15446.0</td>\n",
       "      <td>0.0</td>\n",
       "    </tr>\n",
       "    <tr>\n",
       "      <th>1</th>\n",
       "      <td>15446.0</td>\n",
       "      <td>0.0</td>\n",
       "    </tr>\n",
       "  </tbody>\n",
       "</table>\n",
       "</div>"
      ],
      "text/plain": [
       "                     total_solar_production  production\n",
       "year month day hour                                    \n",
       "2020 12    366 21                   15446.0         0.0\n",
       "               22                   15446.0         0.0\n",
       "               23                   15446.0         0.0\n",
       "2021 1     1   0                    15446.0         0.0\n",
       "               1                    15446.0         0.0"
      ]
     },
     "execution_count": 70,
     "metadata": {},
     "output_type": "execute_result"
    }
   ],
   "source": [
    "col = \"total_solar_production\"\n",
    "energy = raw_energy.copy()\n",
    "times = pd.to_datetime(energy[\"time\"], unit='s')\n",
    "energy = energy.groupby([times.dt.year, times.dt.month, times.dt.dayofyear, times.dt.hour])[[col]].agg(np.max)\n",
    "energy.index.names = [\"year\", \"month\", \"day\", \"hour\"]\n",
    "energy[\"production\"] = energy[col] - energy[col].shift(1)\n",
    "energy_17to20 = energy[:25189]\n",
    "energy_17to20.tail()"
   ]
  },
  {
   "cell_type": "markdown",
   "metadata": {},
   "source": [
    "### Question 15 ###\n",
    "\n",
    "After creating the production column there are NaNs in the data. Where do they come from, and why is the index recomputed?\n",
    "\n",
    "1. The NaN values are caused by missing values in the original data due to sensor errors, and the index is reset because a column has been added.\n",
    "2. The NaN values are caused by missing values in the original data due to the way the column is calculated, and the index is reset because a column has been added.\n",
    "3. The NaN values are caused by missing values in the original data due to sensor errors, and the index is reset because the number of rows has changed.\n",
    "4. The NaN values are caused by missing values in the original data due to the way the column is calculated, and the index is reset because the number of rows has changed.\n",
    "\n",
    "Assign the integer corresponding to the correct answer to the variable `question_production`."
   ]
  },
  {
   "cell_type": "code",
   "execution_count": 71,
   "metadata": {},
   "outputs": [],
   "source": [
    "#// BEGIN_TODO [Q15]\n",
    "question_production = 3\n",
    "#// END_TODO [Q15]"
   ]
  },
  {
   "cell_type": "markdown",
   "metadata": {},
   "source": [
    "In order to continue, we need to remove these NaN values."
   ]
  },
  {
   "cell_type": "code",
   "execution_count": 72,
   "metadata": {},
   "outputs": [
    {
     "data": {
      "image/png": "[encoded data removed]",
      "text/plain": [
       "<Figure size 720x216 with 1 Axes>"
      ]
     },
     "metadata": {
      "needs_background": "light"
     },
     "output_type": "display_data"
    }
   ],
   "source": [
    "energy_17to20 = energy_17to20.dropna().reset_index()\n",
    "plot(energy_17to20, \"production\")"
   ]
  },
  {
   "cell_type": "markdown",
   "metadata": {},
   "source": [
    "#### Merge weather and energy data\n",
    "\n",
    "We need to merge the weather and energy production data in order to train any predictive model. "
   ]
  },
  {
   "cell_type": "markdown",
   "metadata": {},
   "source": [
    "### Question 16\n",
    "\n",
    "Aggregate the `weather` data per hour and merge it with the `energy_17to20` data frame. Assign the resulting data frame to variable `data_production`.\n",
    "\n",
    "<span class=\"t\">Hint<span class=\"c\">:</span></span>\n",
    "<span class=\"h\">\n",
    "When we consider the weather data, the average value per hour is more suitable from the maximum.\n",
    "</span>"
   ]
  },
  {
   "cell_type": "code",
   "execution_count": 73,
   "metadata": {},
   "outputs": [
    {
     "name": "stdout",
     "output_type": "stream",
     "text": [
      "       year  month  day  hour  clouds  temperature   humidity  wind speed  \\\n",
      "0      2017      1    1     1     3.0    -1.416667  99.000000    3.166667   \n",
      "1      2017      1    1     2     3.0    -1.300000  99.000000    4.000000   \n",
      "2      2017      1    1     3     3.0    -1.216667  99.000000    3.333333   \n",
      "3      2017      1    1     4     3.0    -1.216667  99.000000    3.333333   \n",
      "4      2017      1    1     5     3.0    -1.316667  99.000000    3.000000   \n",
      "...     ...    ...  ...   ...     ...          ...        ...         ...   \n",
      "24716  2020     12  366    21     3.0     1.983333  96.000000    1.500000   \n",
      "24717  2020     12  366    22     3.0     1.683333  97.166667    1.000000   \n",
      "24718  2020     12  366    23     3.0     1.550000  98.666667    1.000000   \n",
      "24719  2021      1    1     0     3.0     1.816667  96.333333    1.166667   \n",
      "24720  2021      1    1     1     3.0     1.850000  96.833333    1.000000   \n",
      "\n",
      "        visibility  air pressure  total_solar_production  production  \n",
      "0       392.500000   1024.650000                  4147.1         0.0  \n",
      "1       332.333333   1024.066667                  4147.1         0.0  \n",
      "2       511.500000   1023.166667                  4147.1         0.0  \n",
      "3      1758.333333   1022.266667                  4147.1         0.0  \n",
      "4      2483.333333   1021.616667                  4147.1         0.0  \n",
      "...            ...           ...                     ...         ...  \n",
      "24716  4450.000000   1005.400000                 15446.0         0.0  \n",
      "24717  3266.666667   1005.666667                 15446.0         0.0  \n",
      "24718  2466.666667   1005.950000                 15446.0         0.0  \n",
      "24719  2283.333333   1006.166667                 15446.0         0.0  \n",
      "24720  2466.666667   1006.366667                 15446.0         0.0  \n",
      "\n",
      "[24721 rows x 12 columns]\n"
     ]
    }
   ],
   "source": [
    "#// BEGIN_TODO [Q16]\n",
    "weather = raw_weather.copy()\n",
    "weather['time'] = pd.to_datetime(raw_weather['time'], unit='s')\n",
    "times = pd.to_datetime(weather[\"time\"], unit='s')\n",
    "weather = weather.groupby([times.dt.year, times.dt.month, times.dt.dayofyear, times.dt.hour]).agg(np.mean)\n",
    "weather.index.names = [\"year\", \"month\", \"day\", \"hour\"]\n",
    "weather = weather.reset_index()\n",
    "\n",
    "# # print(weather.head())\n",
    "# # print(weather)\n",
    "# # print(energy_17to20)\n",
    "data_production = pd.merge(weather, energy_17to20)\n",
    "# #sanity check\n",
    "# # print(len(data_production))\n",
    "# # print(len(energy_17to20))\n",
    "print(data_production)\n",
    "#// END_TODO [Q16] "
   ]
  },
  {
   "cell_type": "markdown",
   "metadata": {},
   "source": [
    "#### Remove outlier\n",
    "\n",
    "Similar to the outliers present in the consumption column calculated earlier from the energy data, there may be some outliers present in the production column as well. We should remove those outliers, before we train our model."
   ]
  },
  {
   "cell_type": "code",
   "execution_count": 74,
   "metadata": {},
   "outputs": [
    {
     "data": {
      "image/png": "[encoded data removed]",
      "text/plain": [
       "<Figure size 720x216 with 1 Axes>"
      ]
     },
     "metadata": {
      "needs_background": "light"
     },
     "output_type": "display_data"
    }
   ],
   "source": [
    "# TODO: Explore the data to identify any outliers\n",
    "def plot(df, col):\n",
    "    x = df[\"hour\"]\n",
    "    plt.figure(figsize=(10,3))\n",
    "    plt.plot(x, df[col], 'bo', markersize=1)\n",
    "    plt.xlabel('Day')\n",
    "    plt.ylabel(col)    \n",
    "plot(data_production, \"production\")"
   ]
  },
  {
   "cell_type": "markdown",
   "metadata": {},
   "source": [
    "### Question 17\n",
    "\n",
    "Remove any outliers from the `data_production` data frame."
   ]
  },
  {
   "cell_type": "code",
   "execution_count": 75,
   "metadata": {},
   "outputs": [],
   "source": [
    "#// BEGIN_TODO [Q17]\n",
    "data_production = data_production[data_production['production'] < 4]\n",
    "# plot(data_production, \"production\")\n",
    "#// END_TODO [Q17] "
   ]
  },
  {
   "cell_type": "markdown",
   "metadata": {},
   "source": [
    "### Question 18\n",
    "\n",
    "Now that the data has been cleaned and converted, let's take another look. Aggregate the months that are present in the training data, and determine which month of each year is on average the most productive in terms of solar production across the first 4 years (2017-2020). Assign the integer corresponding to the month of each year (start counting from 1 - January=1) to a list on the variable `most_productive_months`, i.e.  `most_productive_months = [1,2,3,4]`."
   ]
  },
  {
   "cell_type": "code",
   "execution_count": 76,
   "metadata": {},
   "outputs": [],
   "source": [
    "# TODO: Explore data to find the most productive months per year."
   ]
  },
  {
   "cell_type": "code",
   "execution_count": 77,
   "metadata": {},
   "outputs": [
    {
     "name": "stdout",
     "output_type": "stream",
     "text": [
      "            production\n",
      "year month            \n",
      "2018 7        0.631438\n",
      "     5        0.579564\n",
      "2020 5        0.570736\n",
      "2019 6        0.514227\n",
      "2017 7        0.507563\n",
      "2020 8        0.491319\n",
      "2017 5        0.489039\n",
      "2020 6        0.481611\n",
      "2019 7        0.466479\n",
      "     4        0.450455\n",
      "2018 4        0.435636\n",
      "2020 9        0.417832\n",
      "     7        0.397872\n",
      "2019 5        0.397800\n",
      "     8        0.390813\n",
      "2018 9        0.357913\n",
      "2017 6        0.319004\n",
      "     4        0.317338\n",
      "     3        0.293624\n",
      "2018 10       0.286957\n",
      "     3        0.281705\n",
      "2020 3        0.281450\n",
      "2019 9        0.268182\n",
      "2018 2        0.263378\n",
      "2019 2        0.182500\n",
      "     3        0.176182\n",
      "2017 10       0.174074\n",
      "2020 10       0.155351\n",
      "     11       0.155106\n",
      "2017 2        0.151938\n",
      "     1        0.147636\n",
      "2018 11       0.142657\n",
      "2017 11       0.138609\n",
      "2020 2        0.135649\n",
      "2019 11       0.128000\n",
      "     10       0.102952\n",
      "     1        0.081731\n",
      "2018 1        0.080591\n",
      "2019 12       0.079652\n",
      "2020 1        0.075448\n",
      "2018 12       0.061932\n",
      "2020 12       0.058577\n",
      "2017 12       0.049468\n",
      "     9        0.045946\n",
      "2021 1        0.000000\n"
     ]
    }
   ],
   "source": [
    "#// BEGIN_TODO [Q18]\n",
    "data_production_grouped = data_production.groupby(['year', 'month']).agg({ \"production\": np.mean})\n",
    "print(data_production_grouped.sort_values('production', ascending=False))\n",
    "most_productive_months = [7,7,6,5]\n",
    "#// END_TODO [Q18]"
   ]
  },
  {
   "cell_type": "markdown",
   "metadata": {},
   "source": [
    "### Question 19\n",
    "\n",
    "Train a model using the weather and energy data to predict the energy production of the solar panels. You can use the following features from the weather dataset:\n",
    "\n",
    "- `'year'`\n",
    "- `'month'`\n",
    "- `'hour'`\n",
    "- `'clouds'`\n",
    "- `'air pressure'`\n",
    "- `'humidity'`\n",
    "- `'visibility'`\n",
    "- `'wind speed'`\n",
    "- `'temperature'`\n",
    "\n",
    "\n",
    "Assign the two best-suited features to the variable `features_production` as a list, i.e. `['year','hour']`. In addition, assign the model trained on these features to the variable `model_production`."
   ]
  },
  {
   "cell_type": "code",
   "execution_count": 78,
   "metadata": {},
   "outputs": [],
   "source": [
    "#// BEGIN_TODO [Q19]\n",
    "from sklearn.ensemble import RandomForestRegressor\n",
    "features_production = ['hour', 'month']\n",
    "X = data_production[features_production].values\n",
    "y = data_production[\"production\"].values\n",
    "X_train, X_test, y_train, y_test = train_test_split(X, y, test_size=0.2, random_state=42)\n",
    "model_production = RandomForestRegressor(n_estimators=200, max_features='sqrt', bootstrap=False, random_state=42)\n",
    "model_production.fit(X_train, y_train)\n",
    "y_pred = model_production.predict(X_test)\n",
    "mad = mean_absolute_error(y_test, y_pred)\n",
    "\n",
    "# print(\"R2 Score: \", model_production.score(X_test, y_test))\n",
    "# print(\"Mean absolute error:\", mad)\n",
    "\n",
    "# all_features = ['year', 'month', 'hour', 'clouds', 'air pressure', 'humidity', 'visibility', 'wind speed', 'temperature']\n",
    "# for feature_1 in all_features:\n",
    "#     for feature_2 in all_features:\n",
    "#         if(feature_1 != feature_2):\n",
    "#             print(feature_1, feature_2)\n",
    "# #         features_production = ['month','hour']\n",
    "#             X = data_production[[feature_1, feature_2]].values\n",
    "#             y = data_production[\"production\"].values\n",
    "#             X_train, X_test, y_train, y_test = train_test_split(X, y, test_size=0.2, random_state=42)\n",
    "#             model_production = RandomForestRegressor(n_estimators=200, max_features='sqrt', bootstrap=False, random_state=42)\n",
    "#             model_production.fit(X_train, y_train)\n",
    "#             y_pred = model_production.predict(X_test)\n",
    "#             mad = mean_absolute_error(y_test, y_pred)\n",
    "\n",
    "#             print(\"R2 Score: \", model_production.score(X_test, y_test))\n",
    "#             print(\"Mean absolute error:\", mad)\n",
    "#             print(\"-------------------------------\")\n",
    "#// END_TODO [Q19]"
   ]
  },
  {
   "cell_type": "markdown",
   "metadata": {},
   "source": [
    "#### Energy consumption for 2021\n",
    "\n",
    "Let's now look into the 2021 energy consumption data."
   ]
  },
  {
   "cell_type": "code",
   "execution_count": 79,
   "metadata": {},
   "outputs": [
    {
     "data": {
      "text/html": [
       "<div>\n",
       "<style scoped>\n",
       "    .dataframe tbody tr th:only-of-type {\n",
       "        vertical-align: middle;\n",
       "    }\n",
       "\n",
       "    .dataframe tbody tr th {\n",
       "        vertical-align: top;\n",
       "    }\n",
       "\n",
       "    .dataframe thead th {\n",
       "        text-align: right;\n",
       "    }\n",
       "</style>\n",
       "<table border=\"1\" class=\"dataframe\">\n",
       "  <thead>\n",
       "    <tr style=\"text-align: right;\">\n",
       "      <th></th>\n",
       "      <th>year</th>\n",
       "      <th>month</th>\n",
       "      <th>day</th>\n",
       "      <th>hour</th>\n",
       "      <th>total_solar_production</th>\n",
       "      <th>production</th>\n",
       "    </tr>\n",
       "  </thead>\n",
       "  <tbody>\n",
       "    <tr>\n",
       "      <th>0</th>\n",
       "      <td>2021</td>\n",
       "      <td>1</td>\n",
       "      <td>1</td>\n",
       "      <td>2</td>\n",
       "      <td>15446.0</td>\n",
       "      <td>0.0</td>\n",
       "    </tr>\n",
       "    <tr>\n",
       "      <th>1</th>\n",
       "      <td>2021</td>\n",
       "      <td>1</td>\n",
       "      <td>1</td>\n",
       "      <td>3</td>\n",
       "      <td>15446.0</td>\n",
       "      <td>0.0</td>\n",
       "    </tr>\n",
       "    <tr>\n",
       "      <th>2</th>\n",
       "      <td>2021</td>\n",
       "      <td>1</td>\n",
       "      <td>1</td>\n",
       "      <td>4</td>\n",
       "      <td>15446.0</td>\n",
       "      <td>0.0</td>\n",
       "    </tr>\n",
       "    <tr>\n",
       "      <th>3</th>\n",
       "      <td>2021</td>\n",
       "      <td>1</td>\n",
       "      <td>1</td>\n",
       "      <td>5</td>\n",
       "      <td>15446.0</td>\n",
       "      <td>0.0</td>\n",
       "    </tr>\n",
       "    <tr>\n",
       "      <th>4</th>\n",
       "      <td>2021</td>\n",
       "      <td>1</td>\n",
       "      <td>1</td>\n",
       "      <td>6</td>\n",
       "      <td>15446.0</td>\n",
       "      <td>0.0</td>\n",
       "    </tr>\n",
       "  </tbody>\n",
       "</table>\n",
       "</div>"
      ],
      "text/plain": [
       "   year  month  day  hour  total_solar_production  production\n",
       "0  2021      1    1     2                 15446.0         0.0\n",
       "1  2021      1    1     3                 15446.0         0.0\n",
       "2  2021      1    1     4                 15446.0         0.0\n",
       "3  2021      1    1     5                 15446.0         0.0\n",
       "4  2021      1    1     6                 15446.0         0.0"
      ]
     },
     "execution_count": 79,
     "metadata": {},
     "output_type": "execute_result"
    }
   ],
   "source": [
    "energy_21 = energy[25189:].dropna().reset_index()\n",
    "energy_21.head()"
   ]
  },
  {
   "cell_type": "markdown",
   "metadata": {},
   "source": [
    "### Question 20\n",
    "\n",
    "Check this new model's performance when predicting the energy consumption for the data from 2021. Is there a shift taking place in the data underlying the model? If so, what kind of shift do you think it is? Assign the integer corresponding to the correct answer to `question_consumption_shift`.\n",
    "\n",
    "1. Sample covariate shift\n",
    "2. Source component shift"
   ]
  },
  {
   "cell_type": "code",
   "execution_count": 80,
   "metadata": {},
   "outputs": [],
   "source": [
    "#// BEGIN_TODO [Q20]\n",
    "# data = pd.merge(energy_21, weather).dropna().reset_index()\n",
    "# y_pred = model_production.predict(data[['month', 'hour']])\n",
    "# mad = mean_absolute_error(data['production'], y_pred)\n",
    "# print(mad)\n",
    "# print(y_pred)\n",
    "question_production_shift = 1\n",
    "#// END_TODO [Q20]"
   ]
  },
  {
   "cell_type": "markdown",
   "metadata": {},
   "source": [
    "# Feedback\n",
    "\n",
    "Please fill in this questionaire to help us improve this course for the next year. Your feedback will be anonymized and will not affect your grade in any way!"
   ]
  },
  {
   "cell_type": "markdown",
   "metadata": {},
   "source": [
    "### How many hours did you spend on these Exercises?\n",
    "\n",
    "Assign a number to `feedback_time`."
   ]
  },
  {
   "cell_type": "code",
   "execution_count": 81,
   "metadata": {
    "scrolled": true
   },
   "outputs": [],
   "source": [
    "#// BEGIN_TODO [Feedback_1]\n",
    "feedback_time = 50 #we did not track really\n",
    "#// END_TODO [Feedback_1]"
   ]
  },
  {
   "cell_type": "markdown",
   "metadata": {},
   "source": [
    "### How difficult did you find these Exercises?\n",
    "\n",
    "Assign an integer to `feedback_difficulty`, on a scale 1 - 10, with 1 being very easy."
   ]
  },
  {
   "cell_type": "code",
   "execution_count": 82,
   "metadata": {},
   "outputs": [],
   "source": [
    "#// BEGIN_TODO [Feedback_2]\n",
    "feedback_difficulty = 8\n",
    "#// END_TODO [Feedback_2]"
   ]
  },
  {
   "cell_type": "markdown",
   "metadata": {},
   "source": [
    "### Did you take the course Foundations of Data Mining?\n",
    "\n",
    "Assign a boolean value to `feedback_foundations` (True or False)."
   ]
  },
  {
   "cell_type": "code",
   "execution_count": 83,
   "metadata": {},
   "outputs": [],
   "source": [
    "#// BEGIN_TODO [Feedback_3]\n",
    "feedback_foundations = True\n",
    "#// END_TODO [Feedback_3]"
   ]
  },
  {
   "cell_type": "markdown",
   "metadata": {},
   "source": [
    "### Did you do any other Machine Learning-related coursework (university/workshop/online/etc)\n",
    "\n",
    "Assign an answer to `feedback_other`, describing any other coursework done."
   ]
  },
  {
   "cell_type": "code",
   "execution_count": 84,
   "metadata": {},
   "outputs": [],
   "source": [
    "#// BEGIN_TODO [Feedback_4]\n",
    "feedback_other = 'University bachelor data analitics for engineering course.'\n",
    "#// END_TODO [Feedback_4]"
   ]
  },
  {
   "cell_type": "markdown",
   "metadata": {},
   "source": [
    "### (Optional) Which parts of the assignment did you like?\n",
    "\n",
    "Assign a string to `feedback_like`."
   ]
  },
  {
   "cell_type": "code",
   "execution_count": 85,
   "metadata": {},
   "outputs": [],
   "source": [
    "#// BEGIN_TODO [Feedback_5]\n",
    "feedback_like = 'Was interesting'\n",
    "#// END_TODO [Feedback_5]"
   ]
  },
  {
   "cell_type": "markdown",
   "metadata": {},
   "source": [
    "### (Optional) Which parts of the assignment could be improved?\n",
    "\n",
    "Assign a string to `feedback_improve`."
   ]
  },
  {
   "cell_type": "code",
   "execution_count": 86,
   "metadata": {},
   "outputs": [],
   "source": [
    "#// BEGIN_TODO [Feedback_6]\n",
    "feedback_improve = 'More guidlines and explanation on models that can be used for that type of data and why they are good to be used.'\n",
    "#// END_TODO [Feedback_6]"
   ]
  }
 ],
 "metadata": {
  "hide_input": false,
  "kernelspec": {
   "display_name": "Python 3 (ipykernel)",
   "language": "python",
   "name": "python3"
  },
  "language_info": {
   "codemirror_mode": {
    "name": "ipython",
    "version": 3
   },
   "file_extension": ".py",
   "mimetype": "text/x-python",
   "name": "python",
   "nbconvert_exporter": "python",
   "pygments_lexer": "ipython3",
   "version": "3.8.2"
  },
  "toc": {
   "base_numbering": 1,
   "nav_menu": {},
   "number_sections": false,
   "sideBar": true,
   "skip_h1_title": false,
   "title_cell": "Table of Contents",
   "title_sidebar": "Contents",
   "toc_cell": false,
   "toc_position": {},
   "toc_section_display": true,
   "toc_window_display": true
  }
 },
 "nbformat": 4,
 "nbformat_minor": 4
}
